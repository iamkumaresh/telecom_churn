{
 "cells": [
  {
   "cell_type": "markdown",
   "metadata": {
    "_uuid": "1c4715fc7dc36b7d45917dfff22b3521c46dd359",
    "colab_type": "text",
    "id": "v2j0Sx0KUoyZ"
   },
   "source": [
    "# Telecom Churn - ML Group Case Study\n",
    "-  Predict churn only on high-value customers\n",
    "-  Predict usage-based definition to define churn\n",
    "-  This project is based on the Indian and Southeast Asian market\n",
    "-  Churn Phases\n",
    "    -  In ‘good’ phase the customer is happy with the service and behaves as usual\n",
    "    -  In ‘action’ phase The customer experience starts to sore in this phase\n",
    "    -  In ‘churn’ phase the customer is said to have churned\n"
   ]
  },
  {
   "cell_type": "code",
   "execution_count": 0,
   "metadata": {
    "_uuid": "2423b0c248896edc8f406a56ffc4fac35681d89c",
    "colab": {},
    "colab_type": "code",
    "id": "YkAZEdH9Uoyb"
   },
   "outputs": [],
   "source": [
    "#Import Libraries\n",
    "import numpy as np\n",
    "import pandas as pd \n",
    "import matplotlib.pyplot as plt\n",
    "import seaborn as sns\n",
    "from mpl_toolkits.mplot3d import Axes3D\n",
    "from sklearn.preprocessing import StandardScaler\n",
    "import os # accessing directory structure\n",
    "\n",
    "\n",
    "%matplotlib inline\n",
    "pd.options.display.float_format = '{:.2f}'.format\n",
    "\n",
    "import warnings\n",
    "warnings.filterwarnings('ignore')"
   ]
  },
  {
   "cell_type": "code",
   "execution_count": 0,
   "metadata": {
    "colab": {},
    "colab_type": "code",
    "id": "V_xEtTuzVxX2"
   },
   "outputs": [],
   "source": [
    "#The following commented code is used to get the telecom_churn_data.csv from the drive because we were working in Google Colab.\n",
    "\n",
    "#Import Libraries to authenticate Google Drive and to get the dataset from the drive.\n",
    "# !pip install -U -q PyDrive\n",
    "# from pydrive.auth import GoogleAuth\n",
    "# from pydrive.drive import GoogleDrive\n",
    "# from google.colab import auth\n",
    "# from oauth2client.client import GoogleCredentials\n",
    "# Authenticate and create the PyDrive client.\n",
    "# auth.authenticate_user()\n",
    "# gauth = GoogleAuth()\n",
    "# gauth.credentials = GoogleCredentials.get_application_default()\n",
    "# drive = GoogleDrive(gauth)\n"
   ]
  },
  {
   "cell_type": "code",
   "execution_count": 0,
   "metadata": {
    "colab": {},
    "colab_type": "code",
    "id": "gchPgh9LV7ta"
   },
   "outputs": [],
   "source": [
    "# The telecom churn dataset is present in the following Google Drive Link\n",
    "# link = \"https://drive.google.com/open?id=1iYXBP71rLFzO1gPwtBe4ixoHIjFFo7Ry\"\n",
    "# fluff, id = link.split('=')\n",
    "# print(id)"
   ]
  },
  {
   "cell_type": "code",
   "execution_count": 0,
   "metadata": {
    "colab": {},
    "colab_type": "code",
    "id": "7v639-wJV-zw"
   },
   "outputs": [],
   "source": [
    "# downloaded = drive.CreateFile({'id':id}) \n",
    "# downloaded.GetContentFile('telecom_churn_data.csv') \n",
    "df_tele_churn = pd.read_csv('telecom_churn_data.csv')"
   ]
  },
  {
   "cell_type": "code",
   "execution_count": 102,
   "metadata": {
    "_uuid": "cff6ffb474cd3568a676cce2d9c289d548ef2c4f",
    "colab": {
     "base_uri": "https://localhost:8080/",
     "height": 253
    },
    "colab_type": "code",
    "id": "Bg_ZTqzkUoyf",
    "outputId": "3c99e501-c711-4f0f-a75e-6c101c472f9d"
   },
   "outputs": [
    {
     "data": {
      "text/html": [
       "<div>\n",
       "<style scoped>\n",
       "    .dataframe tbody tr th:only-of-type {\n",
       "        vertical-align: middle;\n",
       "    }\n",
       "\n",
       "    .dataframe tbody tr th {\n",
       "        vertical-align: top;\n",
       "    }\n",
       "\n",
       "    .dataframe thead th {\n",
       "        text-align: right;\n",
       "    }\n",
       "</style>\n",
       "<table border=\"1\" class=\"dataframe\">\n",
       "  <thead>\n",
       "    <tr style=\"text-align: right;\">\n",
       "      <th></th>\n",
       "      <th>mobile_number</th>\n",
       "      <th>circle_id</th>\n",
       "      <th>loc_og_t2o_mou</th>\n",
       "      <th>std_og_t2o_mou</th>\n",
       "      <th>loc_ic_t2o_mou</th>\n",
       "      <th>last_date_of_month_6</th>\n",
       "      <th>last_date_of_month_7</th>\n",
       "      <th>last_date_of_month_8</th>\n",
       "      <th>last_date_of_month_9</th>\n",
       "      <th>arpu_6</th>\n",
       "      <th>arpu_7</th>\n",
       "      <th>arpu_8</th>\n",
       "      <th>arpu_9</th>\n",
       "      <th>onnet_mou_6</th>\n",
       "      <th>onnet_mou_7</th>\n",
       "      <th>onnet_mou_8</th>\n",
       "      <th>onnet_mou_9</th>\n",
       "      <th>offnet_mou_6</th>\n",
       "      <th>offnet_mou_7</th>\n",
       "      <th>offnet_mou_8</th>\n",
       "      <th>offnet_mou_9</th>\n",
       "      <th>roam_ic_mou_6</th>\n",
       "      <th>roam_ic_mou_7</th>\n",
       "      <th>roam_ic_mou_8</th>\n",
       "      <th>roam_ic_mou_9</th>\n",
       "      <th>roam_og_mou_6</th>\n",
       "      <th>roam_og_mou_7</th>\n",
       "      <th>roam_og_mou_8</th>\n",
       "      <th>roam_og_mou_9</th>\n",
       "      <th>loc_og_t2t_mou_6</th>\n",
       "      <th>loc_og_t2t_mou_7</th>\n",
       "      <th>loc_og_t2t_mou_8</th>\n",
       "      <th>loc_og_t2t_mou_9</th>\n",
       "      <th>loc_og_t2m_mou_6</th>\n",
       "      <th>loc_og_t2m_mou_7</th>\n",
       "      <th>loc_og_t2m_mou_8</th>\n",
       "      <th>loc_og_t2m_mou_9</th>\n",
       "      <th>loc_og_t2f_mou_6</th>\n",
       "      <th>loc_og_t2f_mou_7</th>\n",
       "      <th>loc_og_t2f_mou_8</th>\n",
       "      <th>...</th>\n",
       "      <th>vol_3g_mb_7</th>\n",
       "      <th>vol_3g_mb_8</th>\n",
       "      <th>vol_3g_mb_9</th>\n",
       "      <th>arpu_3g_6</th>\n",
       "      <th>arpu_3g_7</th>\n",
       "      <th>arpu_3g_8</th>\n",
       "      <th>arpu_3g_9</th>\n",
       "      <th>arpu_2g_6</th>\n",
       "      <th>arpu_2g_7</th>\n",
       "      <th>arpu_2g_8</th>\n",
       "      <th>arpu_2g_9</th>\n",
       "      <th>night_pck_user_6</th>\n",
       "      <th>night_pck_user_7</th>\n",
       "      <th>night_pck_user_8</th>\n",
       "      <th>night_pck_user_9</th>\n",
       "      <th>monthly_2g_6</th>\n",
       "      <th>monthly_2g_7</th>\n",
       "      <th>monthly_2g_8</th>\n",
       "      <th>monthly_2g_9</th>\n",
       "      <th>sachet_2g_6</th>\n",
       "      <th>sachet_2g_7</th>\n",
       "      <th>sachet_2g_8</th>\n",
       "      <th>sachet_2g_9</th>\n",
       "      <th>monthly_3g_6</th>\n",
       "      <th>monthly_3g_7</th>\n",
       "      <th>monthly_3g_8</th>\n",
       "      <th>monthly_3g_9</th>\n",
       "      <th>sachet_3g_6</th>\n",
       "      <th>sachet_3g_7</th>\n",
       "      <th>sachet_3g_8</th>\n",
       "      <th>sachet_3g_9</th>\n",
       "      <th>fb_user_6</th>\n",
       "      <th>fb_user_7</th>\n",
       "      <th>fb_user_8</th>\n",
       "      <th>fb_user_9</th>\n",
       "      <th>aon</th>\n",
       "      <th>aug_vbc_3g</th>\n",
       "      <th>jul_vbc_3g</th>\n",
       "      <th>jun_vbc_3g</th>\n",
       "      <th>sep_vbc_3g</th>\n",
       "    </tr>\n",
       "  </thead>\n",
       "  <tbody>\n",
       "    <tr>\n",
       "      <th>0</th>\n",
       "      <td>7000842753</td>\n",
       "      <td>109</td>\n",
       "      <td>0.00</td>\n",
       "      <td>0.00</td>\n",
       "      <td>0.00</td>\n",
       "      <td>6/30/2014</td>\n",
       "      <td>7/31/2014</td>\n",
       "      <td>8/31/2014</td>\n",
       "      <td>9/30/2014</td>\n",
       "      <td>197.38</td>\n",
       "      <td>214.82</td>\n",
       "      <td>213.80</td>\n",
       "      <td>21.10</td>\n",
       "      <td>nan</td>\n",
       "      <td>nan</td>\n",
       "      <td>0.00</td>\n",
       "      <td>nan</td>\n",
       "      <td>nan</td>\n",
       "      <td>nan</td>\n",
       "      <td>0.00</td>\n",
       "      <td>nan</td>\n",
       "      <td>nan</td>\n",
       "      <td>nan</td>\n",
       "      <td>0.00</td>\n",
       "      <td>nan</td>\n",
       "      <td>nan</td>\n",
       "      <td>nan</td>\n",
       "      <td>0.00</td>\n",
       "      <td>nan</td>\n",
       "      <td>nan</td>\n",
       "      <td>nan</td>\n",
       "      <td>0.00</td>\n",
       "      <td>nan</td>\n",
       "      <td>nan</td>\n",
       "      <td>nan</td>\n",
       "      <td>0.00</td>\n",
       "      <td>nan</td>\n",
       "      <td>nan</td>\n",
       "      <td>nan</td>\n",
       "      <td>0.00</td>\n",
       "      <td>...</td>\n",
       "      <td>150.76</td>\n",
       "      <td>109.61</td>\n",
       "      <td>0.00</td>\n",
       "      <td>212.17</td>\n",
       "      <td>212.17</td>\n",
       "      <td>212.17</td>\n",
       "      <td>nan</td>\n",
       "      <td>212.17</td>\n",
       "      <td>212.17</td>\n",
       "      <td>212.17</td>\n",
       "      <td>nan</td>\n",
       "      <td>0.00</td>\n",
       "      <td>0.00</td>\n",
       "      <td>0.00</td>\n",
       "      <td>nan</td>\n",
       "      <td>0</td>\n",
       "      <td>0</td>\n",
       "      <td>0</td>\n",
       "      <td>0</td>\n",
       "      <td>0</td>\n",
       "      <td>0</td>\n",
       "      <td>0</td>\n",
       "      <td>0</td>\n",
       "      <td>1</td>\n",
       "      <td>1</td>\n",
       "      <td>1</td>\n",
       "      <td>0</td>\n",
       "      <td>0</td>\n",
       "      <td>0</td>\n",
       "      <td>0</td>\n",
       "      <td>0</td>\n",
       "      <td>1.00</td>\n",
       "      <td>1.00</td>\n",
       "      <td>1.00</td>\n",
       "      <td>nan</td>\n",
       "      <td>968</td>\n",
       "      <td>30.40</td>\n",
       "      <td>0.00</td>\n",
       "      <td>101.20</td>\n",
       "      <td>3.58</td>\n",
       "    </tr>\n",
       "    <tr>\n",
       "      <th>1</th>\n",
       "      <td>7001865778</td>\n",
       "      <td>109</td>\n",
       "      <td>0.00</td>\n",
       "      <td>0.00</td>\n",
       "      <td>0.00</td>\n",
       "      <td>6/30/2014</td>\n",
       "      <td>7/31/2014</td>\n",
       "      <td>8/31/2014</td>\n",
       "      <td>9/30/2014</td>\n",
       "      <td>34.05</td>\n",
       "      <td>355.07</td>\n",
       "      <td>268.32</td>\n",
       "      <td>86.28</td>\n",
       "      <td>24.11</td>\n",
       "      <td>78.68</td>\n",
       "      <td>7.68</td>\n",
       "      <td>18.34</td>\n",
       "      <td>15.74</td>\n",
       "      <td>99.84</td>\n",
       "      <td>304.76</td>\n",
       "      <td>53.76</td>\n",
       "      <td>0.00</td>\n",
       "      <td>0.00</td>\n",
       "      <td>0.00</td>\n",
       "      <td>0.00</td>\n",
       "      <td>0.00</td>\n",
       "      <td>0.00</td>\n",
       "      <td>0.00</td>\n",
       "      <td>0.00</td>\n",
       "      <td>23.88</td>\n",
       "      <td>74.56</td>\n",
       "      <td>7.68</td>\n",
       "      <td>18.34</td>\n",
       "      <td>11.51</td>\n",
       "      <td>75.94</td>\n",
       "      <td>291.86</td>\n",
       "      <td>53.76</td>\n",
       "      <td>0.00</td>\n",
       "      <td>0.00</td>\n",
       "      <td>0.00</td>\n",
       "      <td>...</td>\n",
       "      <td>0.00</td>\n",
       "      <td>0.00</td>\n",
       "      <td>0.00</td>\n",
       "      <td>nan</td>\n",
       "      <td>0.00</td>\n",
       "      <td>0.00</td>\n",
       "      <td>nan</td>\n",
       "      <td>nan</td>\n",
       "      <td>28.61</td>\n",
       "      <td>7.60</td>\n",
       "      <td>nan</td>\n",
       "      <td>nan</td>\n",
       "      <td>0.00</td>\n",
       "      <td>0.00</td>\n",
       "      <td>nan</td>\n",
       "      <td>0</td>\n",
       "      <td>1</td>\n",
       "      <td>0</td>\n",
       "      <td>0</td>\n",
       "      <td>0</td>\n",
       "      <td>0</td>\n",
       "      <td>2</td>\n",
       "      <td>0</td>\n",
       "      <td>0</td>\n",
       "      <td>0</td>\n",
       "      <td>0</td>\n",
       "      <td>0</td>\n",
       "      <td>0</td>\n",
       "      <td>0</td>\n",
       "      <td>0</td>\n",
       "      <td>0</td>\n",
       "      <td>nan</td>\n",
       "      <td>1.00</td>\n",
       "      <td>1.00</td>\n",
       "      <td>nan</td>\n",
       "      <td>1006</td>\n",
       "      <td>0.00</td>\n",
       "      <td>0.00</td>\n",
       "      <td>0.00</td>\n",
       "      <td>0.00</td>\n",
       "    </tr>\n",
       "    <tr>\n",
       "      <th>2</th>\n",
       "      <td>7001625959</td>\n",
       "      <td>109</td>\n",
       "      <td>0.00</td>\n",
       "      <td>0.00</td>\n",
       "      <td>0.00</td>\n",
       "      <td>6/30/2014</td>\n",
       "      <td>7/31/2014</td>\n",
       "      <td>8/31/2014</td>\n",
       "      <td>9/30/2014</td>\n",
       "      <td>167.69</td>\n",
       "      <td>189.06</td>\n",
       "      <td>210.23</td>\n",
       "      <td>290.71</td>\n",
       "      <td>11.54</td>\n",
       "      <td>55.24</td>\n",
       "      <td>37.26</td>\n",
       "      <td>74.81</td>\n",
       "      <td>143.33</td>\n",
       "      <td>220.59</td>\n",
       "      <td>208.36</td>\n",
       "      <td>118.91</td>\n",
       "      <td>0.00</td>\n",
       "      <td>0.00</td>\n",
       "      <td>0.00</td>\n",
       "      <td>38.49</td>\n",
       "      <td>0.00</td>\n",
       "      <td>0.00</td>\n",
       "      <td>0.00</td>\n",
       "      <td>70.94</td>\n",
       "      <td>7.19</td>\n",
       "      <td>28.74</td>\n",
       "      <td>13.58</td>\n",
       "      <td>14.39</td>\n",
       "      <td>29.34</td>\n",
       "      <td>16.86</td>\n",
       "      <td>38.46</td>\n",
       "      <td>28.16</td>\n",
       "      <td>24.11</td>\n",
       "      <td>21.79</td>\n",
       "      <td>15.61</td>\n",
       "      <td>...</td>\n",
       "      <td>0.00</td>\n",
       "      <td>0.00</td>\n",
       "      <td>8.42</td>\n",
       "      <td>nan</td>\n",
       "      <td>nan</td>\n",
       "      <td>nan</td>\n",
       "      <td>2.84</td>\n",
       "      <td>nan</td>\n",
       "      <td>nan</td>\n",
       "      <td>nan</td>\n",
       "      <td>0.00</td>\n",
       "      <td>nan</td>\n",
       "      <td>nan</td>\n",
       "      <td>nan</td>\n",
       "      <td>0.00</td>\n",
       "      <td>0</td>\n",
       "      <td>0</td>\n",
       "      <td>0</td>\n",
       "      <td>0</td>\n",
       "      <td>0</td>\n",
       "      <td>0</td>\n",
       "      <td>0</td>\n",
       "      <td>1</td>\n",
       "      <td>0</td>\n",
       "      <td>0</td>\n",
       "      <td>0</td>\n",
       "      <td>0</td>\n",
       "      <td>0</td>\n",
       "      <td>0</td>\n",
       "      <td>0</td>\n",
       "      <td>0</td>\n",
       "      <td>nan</td>\n",
       "      <td>nan</td>\n",
       "      <td>nan</td>\n",
       "      <td>1.00</td>\n",
       "      <td>1103</td>\n",
       "      <td>0.00</td>\n",
       "      <td>0.00</td>\n",
       "      <td>4.17</td>\n",
       "      <td>0.00</td>\n",
       "    </tr>\n",
       "    <tr>\n",
       "      <th>3</th>\n",
       "      <td>7001204172</td>\n",
       "      <td>109</td>\n",
       "      <td>0.00</td>\n",
       "      <td>0.00</td>\n",
       "      <td>0.00</td>\n",
       "      <td>6/30/2014</td>\n",
       "      <td>7/31/2014</td>\n",
       "      <td>8/31/2014</td>\n",
       "      <td>9/30/2014</td>\n",
       "      <td>221.34</td>\n",
       "      <td>251.10</td>\n",
       "      <td>508.05</td>\n",
       "      <td>389.50</td>\n",
       "      <td>99.91</td>\n",
       "      <td>54.39</td>\n",
       "      <td>310.98</td>\n",
       "      <td>241.71</td>\n",
       "      <td>123.31</td>\n",
       "      <td>109.01</td>\n",
       "      <td>71.68</td>\n",
       "      <td>113.54</td>\n",
       "      <td>0.00</td>\n",
       "      <td>54.86</td>\n",
       "      <td>44.38</td>\n",
       "      <td>0.00</td>\n",
       "      <td>0.00</td>\n",
       "      <td>28.09</td>\n",
       "      <td>39.04</td>\n",
       "      <td>0.00</td>\n",
       "      <td>73.68</td>\n",
       "      <td>34.81</td>\n",
       "      <td>10.61</td>\n",
       "      <td>15.49</td>\n",
       "      <td>107.43</td>\n",
       "      <td>83.21</td>\n",
       "      <td>22.46</td>\n",
       "      <td>65.46</td>\n",
       "      <td>1.91</td>\n",
       "      <td>0.65</td>\n",
       "      <td>4.91</td>\n",
       "      <td>...</td>\n",
       "      <td>0.00</td>\n",
       "      <td>0.00</td>\n",
       "      <td>0.00</td>\n",
       "      <td>nan</td>\n",
       "      <td>nan</td>\n",
       "      <td>nan</td>\n",
       "      <td>nan</td>\n",
       "      <td>nan</td>\n",
       "      <td>nan</td>\n",
       "      <td>nan</td>\n",
       "      <td>nan</td>\n",
       "      <td>nan</td>\n",
       "      <td>nan</td>\n",
       "      <td>nan</td>\n",
       "      <td>nan</td>\n",
       "      <td>0</td>\n",
       "      <td>0</td>\n",
       "      <td>0</td>\n",
       "      <td>0</td>\n",
       "      <td>0</td>\n",
       "      <td>0</td>\n",
       "      <td>0</td>\n",
       "      <td>0</td>\n",
       "      <td>0</td>\n",
       "      <td>0</td>\n",
       "      <td>0</td>\n",
       "      <td>0</td>\n",
       "      <td>0</td>\n",
       "      <td>0</td>\n",
       "      <td>0</td>\n",
       "      <td>0</td>\n",
       "      <td>nan</td>\n",
       "      <td>nan</td>\n",
       "      <td>nan</td>\n",
       "      <td>nan</td>\n",
       "      <td>2491</td>\n",
       "      <td>0.00</td>\n",
       "      <td>0.00</td>\n",
       "      <td>0.00</td>\n",
       "      <td>0.00</td>\n",
       "    </tr>\n",
       "    <tr>\n",
       "      <th>4</th>\n",
       "      <td>7000142493</td>\n",
       "      <td>109</td>\n",
       "      <td>0.00</td>\n",
       "      <td>0.00</td>\n",
       "      <td>0.00</td>\n",
       "      <td>6/30/2014</td>\n",
       "      <td>7/31/2014</td>\n",
       "      <td>8/31/2014</td>\n",
       "      <td>9/30/2014</td>\n",
       "      <td>261.64</td>\n",
       "      <td>309.88</td>\n",
       "      <td>238.17</td>\n",
       "      <td>163.43</td>\n",
       "      <td>50.31</td>\n",
       "      <td>149.44</td>\n",
       "      <td>83.89</td>\n",
       "      <td>58.78</td>\n",
       "      <td>76.96</td>\n",
       "      <td>91.88</td>\n",
       "      <td>124.26</td>\n",
       "      <td>45.81</td>\n",
       "      <td>0.00</td>\n",
       "      <td>0.00</td>\n",
       "      <td>0.00</td>\n",
       "      <td>0.00</td>\n",
       "      <td>0.00</td>\n",
       "      <td>0.00</td>\n",
       "      <td>0.00</td>\n",
       "      <td>0.00</td>\n",
       "      <td>50.31</td>\n",
       "      <td>149.44</td>\n",
       "      <td>83.89</td>\n",
       "      <td>58.78</td>\n",
       "      <td>67.64</td>\n",
       "      <td>91.88</td>\n",
       "      <td>124.26</td>\n",
       "      <td>37.89</td>\n",
       "      <td>0.00</td>\n",
       "      <td>0.00</td>\n",
       "      <td>0.00</td>\n",
       "      <td>...</td>\n",
       "      <td>0.00</td>\n",
       "      <td>0.00</td>\n",
       "      <td>0.00</td>\n",
       "      <td>0.00</td>\n",
       "      <td>nan</td>\n",
       "      <td>nan</td>\n",
       "      <td>nan</td>\n",
       "      <td>0.00</td>\n",
       "      <td>nan</td>\n",
       "      <td>nan</td>\n",
       "      <td>nan</td>\n",
       "      <td>0.00</td>\n",
       "      <td>nan</td>\n",
       "      <td>nan</td>\n",
       "      <td>nan</td>\n",
       "      <td>0</td>\n",
       "      <td>0</td>\n",
       "      <td>0</td>\n",
       "      <td>0</td>\n",
       "      <td>1</td>\n",
       "      <td>0</td>\n",
       "      <td>0</td>\n",
       "      <td>0</td>\n",
       "      <td>0</td>\n",
       "      <td>0</td>\n",
       "      <td>0</td>\n",
       "      <td>0</td>\n",
       "      <td>0</td>\n",
       "      <td>0</td>\n",
       "      <td>0</td>\n",
       "      <td>0</td>\n",
       "      <td>0.00</td>\n",
       "      <td>nan</td>\n",
       "      <td>nan</td>\n",
       "      <td>nan</td>\n",
       "      <td>1526</td>\n",
       "      <td>0.00</td>\n",
       "      <td>0.00</td>\n",
       "      <td>0.00</td>\n",
       "      <td>0.00</td>\n",
       "    </tr>\n",
       "  </tbody>\n",
       "</table>\n",
       "<p>5 rows × 226 columns</p>\n",
       "</div>"
      ],
      "text/plain": [
       "   mobile_number  circle_id  loc_og_t2o_mou  ...  jul_vbc_3g  jun_vbc_3g sep_vbc_3g\n",
       "0     7000842753        109            0.00  ...        0.00      101.20       3.58\n",
       "1     7001865778        109            0.00  ...        0.00        0.00       0.00\n",
       "2     7001625959        109            0.00  ...        0.00        4.17       0.00\n",
       "3     7001204172        109            0.00  ...        0.00        0.00       0.00\n",
       "4     7000142493        109            0.00  ...        0.00        0.00       0.00\n",
       "\n",
       "[5 rows x 226 columns]"
      ]
     },
     "execution_count": 102,
     "metadata": {
      "tags": []
     },
     "output_type": "execute_result"
    }
   ],
   "source": [
    "#Let's check the first five information\n",
    "df_tele_churn.head()"
   ]
  },
  {
   "cell_type": "code",
   "execution_count": 103,
   "metadata": {
    "_uuid": "a5c8fe49dd8fd891106fcf7551b66f907457b0e6",
    "colab": {
     "base_uri": "https://localhost:8080/",
     "height": 34
    },
    "colab_type": "code",
    "id": "bwNqpNJHUoyj",
    "outputId": "1bf82750-d393-4cd2-9fdf-7254ac0acab4"
   },
   "outputs": [
    {
     "name": "stdout",
     "output_type": "stream",
     "text": [
      "(99999, 226)\n"
     ]
    }
   ],
   "source": [
    "#Let's check the shape of the dataset\n",
    "print(df_tele_churn.shape)"
   ]
  },
  {
   "cell_type": "markdown",
   "metadata": {
    "_uuid": "360d5f8b9cb5c936ca8930b1e00e23cc98e1fcb2",
    "colab_type": "text",
    "id": "mHPUFSGSUoym"
   },
   "source": [
    "### Filter High Value Customer"
   ]
  },
  {
   "cell_type": "code",
   "execution_count": 104,
   "metadata": {
    "_uuid": "4610a2a7d0db489dcfe67a69208ee82e423689c3",
    "colab": {
     "base_uri": "https://localhost:8080/",
     "height": 54
    },
    "colab_type": "code",
    "id": "Ue_fw00RUoyo",
    "outputId": "73b80f16-b2a9-4533-f17c-c99dcf34e444"
   },
   "outputs": [
    {
     "name": "stdout",
     "output_type": "stream",
     "text": [
      "['total_rech_num_6', 'total_rech_num_7', 'total_rech_num_8', 'total_rech_num_9', 'total_rech_amt_6', 'total_rech_amt_7', 'total_rech_amt_8', 'total_rech_amt_9', 'total_rech_data_6', 'total_rech_data_7', 'total_rech_data_8', 'total_rech_data_9']\n"
     ]
    }
   ],
   "source": [
    "#Find columns with recharge info\n",
    "#The total recharge amount is to be used for High Value Customer Filter\n",
    "tot_rech_cols = [col for col in df_tele_churn.columns if 'total_rech_' in col]\n",
    "print(tot_rech_cols)"
   ]
  },
  {
   "cell_type": "code",
   "execution_count": 0,
   "metadata": {
    "_uuid": "443198647e315c7a8b5498938af34bfc3e0ea818",
    "colab": {},
    "colab_type": "code",
    "id": "Lur-GlQZUoyr"
   },
   "outputs": [],
   "source": [
    "#Derive Total Data Recharge Amounts\n",
    "df_tele_churn[\"total_rech_data_amt_6\"] = df_tele_churn[\"total_rech_data_6\"]  * df_tele_churn['av_rech_amt_data_6']\n",
    "df_tele_churn[\"total_rech_data_amt_7\"] = df_tele_churn[\"total_rech_data_7\"]  * df_tele_churn['av_rech_amt_data_7']\n",
    "df_tele_churn[\"total_rech_data_amt_8\"] = df_tele_churn[\"total_rech_data_8\"]  * df_tele_churn['av_rech_amt_data_8']\n",
    "df_tele_churn[\"total_rech_data_amt_9\"] = df_tele_churn[\"total_rech_data_9\"]  * df_tele_churn['av_rech_amt_data_9']"
   ]
  },
  {
   "cell_type": "code",
   "execution_count": 0,
   "metadata": {
    "_uuid": "421ffcfdf16695f9d7c29eecd0136499d2d609fd",
    "colab": {},
    "colab_type": "code",
    "id": "1BmUXveCUoyv"
   },
   "outputs": [],
   "source": [
    "# Drop total_rech_data_* and av_rech_amt_data_*\n",
    "drop_col = [\"total_rech_data_6\", \"total_rech_data_7\", \"total_rech_data_8\", \"total_rech_data_9\", \n",
    "                'av_rech_amt_data_6', 'av_rech_amt_data_7', 'av_rech_amt_data_8', 'av_rech_amt_data_9']\n",
    "df_tele_churn.drop(drop_col, axis=1, inplace=True)"
   ]
  },
  {
   "cell_type": "code",
   "execution_count": 107,
   "metadata": {
    "_uuid": "eb1f661d57aa3aa3469d85bb6c9918911be215b0",
    "colab": {
     "base_uri": "https://localhost:8080/",
     "height": 51
    },
    "colab_type": "code",
    "id": "5Lx8VWbGUoyy",
    "outputId": "94511813-8c97-4004-d330-66d4e1678e96"
   },
   "outputs": [
    {
     "name": "stdout",
     "output_type": "stream",
     "text": [
      "70 percentile of 6th and 7th months avg recharge amount:  478.0\n",
      "Dataframe Shape after Filtering HIgh Value Customers:  (30001, 222)\n"
     ]
    }
   ],
   "source": [
    "#Average of Recharge Amount in 6th and 7th Month\n",
    "av_rech_amt_6n7 = (df_tele_churn[\"total_rech_amt_6\"].fillna(0) + df_tele_churn[\"total_rech_data_amt_6\"].fillna(0) + \n",
    "df_tele_churn[\"total_rech_amt_7\"].fillna(0) + df_tele_churn[\"total_rech_data_amt_7\"].fillna(0))/2.0\n",
    "\n",
    "#70th Percentile of Avg Recharge Amount\n",
    "pc70_6n7 = np.percentile(av_rech_amt_6n7, 70.0)\n",
    "print('70 percentile of 6th and 7th months avg recharge amount: ', pc70_6n7)\n",
    "\n",
    "df_high_val_cust = df_tele_churn[av_rech_amt_6n7 >= pc70_6n7]\n",
    "print('Dataframe Shape after Filtering HIgh Value Customers: ', df_high_val_cust.shape)"
   ]
  },
  {
   "cell_type": "markdown",
   "metadata": {
    "_uuid": "5f84d19ce72460a45e663976118d912f43394c20",
    "colab_type": "text",
    "id": "YVLZChSnUoy2"
   },
   "source": [
    "### Data Cleaning & EDA"
   ]
  },
  {
   "cell_type": "code",
   "execution_count": 108,
   "metadata": {
    "_uuid": "9715e555c9fd42395fde9654d555dc47c8884dfd",
    "colab": {
     "base_uri": "https://localhost:8080/",
     "height": 224
    },
    "colab_type": "code",
    "id": "XwI-k93hUoy3",
    "outputId": "5e249554-251c-48ac-c879-7938135d4ed3"
   },
   "outputs": [
    {
     "data": {
      "text/html": [
       "<div>\n",
       "<style scoped>\n",
       "    .dataframe tbody tr th:only-of-type {\n",
       "        vertical-align: middle;\n",
       "    }\n",
       "\n",
       "    .dataframe tbody tr th {\n",
       "        vertical-align: top;\n",
       "    }\n",
       "\n",
       "    .dataframe thead th {\n",
       "        text-align: right;\n",
       "    }\n",
       "</style>\n",
       "<table border=\"1\" class=\"dataframe\">\n",
       "  <thead>\n",
       "    <tr style=\"text-align: right;\">\n",
       "      <th></th>\n",
       "      <th>circle_id</th>\n",
       "      <th>loc_og_t2o_mou</th>\n",
       "      <th>std_og_t2o_mou</th>\n",
       "      <th>loc_ic_t2o_mou</th>\n",
       "      <th>last_date_of_month_6</th>\n",
       "      <th>last_date_of_month_7</th>\n",
       "      <th>last_date_of_month_8</th>\n",
       "      <th>last_date_of_month_9</th>\n",
       "      <th>std_og_t2c_mou_6</th>\n",
       "      <th>std_og_t2c_mou_7</th>\n",
       "      <th>std_og_t2c_mou_8</th>\n",
       "      <th>std_og_t2c_mou_9</th>\n",
       "      <th>std_ic_t2o_mou_6</th>\n",
       "      <th>std_ic_t2o_mou_7</th>\n",
       "      <th>std_ic_t2o_mou_8</th>\n",
       "      <th>std_ic_t2o_mou_9</th>\n",
       "    </tr>\n",
       "  </thead>\n",
       "  <tbody>\n",
       "    <tr>\n",
       "      <th>0</th>\n",
       "      <td>109</td>\n",
       "      <td>0.00</td>\n",
       "      <td>0.00</td>\n",
       "      <td>0.00</td>\n",
       "      <td>6/30/2014</td>\n",
       "      <td>7/31/2014</td>\n",
       "      <td>8/31/2014</td>\n",
       "      <td>9/30/2014</td>\n",
       "      <td>nan</td>\n",
       "      <td>nan</td>\n",
       "      <td>0.00</td>\n",
       "      <td>nan</td>\n",
       "      <td>nan</td>\n",
       "      <td>nan</td>\n",
       "      <td>0.00</td>\n",
       "      <td>nan</td>\n",
       "    </tr>\n",
       "    <tr>\n",
       "      <th>7</th>\n",
       "      <td>109</td>\n",
       "      <td>0.00</td>\n",
       "      <td>0.00</td>\n",
       "      <td>0.00</td>\n",
       "      <td>6/30/2014</td>\n",
       "      <td>7/31/2014</td>\n",
       "      <td>8/31/2014</td>\n",
       "      <td>9/30/2014</td>\n",
       "      <td>0.00</td>\n",
       "      <td>0.00</td>\n",
       "      <td>0.00</td>\n",
       "      <td>nan</td>\n",
       "      <td>0.00</td>\n",
       "      <td>0.00</td>\n",
       "      <td>0.00</td>\n",
       "      <td>nan</td>\n",
       "    </tr>\n",
       "    <tr>\n",
       "      <th>8</th>\n",
       "      <td>109</td>\n",
       "      <td>0.00</td>\n",
       "      <td>0.00</td>\n",
       "      <td>0.00</td>\n",
       "      <td>6/30/2014</td>\n",
       "      <td>7/31/2014</td>\n",
       "      <td>8/31/2014</td>\n",
       "      <td>9/30/2014</td>\n",
       "      <td>0.00</td>\n",
       "      <td>0.00</td>\n",
       "      <td>0.00</td>\n",
       "      <td>0.00</td>\n",
       "      <td>0.00</td>\n",
       "      <td>0.00</td>\n",
       "      <td>0.00</td>\n",
       "      <td>0.00</td>\n",
       "    </tr>\n",
       "    <tr>\n",
       "      <th>21</th>\n",
       "      <td>109</td>\n",
       "      <td>0.00</td>\n",
       "      <td>0.00</td>\n",
       "      <td>0.00</td>\n",
       "      <td>6/30/2014</td>\n",
       "      <td>7/31/2014</td>\n",
       "      <td>8/31/2014</td>\n",
       "      <td>9/30/2014</td>\n",
       "      <td>0.00</td>\n",
       "      <td>0.00</td>\n",
       "      <td>0.00</td>\n",
       "      <td>0.00</td>\n",
       "      <td>0.00</td>\n",
       "      <td>0.00</td>\n",
       "      <td>0.00</td>\n",
       "      <td>0.00</td>\n",
       "    </tr>\n",
       "    <tr>\n",
       "      <th>23</th>\n",
       "      <td>109</td>\n",
       "      <td>0.00</td>\n",
       "      <td>0.00</td>\n",
       "      <td>0.00</td>\n",
       "      <td>6/30/2014</td>\n",
       "      <td>7/31/2014</td>\n",
       "      <td>8/31/2014</td>\n",
       "      <td>9/30/2014</td>\n",
       "      <td>0.00</td>\n",
       "      <td>0.00</td>\n",
       "      <td>0.00</td>\n",
       "      <td>0.00</td>\n",
       "      <td>0.00</td>\n",
       "      <td>0.00</td>\n",
       "      <td>0.00</td>\n",
       "      <td>0.00</td>\n",
       "    </tr>\n",
       "  </tbody>\n",
       "</table>\n",
       "</div>"
      ],
      "text/plain": [
       "    circle_id  loc_og_t2o_mou  ...  std_ic_t2o_mou_8  std_ic_t2o_mou_9\n",
       "0         109            0.00  ...              0.00               nan\n",
       "7         109            0.00  ...              0.00               nan\n",
       "8         109            0.00  ...              0.00              0.00\n",
       "21        109            0.00  ...              0.00              0.00\n",
       "23        109            0.00  ...              0.00              0.00\n",
       "\n",
       "[5 rows x 16 columns]"
      ]
     },
     "execution_count": 108,
     "metadata": {
      "tags": []
     },
     "output_type": "execute_result"
    }
   ],
   "source": [
    "#List of columns with only 1 unqiue value\n",
    "col_list = df_high_val_cust.loc[:,df_high_val_cust.apply(pd.Series.nunique) == 1]\n",
    "col_list.head(5)\n"
   ]
  },
  {
   "cell_type": "code",
   "execution_count": 109,
   "metadata": {
    "_uuid": "845d268cb8ddb42bfd20e12e8ece129ad06ccc86",
    "colab": {
     "base_uri": "https://localhost:8080/",
     "height": 34
    },
    "colab_type": "code",
    "id": "IpPe4qyRUoy7",
    "outputId": "33dc88bf-884e-4888-d211-77ab838491de"
   },
   "outputs": [
    {
     "data": {
      "text/plain": [
       "(30001, 206)"
      ]
     },
     "execution_count": 109,
     "metadata": {
      "tags": []
     },
     "output_type": "execute_result"
    }
   ],
   "source": [
    "#Remove Columns with only 1 unique value\n",
    "df_high_val_cust = df_high_val_cust.loc[:,df_high_val_cust.apply(pd.Series.nunique) != 1]\n",
    "df_high_val_cust.shape\n"
   ]
  },
  {
   "cell_type": "markdown",
   "metadata": {
    "_uuid": "b8aa5565325abe14221cbf14a560ebe43782f0c8",
    "colab_type": "text",
    "id": "ffea4lbNUoy_"
   },
   "source": [
    "#### Covert Column Names to meaningfull names"
   ]
  },
  {
   "cell_type": "code",
   "execution_count": 0,
   "metadata": {
    "_uuid": "127ad22fa8c89fc1a1a856b17fea7cb45f8d751e",
    "colab": {},
    "colab_type": "code",
    "id": "HBAGztMjUozA"
   },
   "outputs": [],
   "source": [
    "#Rename Columns with Meaning full Names\n",
    "\n",
    "df_high_val_cust.rename(columns={'jun_vbc_3g': 'vbc_3g_6', 'jul_vbc_3g': 'vbc_3g_7', 'aug_vbc_3g': 'vbc_3g_8', 'sep_vbc_3g': 'vbc_3g_9'}, inplace=True)"
   ]
  },
  {
   "cell_type": "markdown",
   "metadata": {
    "_uuid": "2f5c97e3488609cdd4c779b4898625eb28d7cce7",
    "colab_type": "text",
    "id": "dznvM3fPUozI"
   },
   "source": [
    "#### Check Columns that can be changed to integers, floats or other types"
   ]
  },
  {
   "cell_type": "code",
   "execution_count": 111,
   "metadata": {
    "_uuid": "a06bc4f728b2c970e4588a5de5483553058bd5d7",
    "colab": {
     "base_uri": "https://localhost:8080/",
     "height": 170
    },
    "colab_type": "code",
    "id": "7fwk932zUozJ",
    "outputId": "458ee215-830d-4dee-978e-defc192fbe34"
   },
   "outputs": [
    {
     "name": "stdout",
     "output_type": "stream",
     "text": [
      "date_of_last_rech_6         6/21/2014\n",
      "date_of_last_rech_7         7/16/2014\n",
      "date_of_last_rech_8          8/8/2014\n",
      "date_of_last_rech_9         9/28/2014\n",
      "date_of_last_rech_data_6    6/21/2014\n",
      "date_of_last_rech_data_7    7/16/2014\n",
      "date_of_last_rech_data_8     8/8/2014\n",
      "date_of_last_rech_data_9          NaN\n",
      "Name: 0, dtype: object\n"
     ]
    }
   ],
   "source": [
    "#Check for Columns that can be changed to integers, floats or other types\n",
    "object_col_data = df_high_val_cust.select_dtypes(include=['object'])\n",
    "print(object_col_data.iloc[0])"
   ]
  },
  {
   "cell_type": "code",
   "execution_count": 112,
   "metadata": {
    "_uuid": "6b1fe4c9a31bb5b4369011cc78e41a1097afc624",
    "colab": {
     "base_uri": "https://localhost:8080/",
     "height": 34
    },
    "colab_type": "code",
    "id": "QCeBgURPUozN",
    "outputId": "306bea58-7ad0-4d17-ee25-eb0708008ad9"
   },
   "outputs": [
    {
     "data": {
      "text/plain": [
       "(30001, 206)"
      ]
     },
     "execution_count": 112,
     "metadata": {
      "tags": []
     },
     "output_type": "execute_result"
    }
   ],
   "source": [
    "#Convert the object datatype to datetime datatype\n",
    "for col in object_col_data.columns:\n",
    "    df_high_val_cust[col] = pd.to_datetime(df_high_val_cust[col])\n",
    "\n",
    "df_high_val_cust.shape"
   ]
  },
  {
   "cell_type": "markdown",
   "metadata": {
    "_uuid": "d3eb8fb83171c5631df3838021033f46222f0fa7",
    "colab_type": "text",
    "id": "L2KspGdrUozR"
   },
   "source": [
    "#### Drop Columns with > 30% of missing values"
   ]
  },
  {
   "cell_type": "code",
   "execution_count": 113,
   "metadata": {
    "_uuid": "70a988dcce4def809b6bb9ee3fa43fbdc37f9af5",
    "colab": {
     "base_uri": "https://localhost:8080/",
     "height": 493
    },
    "colab_type": "code",
    "id": "kP_xHrF5UozT",
    "outputId": "d87e9cef-5c68-440f-887b-76a0056bf483"
   },
   "outputs": [
    {
     "data": {
      "text/plain": [
       "date_of_last_rech_data_6    date_of_last_rech_data_6\n",
       "date_of_last_rech_data_7    date_of_last_rech_data_7\n",
       "date_of_last_rech_data_8    date_of_last_rech_data_8\n",
       "max_rech_data_6                      max_rech_data_6\n",
       "max_rech_data_7                      max_rech_data_7\n",
       "max_rech_data_8                      max_rech_data_8\n",
       "count_rech_2g_6                      count_rech_2g_6\n",
       "count_rech_2g_7                      count_rech_2g_7\n",
       "count_rech_2g_8                      count_rech_2g_8\n",
       "count_rech_3g_6                      count_rech_3g_6\n",
       "count_rech_3g_7                      count_rech_3g_7\n",
       "count_rech_3g_8                      count_rech_3g_8\n",
       "arpu_3g_6                                  arpu_3g_6\n",
       "arpu_3g_7                                  arpu_3g_7\n",
       "arpu_3g_8                                  arpu_3g_8\n",
       "arpu_2g_6                                  arpu_2g_6\n",
       "arpu_2g_7                                  arpu_2g_7\n",
       "arpu_2g_8                                  arpu_2g_8\n",
       "night_pck_user_6                    night_pck_user_6\n",
       "night_pck_user_7                    night_pck_user_7\n",
       "night_pck_user_8                    night_pck_user_8\n",
       "fb_user_6                                  fb_user_6\n",
       "fb_user_7                                  fb_user_7\n",
       "fb_user_8                                  fb_user_8\n",
       "total_rech_data_amt_6          total_rech_data_amt_6\n",
       "total_rech_data_amt_7          total_rech_data_amt_7\n",
       "total_rech_data_amt_8          total_rech_data_amt_8\n",
       "Name: column_name, dtype: object"
      ]
     },
     "execution_count": 113,
     "metadata": {
      "tags": []
     },
     "output_type": "execute_result"
    }
   ],
   "source": [
    "#Drop Columns with > 30% of missing values and excluding the september Month\n",
    "columns = df_high_val_cust.columns\n",
    "percent_missing = df_high_val_cust.isnull().sum() * 100 / len(df_high_val_cust)\n",
    "missing_value_df = pd.DataFrame({'column_name': columns,\n",
    "                                 'percent_missing': percent_missing})\n",
    "\n",
    "drop_col = missing_value_df.loc[(missing_value_df[\"column_name\"].str.contains('_9')==False) & (missing_value_df[\"percent_missing\"] > 30.0)][\"column_name\"]\n",
    "drop_col"
   ]
  },
  {
   "cell_type": "code",
   "execution_count": 114,
   "metadata": {
    "_uuid": "a1f61b4836ee71c53338170e3251936d1c7aed12",
    "colab": {
     "base_uri": "https://localhost:8080/",
     "height": 34
    },
    "colab_type": "code",
    "id": "Ttpd2_vMUozX",
    "outputId": "f6149e06-7e55-4d7e-ab87-ce688b74bd80"
   },
   "outputs": [
    {
     "data": {
      "text/plain": [
       "(30001, 179)"
      ]
     },
     "execution_count": 114,
     "metadata": {
      "tags": []
     },
     "output_type": "execute_result"
    }
   ],
   "source": [
    "#Drop the columns which has missing values > 30%\n",
    "df_high_val_cust.drop(drop_col, axis=1, inplace=True)\n",
    "df_high_val_cust.shape"
   ]
  },
  {
   "cell_type": "code",
   "execution_count": 115,
   "metadata": {
    "_uuid": "2f0aa338416473f385bca1288d96c6fca3eed76c",
    "colab": {
     "base_uri": "https://localhost:8080/",
     "height": 34
    },
    "colab_type": "code",
    "id": "aa3qLXSJUoza",
    "outputId": "fa72a580-db96-4f5e-c78e-a988b8661f16"
   },
   "outputs": [
    {
     "data": {
      "text/plain": [
       "(30001, 179)"
      ]
     },
     "execution_count": 115,
     "metadata": {
      "tags": []
     },
     "output_type": "execute_result"
    }
   ],
   "source": [
    "#Drop Rows with all Null Values\n",
    "df_high_val_cust = df_high_val_cust.dropna(how='all',axis=0) \n",
    "df_high_val_cust.shape"
   ]
  },
  {
   "cell_type": "markdown",
   "metadata": {
    "_uuid": "07199faed722eeca3d1aaa2fc8011db13dc8da09",
    "colab_type": "text",
    "id": "HJ_9OngTUozj"
   },
   "source": [
    "#### Drop Highly Correlated Columns"
   ]
  },
  {
   "cell_type": "code",
   "execution_count": 116,
   "metadata": {
    "_uuid": "79a2859ce86b7e0a3d12cee9f60c2a247048bdf7",
    "colab": {
     "base_uri": "https://localhost:8080/",
     "height": 1000
    },
    "colab_type": "code",
    "id": "K92Ka5E5Uozk",
    "outputId": "69e42134-11e4-4a76-a1cd-088654054352"
   },
   "outputs": [
    {
     "data": {
      "text/plain": [
       "monthly_3g_6        vol_3g_mb_6        0.60\n",
       "total_ic_mou_7      loc_ic_t2t_mou_7   0.60\n",
       "arpu_2g_9           count_rech_3g_9    0.60\n",
       "total_og_mou_8      onnet_mou_9        0.60\n",
       "total_rech_amt_8    arpu_6             0.60\n",
       "roam_og_mou_8       roam_og_mou_7      0.60\n",
       "offnet_mou_8        offnet_mou_6       0.60\n",
       "total_ic_mou_8      loc_ic_t2t_mou_8   0.61\n",
       "std_ic_mou_6        std_ic_t2m_mou_7   0.61\n",
       "std_og_mou_9        std_og_t2m_mou_8   0.61\n",
       "arpu_2g_9           vol_3g_mb_8        0.61\n",
       "std_ic_mou_7        std_ic_t2m_mou_8   0.61\n",
       "loc_og_mou_6        loc_og_t2t_mou_7   0.61\n",
       "vbc_3g_8            vol_3g_mb_8        0.61\n",
       "std_og_mou_8        std_og_t2m_mou_9   0.61\n",
       "std_og_mou_9        offnet_mou_9       0.61\n",
       "total_rech_amt_8    total_rech_amt_6   0.61\n",
       "total_og_mou_6      std_og_t2t_mou_6   0.61\n",
       "total_rech_amt_6    arpu_8             0.61\n",
       "std_og_mou_7        std_og_t2t_mou_8   0.61\n",
       "roam_ic_mou_8       roam_ic_mou_7      0.61\n",
       "monthly_3g_7        monthly_3g_6       0.61\n",
       "last_day_rch_amt_7  max_rech_amt_7     0.61\n",
       "total_ic_mou_6      loc_ic_t2t_mou_6   0.61\n",
       "arpu_8              arpu_6             0.61\n",
       "std_og_mou_9        std_og_t2t_mou_8   0.61\n",
       "std_ic_t2t_mou_9    std_ic_t2t_mou_7   0.61\n",
       "total_ic_mou_6      loc_ic_mou_9       0.61\n",
       "std_og_t2m_mou_7    offnet_mou_6       0.61\n",
       "total_og_mou_7      std_og_mou_6       0.62\n",
       "                                       ... \n",
       "loc_og_mou_8        loc_og_mou_7       0.84\n",
       "loc_ic_mou_8        loc_ic_mou_7       0.84\n",
       "std_ic_mou_8        std_ic_t2m_mou_8   0.85\n",
       "loc_ic_mou_8        loc_ic_t2m_mou_8   0.85\n",
       "loc_ic_mou_9        loc_ic_mou_8       0.85\n",
       "loc_og_t2t_mou_9    loc_og_t2t_mou_8   0.85\n",
       "total_og_mou_7      std_og_mou_7       0.85\n",
       "total_og_mou_8      std_og_mou_8       0.85\n",
       "std_og_t2t_mou_9    onnet_mou_9        0.85\n",
       "std_og_t2m_mou_8    offnet_mou_8       0.85\n",
       "loc_og_mou_9        loc_og_mou_8       0.85\n",
       "std_og_t2m_mou_7    offnet_mou_7       0.85\n",
       "std_og_t2t_mou_6    onnet_mou_6        0.86\n",
       "std_og_t2t_mou_7    onnet_mou_7        0.86\n",
       "std_og_t2t_mou_8    onnet_mou_8        0.86\n",
       "sachet_3g_9         count_rech_3g_9    0.87\n",
       "total_ic_mou_7      loc_ic_mou_7       0.88\n",
       "isd_og_mou_9        isd_og_mou_7       0.89\n",
       "                    isd_og_mou_8       0.89\n",
       "total_ic_mou_8      loc_ic_mou_8       0.89\n",
       "total_ic_mou_6      loc_ic_mou_6       0.90\n",
       "total_ic_mou_9      loc_ic_mou_9       0.90\n",
       "isd_og_mou_7        isd_og_mou_6       0.93\n",
       "total_rech_amt_7    arpu_7             0.94\n",
       "total_rech_amt_6    arpu_6             0.95\n",
       "isd_og_mou_8        isd_og_mou_7       0.95\n",
       "                    isd_og_mou_6       0.95\n",
       "total_rech_amt_9    arpu_9             0.95\n",
       "total_rech_amt_8    arpu_8             0.96\n",
       "sachet_2g_9         count_rech_2g_9    0.98\n",
       "Length: 337, dtype: float64"
      ]
     },
     "execution_count": 116,
     "metadata": {
      "tags": []
     },
     "output_type": "execute_result"
    }
   ],
   "source": [
    "#Find Highly correlated data and drop Highly Correlated Columns\n",
    "cor = df_high_val_cust.corr()\n",
    "cor.loc[:,:] = np.tril(cor, k=-1)\n",
    "cor = cor.stack()\n",
    "cor[(cor > 0.60) | (cor < -0.60)].sort_values()"
   ]
  },
  {
   "cell_type": "code",
   "execution_count": 117,
   "metadata": {
    "_uuid": "82231cb4da11dd847aab9f05a0da35f02343c4f0",
    "colab": {
     "base_uri": "https://localhost:8080/",
     "height": 34
    },
    "colab_type": "code",
    "id": "NxqhhSAHUozp",
    "outputId": "5f20397b-28f7-4d6d-e41d-ac4033bf25b7"
   },
   "outputs": [
    {
     "data": {
      "text/plain": [
       "(30001, 124)"
      ]
     },
     "execution_count": 117,
     "metadata": {
      "tags": []
     },
     "output_type": "execute_result"
    }
   ],
   "source": [
    "drop_col_list = ['loc_og_t2m_mou_6','std_og_t2t_mou_6','std_og_t2t_mou_7','std_og_t2t_mou_8','std_og_t2t_mou_9','std_og_t2m_mou_6',\n",
    "                'std_og_t2m_mou_7','std_og_t2m_mou_8','std_og_t2m_mou_9','total_og_mou_6','total_og_mou_7','total_og_mou_8',\n",
    "                'loc_ic_t2t_mou_6','loc_ic_t2t_mou_7','loc_ic_t2t_mou_8','loc_ic_t2t_mou_9','loc_ic_t2m_mou_6','loc_ic_t2m_mou_7','loc_ic_t2m_mou_8','loc_ic_t2m_mou_9',\n",
    "                'std_ic_t2m_mou_6','std_ic_t2m_mou_7','std_ic_t2m_mou_8','std_ic_t2m_mou_9','total_ic_mou_6','total_ic_mou_7','total_ic_mou_8',\n",
    "                'total_rech_amt_6','total_rech_amt_7','total_rech_amt_8','total_rech_amt_9','arpu_2g_9','count_rech_2g_9','count_rech_3g_9','vol_3g_mb_6','vol_3g_mb_7','vol_3g_mb_8',\n",
    "                'loc_og_t2t_mou_6','loc_og_t2t_mou_7','loc_og_t2t_mou_8','loc_og_t2t_mou_9','loc_og_t2f_mou_6','loc_og_t2f_mou_7','loc_og_t2f_mou_8','loc_og_t2f_mou_9',\n",
    "                'loc_og_t2m_mou_6','loc_og_t2m_mou_7','loc_og_t2m_mou_8','loc_og_t2m_mou_9','loc_ic_t2f_mou_6','loc_ic_t2f_mou_7','loc_ic_t2f_mou_8','loc_ic_t2f_mou_9',\n",
    "                'date_of_last_rech_6','date_of_last_rech_7','date_of_last_rech_8']\n",
    "                 \n",
    "df_high_val_cust.drop(drop_col_list, axis=1, inplace=True)\n",
    "df_high_val_cust.shape"
   ]
  },
  {
   "cell_type": "markdown",
   "metadata": {
    "_uuid": "db8344387076b42a18049a857f88eb5ef6495d30",
    "colab_type": "text",
    "id": "5SZxq6hbUozx"
   },
   "source": [
    "### Tag Churners"
   ]
  },
  {
   "cell_type": "code",
   "execution_count": 118,
   "metadata": {
    "_uuid": "a611524c93afd3788a1875f34e1efdd34dea9ca4",
    "colab": {
     "base_uri": "https://localhost:8080/",
     "height": 204
    },
    "colab_type": "code",
    "id": "8NiqCA_1Uozz",
    "outputId": "003f671d-6926-487c-aa18-82b45392f754"
   },
   "outputs": [
    {
     "data": {
      "text/html": [
       "<div>\n",
       "<style scoped>\n",
       "    .dataframe tbody tr th:only-of-type {\n",
       "        vertical-align: middle;\n",
       "    }\n",
       "\n",
       "    .dataframe tbody tr th {\n",
       "        vertical-align: top;\n",
       "    }\n",
       "\n",
       "    .dataframe thead th {\n",
       "        text-align: right;\n",
       "    }\n",
       "</style>\n",
       "<table border=\"1\" class=\"dataframe\">\n",
       "  <thead>\n",
       "    <tr style=\"text-align: right;\">\n",
       "      <th></th>\n",
       "      <th>total_ic_mou_9</th>\n",
       "      <th>total_og_mou_9</th>\n",
       "      <th>vol_2g_mb_9</th>\n",
       "      <th>vol_3g_mb_9</th>\n",
       "    </tr>\n",
       "  </thead>\n",
       "  <tbody>\n",
       "    <tr>\n",
       "      <th>0</th>\n",
       "      <td>0.00</td>\n",
       "      <td>0.00</td>\n",
       "      <td>0.00</td>\n",
       "      <td>0.00</td>\n",
       "    </tr>\n",
       "    <tr>\n",
       "      <th>7</th>\n",
       "      <td>0.00</td>\n",
       "      <td>0.00</td>\n",
       "      <td>0.00</td>\n",
       "      <td>0.00</td>\n",
       "    </tr>\n",
       "    <tr>\n",
       "      <th>8</th>\n",
       "      <td>34.91</td>\n",
       "      <td>142.18</td>\n",
       "      <td>0.00</td>\n",
       "      <td>0.00</td>\n",
       "    </tr>\n",
       "    <tr>\n",
       "      <th>21</th>\n",
       "      <td>252.61</td>\n",
       "      <td>1031.53</td>\n",
       "      <td>0.00</td>\n",
       "      <td>0.00</td>\n",
       "    </tr>\n",
       "    <tr>\n",
       "      <th>23</th>\n",
       "      <td>127.48</td>\n",
       "      <td>127.63</td>\n",
       "      <td>13.93</td>\n",
       "      <td>314.74</td>\n",
       "    </tr>\n",
       "  </tbody>\n",
       "</table>\n",
       "</div>"
      ],
      "text/plain": [
       "    total_ic_mou_9  total_og_mou_9  vol_2g_mb_9  vol_3g_mb_9\n",
       "0             0.00            0.00         0.00         0.00\n",
       "7             0.00            0.00         0.00         0.00\n",
       "8            34.91          142.18         0.00         0.00\n",
       "21          252.61         1031.53         0.00         0.00\n",
       "23          127.48          127.63        13.93       314.74"
      ]
     },
     "execution_count": 118,
     "metadata": {
      "tags": []
     },
     "output_type": "execute_result"
    }
   ],
   "source": [
    "df_high_val_cust[['total_ic_mou_9','total_og_mou_9','vol_2g_mb_9','vol_3g_mb_9']].head()"
   ]
  },
  {
   "cell_type": "code",
   "execution_count": 0,
   "metadata": {
    "_uuid": "5951f9c366ec900a7057f09909aa02236025e918",
    "colab": {},
    "colab_type": "code",
    "id": "0OkyecCUUoz-"
   },
   "outputs": [],
   "source": [
    "#Let's churned the customers (churn=1, else 0) \n",
    "df_high_val_cust['churn'] = np.where(df_high_val_cust[['total_ic_mou_9','total_og_mou_9','vol_2g_mb_9','vol_3g_mb_9']].sum(axis=1) == 0, \n",
    "                                   1,\n",
    "                                   0)"
   ]
  },
  {
   "cell_type": "code",
   "execution_count": 120,
   "metadata": {
    "_uuid": "772b035896d3de0ff4fda14a6dc40e7d822183a5",
    "colab": {
     "base_uri": "https://localhost:8080/",
     "height": 119
    },
    "colab_type": "code",
    "id": "N-AYW4fAUo0B",
    "outputId": "c119d488-33f5-4f80-8ff2-9f9493856c79"
   },
   "outputs": [
    {
     "data": {
      "text/plain": [
       "0     1\n",
       "7     1\n",
       "8     0\n",
       "21    0\n",
       "23    0\n",
       "Name: churn, dtype: int64"
      ]
     },
     "execution_count": 120,
     "metadata": {
      "tags": []
     },
     "output_type": "execute_result"
    }
   ],
   "source": [
    "df_high_val_cust['churn'].head()"
   ]
  },
  {
   "cell_type": "code",
   "execution_count": 121,
   "metadata": {
    "_uuid": "c8a51cba372d5f9855d5e5f752fb3b3e58d6a374",
    "colab": {
     "base_uri": "https://localhost:8080/",
     "height": 71
    },
    "colab_type": "code",
    "id": "Z2PggfVaUo0G",
    "outputId": "5bacb28f-f22a-4f5e-a247-b03274398e08"
   },
   "outputs": [
    {
     "name": "stdout",
     "output_type": "stream",
     "text": [
      "['arpu_9', 'onnet_mou_9', 'offnet_mou_9', 'roam_ic_mou_9', 'roam_og_mou_9', 'loc_og_t2c_mou_9', 'loc_og_mou_9', 'std_og_t2f_mou_9', 'std_og_mou_9', 'isd_og_mou_9', 'spl_og_mou_9', 'og_others_9', 'total_og_mou_9', 'loc_ic_mou_9', 'std_ic_t2t_mou_9', 'std_ic_t2f_mou_9', 'std_ic_mou_9', 'total_ic_mou_9', 'spl_ic_mou_9', 'isd_ic_mou_9', 'ic_others_9', 'total_rech_num_9', 'max_rech_amt_9', 'date_of_last_rech_9', 'last_day_rch_amt_9', 'date_of_last_rech_data_9', 'max_rech_data_9', 'vol_2g_mb_9', 'vol_3g_mb_9', 'arpu_3g_9', 'night_pck_user_9', 'monthly_2g_9', 'sachet_2g_9', 'monthly_3g_9', 'sachet_3g_9', 'fb_user_9', 'vbc_3g_9', 'total_rech_data_amt_9']\n"
     ]
    },
    {
     "data": {
      "text/plain": [
       "(30001, 87)"
      ]
     },
     "execution_count": 121,
     "metadata": {
      "tags": []
     },
     "output_type": "execute_result"
    }
   ],
   "source": [
    "#Remove All september month related columns\n",
    "drop_cols = [col for col in df_high_val_cust.columns if '_9' in col]\n",
    "print(drop_cols)\n",
    "\n",
    "df_high_val_cust.drop(drop_cols, axis=1, inplace=True)\n",
    "\n",
    "df_high_val_cust.shape"
   ]
  },
  {
   "cell_type": "markdown",
   "metadata": {
    "_uuid": "2e01608d9b1ab083e9a7b3094ebe3f43f9a6bd19",
    "colab_type": "text",
    "id": "wfK3926LUo0f"
   },
   "source": [
    "### Reduce the No of Columns by Creating New Meaningful Features"
   ]
  },
  {
   "cell_type": "markdown",
   "metadata": {
    "_uuid": "6a6c2d0d4199864deafa6122665374d933f766c7",
    "colab_type": "text",
    "id": "674u_BIXUo0g"
   },
   "source": [
    "Create Features with Average of 6th & 7th Month Since it's a \"Good\" Phase and Keep the 8th month untouched as it's \"Action\" Phase, for now to see if it can give any additional insight"
   ]
  },
  {
   "cell_type": "code",
   "execution_count": 122,
   "metadata": {
    "_uuid": "a92134bceaeccb11e82b1334f33107efe1a9a9bc",
    "colab": {
     "base_uri": "https://localhost:8080/",
     "height": 510
    },
    "colab_type": "code",
    "id": "VWXgz2MiUo0i",
    "outputId": "93c0eec8-96db-4c90-f6c6-880154fb98a1"
   },
   "outputs": [
    {
     "name": "stdout",
     "output_type": "stream",
     "text": [
      "(30001, 87)\n",
      "arpu\n",
      "onnet_mou\n",
      "offnet_mou\n",
      "roam_ic_mou\n",
      "roam_og_mou\n",
      "loc_og_t2c_mou\n",
      "loc_og_mou\n",
      "std_og_t2f_mou\n",
      "std_og_mou\n",
      "isd_og_mou\n",
      "spl_og_mou\n",
      "og_others\n",
      "loc_ic_mou\n",
      "std_ic_t2t_mou\n",
      "std_ic_t2f_mou\n",
      "std_ic_mou\n",
      "spl_ic_mou\n",
      "isd_ic_mou\n",
      "ic_others\n",
      "total_rech_num\n",
      "max_rech_amt\n",
      "last_day_rch_amt\n",
      "vol_2g_mb\n",
      "monthly_2g\n",
      "sachet_2g\n",
      "monthly_3g\n",
      "sachet_3g\n",
      "vbc_3g\n"
     ]
    }
   ],
   "source": [
    "col_list = df_high_val_cust.filter(regex='_6|_7').columns.str[:-2]\n",
    "col_list.unique()\n",
    "\n",
    "print (df_high_val_cust.shape)\n",
    "\n",
    "for idx, col in enumerate(col_list.unique()):\n",
    "    print(col)\n",
    "    avg_col_name = \"avg_\"+col+\"_av67\"\n",
    "    col_6 = col+\"_6\"\n",
    "    col_7 = col+\"_7\"\n",
    "    df_high_val_cust[avg_col_name] = (df_high_val_cust[col_6]  + df_high_val_cust[col_7])/ 2\n",
    "\n"
   ]
  },
  {
   "cell_type": "code",
   "execution_count": 123,
   "metadata": {
    "_uuid": "4acd96113550155f3e88a49c8b5a1cae30b8dedf",
    "colab": {
     "base_uri": "https://localhost:8080/",
     "height": 51
    },
    "colab_type": "code",
    "id": "FgpeYYyiUo0l",
    "outputId": "4419d9a9-e3c0-4b09-f148-dff7a3d00c58"
   },
   "outputs": [
    {
     "name": "stdout",
     "output_type": "stream",
     "text": [
      "(30001, 115)\n"
     ]
    },
    {
     "data": {
      "text/plain": [
       "(30001, 59)"
      ]
     },
     "execution_count": 123,
     "metadata": {
      "tags": []
     },
     "output_type": "execute_result"
    }
   ],
   "source": [
    "print (df_high_val_cust.shape)\n",
    "\n",
    "#Let's drop the columns\n",
    "col_list = df_high_val_cust.filter(regex='_6|_7').columns\n",
    "\n",
    "df_high_val_cust.drop(col_list, axis=1, inplace=True)\n",
    "df_high_val_cust.shape"
   ]
  },
  {
   "cell_type": "code",
   "execution_count": 124,
   "metadata": {
    "_uuid": "28c5a92eb66a0b29ac0884def4c37d62c7073d6b",
    "colab": {
     "base_uri": "https://localhost:8080/",
     "height": 224
    },
    "colab_type": "code",
    "id": "T-l55WgGUo0o",
    "outputId": "de34cfa8-a290-49a2-8318-c2480ad18d79"
   },
   "outputs": [
    {
     "data": {
      "text/html": [
       "<div>\n",
       "<style scoped>\n",
       "    .dataframe tbody tr th:only-of-type {\n",
       "        vertical-align: middle;\n",
       "    }\n",
       "\n",
       "    .dataframe tbody tr th {\n",
       "        vertical-align: top;\n",
       "    }\n",
       "\n",
       "    .dataframe thead th {\n",
       "        text-align: right;\n",
       "    }\n",
       "</style>\n",
       "<table border=\"1\" class=\"dataframe\">\n",
       "  <thead>\n",
       "    <tr style=\"text-align: right;\">\n",
       "      <th></th>\n",
       "      <th>mobile_number</th>\n",
       "      <th>arpu_8</th>\n",
       "      <th>onnet_mou_8</th>\n",
       "      <th>offnet_mou_8</th>\n",
       "      <th>roam_ic_mou_8</th>\n",
       "      <th>roam_og_mou_8</th>\n",
       "      <th>loc_og_t2c_mou_8</th>\n",
       "      <th>loc_og_mou_8</th>\n",
       "      <th>std_og_t2f_mou_8</th>\n",
       "      <th>std_og_mou_8</th>\n",
       "      <th>isd_og_mou_8</th>\n",
       "      <th>spl_og_mou_8</th>\n",
       "      <th>og_others_8</th>\n",
       "      <th>loc_ic_mou_8</th>\n",
       "      <th>std_ic_t2t_mou_8</th>\n",
       "      <th>std_ic_t2f_mou_8</th>\n",
       "      <th>std_ic_mou_8</th>\n",
       "      <th>spl_ic_mou_8</th>\n",
       "      <th>isd_ic_mou_8</th>\n",
       "      <th>ic_others_8</th>\n",
       "      <th>total_rech_num_8</th>\n",
       "      <th>max_rech_amt_8</th>\n",
       "      <th>last_day_rch_amt_8</th>\n",
       "      <th>vol_2g_mb_8</th>\n",
       "      <th>monthly_2g_8</th>\n",
       "      <th>sachet_2g_8</th>\n",
       "      <th>monthly_3g_8</th>\n",
       "      <th>sachet_3g_8</th>\n",
       "      <th>aon</th>\n",
       "      <th>vbc_3g_8</th>\n",
       "      <th>churn</th>\n",
       "      <th>avg_arpu_av67</th>\n",
       "      <th>avg_onnet_mou_av67</th>\n",
       "      <th>avg_offnet_mou_av67</th>\n",
       "      <th>avg_roam_ic_mou_av67</th>\n",
       "      <th>avg_roam_og_mou_av67</th>\n",
       "      <th>avg_loc_og_t2c_mou_av67</th>\n",
       "      <th>avg_loc_og_mou_av67</th>\n",
       "      <th>avg_std_og_t2f_mou_av67</th>\n",
       "      <th>avg_std_og_mou_av67</th>\n",
       "      <th>avg_isd_og_mou_av67</th>\n",
       "      <th>avg_spl_og_mou_av67</th>\n",
       "      <th>avg_og_others_av67</th>\n",
       "      <th>avg_loc_ic_mou_av67</th>\n",
       "      <th>avg_std_ic_t2t_mou_av67</th>\n",
       "      <th>avg_std_ic_t2f_mou_av67</th>\n",
       "      <th>avg_std_ic_mou_av67</th>\n",
       "      <th>avg_spl_ic_mou_av67</th>\n",
       "      <th>avg_isd_ic_mou_av67</th>\n",
       "      <th>avg_ic_others_av67</th>\n",
       "      <th>avg_total_rech_num_av67</th>\n",
       "      <th>avg_max_rech_amt_av67</th>\n",
       "      <th>avg_last_day_rch_amt_av67</th>\n",
       "      <th>avg_vol_2g_mb_av67</th>\n",
       "      <th>avg_monthly_2g_av67</th>\n",
       "      <th>avg_sachet_2g_av67</th>\n",
       "      <th>avg_monthly_3g_av67</th>\n",
       "      <th>avg_sachet_3g_av67</th>\n",
       "      <th>avg_vbc_3g_av67</th>\n",
       "    </tr>\n",
       "  </thead>\n",
       "  <tbody>\n",
       "    <tr>\n",
       "      <th>0</th>\n",
       "      <td>7000842753</td>\n",
       "      <td>213.80</td>\n",
       "      <td>0.00</td>\n",
       "      <td>0.00</td>\n",
       "      <td>0.00</td>\n",
       "      <td>0.00</td>\n",
       "      <td>0.00</td>\n",
       "      <td>0.00</td>\n",
       "      <td>0.00</td>\n",
       "      <td>0.00</td>\n",
       "      <td>0.00</td>\n",
       "      <td>0.00</td>\n",
       "      <td>0.00</td>\n",
       "      <td>5.44</td>\n",
       "      <td>0.00</td>\n",
       "      <td>0.00</td>\n",
       "      <td>0.00</td>\n",
       "      <td>0.00</td>\n",
       "      <td>0.00</td>\n",
       "      <td>0.00</td>\n",
       "      <td>2</td>\n",
       "      <td>252</td>\n",
       "      <td>252</td>\n",
       "      <td>5.75</td>\n",
       "      <td>0</td>\n",
       "      <td>0</td>\n",
       "      <td>1</td>\n",
       "      <td>0</td>\n",
       "      <td>968</td>\n",
       "      <td>30.40</td>\n",
       "      <td>1</td>\n",
       "      <td>206.10</td>\n",
       "      <td>nan</td>\n",
       "      <td>nan</td>\n",
       "      <td>nan</td>\n",
       "      <td>nan</td>\n",
       "      <td>nan</td>\n",
       "      <td>nan</td>\n",
       "      <td>nan</td>\n",
       "      <td>nan</td>\n",
       "      <td>nan</td>\n",
       "      <td>nan</td>\n",
       "      <td>nan</td>\n",
       "      <td>nan</td>\n",
       "      <td>nan</td>\n",
       "      <td>nan</td>\n",
       "      <td>nan</td>\n",
       "      <td>nan</td>\n",
       "      <td>nan</td>\n",
       "      <td>nan</td>\n",
       "      <td>3.50</td>\n",
       "      <td>252.00</td>\n",
       "      <td>252.00</td>\n",
       "      <td>15.72</td>\n",
       "      <td>0.00</td>\n",
       "      <td>0.00</td>\n",
       "      <td>1.00</td>\n",
       "      <td>0.00</td>\n",
       "      <td>50.60</td>\n",
       "    </tr>\n",
       "    <tr>\n",
       "      <th>7</th>\n",
       "      <td>7000701601</td>\n",
       "      <td>3171.48</td>\n",
       "      <td>52.29</td>\n",
       "      <td>325.91</td>\n",
       "      <td>31.64</td>\n",
       "      <td>38.06</td>\n",
       "      <td>0.00</td>\n",
       "      <td>255.79</td>\n",
       "      <td>16.68</td>\n",
       "      <td>77.84</td>\n",
       "      <td>10.01</td>\n",
       "      <td>6.50</td>\n",
       "      <td>0.00</td>\n",
       "      <td>188.04</td>\n",
       "      <td>30.39</td>\n",
       "      <td>22.21</td>\n",
       "      <td>193.94</td>\n",
       "      <td>0.00</td>\n",
       "      <td>31.59</td>\n",
       "      <td>15.14</td>\n",
       "      <td>7</td>\n",
       "      <td>1580</td>\n",
       "      <td>779</td>\n",
       "      <td>0.00</td>\n",
       "      <td>0</td>\n",
       "      <td>0</td>\n",
       "      <td>0</td>\n",
       "      <td>0</td>\n",
       "      <td>802</td>\n",
       "      <td>57.74</td>\n",
       "      <td>1</td>\n",
       "      <td>1209.51</td>\n",
       "      <td>56.26</td>\n",
       "      <td>510.29</td>\n",
       "      <td>24.86</td>\n",
       "      <td>18.16</td>\n",
       "      <td>0.00</td>\n",
       "      <td>478.03</td>\n",
       "      <td>13.37</td>\n",
       "      <td>68.00</td>\n",
       "      <td>0.09</td>\n",
       "      <td>2.25</td>\n",
       "      <td>0.00</td>\n",
       "      <td>391.56</td>\n",
       "      <td>24.36</td>\n",
       "      <td>43.22</td>\n",
       "      <td>176.81</td>\n",
       "      <td>0.10</td>\n",
       "      <td>8.29</td>\n",
       "      <td>15.46</td>\n",
       "      <td>5.00</td>\n",
       "      <td>1185.00</td>\n",
       "      <td>0.00</td>\n",
       "      <td>0.00</td>\n",
       "      <td>0.00</td>\n",
       "      <td>0.00</td>\n",
       "      <td>0.00</td>\n",
       "      <td>0.00</td>\n",
       "      <td>19.06</td>\n",
       "    </tr>\n",
       "    <tr>\n",
       "      <th>8</th>\n",
       "      <td>7001524846</td>\n",
       "      <td>137.36</td>\n",
       "      <td>35.08</td>\n",
       "      <td>136.48</td>\n",
       "      <td>0.00</td>\n",
       "      <td>0.00</td>\n",
       "      <td>7.15</td>\n",
       "      <td>63.04</td>\n",
       "      <td>0.00</td>\n",
       "      <td>98.28</td>\n",
       "      <td>0.00</td>\n",
       "      <td>10.23</td>\n",
       "      <td>0.00</td>\n",
       "      <td>15.79</td>\n",
       "      <td>0.10</td>\n",
       "      <td>0.00</td>\n",
       "      <td>0.75</td>\n",
       "      <td>0.00</td>\n",
       "      <td>0.00</td>\n",
       "      <td>0.00</td>\n",
       "      <td>14</td>\n",
       "      <td>30</td>\n",
       "      <td>10</td>\n",
       "      <td>0.03</td>\n",
       "      <td>0</td>\n",
       "      <td>3</td>\n",
       "      <td>0</td>\n",
       "      <td>0</td>\n",
       "      <td>315</td>\n",
       "      <td>21.03</td>\n",
       "      <td>0</td>\n",
       "      <td>435.47</td>\n",
       "      <td>382.36</td>\n",
       "      <td>87.64</td>\n",
       "      <td>0.00</td>\n",
       "      <td>0.00</td>\n",
       "      <td>0.00</td>\n",
       "      <td>333.13</td>\n",
       "      <td>0.00</td>\n",
       "      <td>136.87</td>\n",
       "      <td>0.00</td>\n",
       "      <td>0.00</td>\n",
       "      <td>0.00</td>\n",
       "      <td>52.63</td>\n",
       "      <td>0.29</td>\n",
       "      <td>0.00</td>\n",
       "      <td>13.54</td>\n",
       "      <td>0.00</td>\n",
       "      <td>0.00</td>\n",
       "      <td>0.00</td>\n",
       "      <td>20.00</td>\n",
       "      <td>122.00</td>\n",
       "      <td>25.00</td>\n",
       "      <td>178.00</td>\n",
       "      <td>0.50</td>\n",
       "      <td>0.50</td>\n",
       "      <td>0.00</td>\n",
       "      <td>0.00</td>\n",
       "      <td>516.40</td>\n",
       "    </tr>\n",
       "    <tr>\n",
       "      <th>21</th>\n",
       "      <td>7002124215</td>\n",
       "      <td>637.76</td>\n",
       "      <td>85.14</td>\n",
       "      <td>983.39</td>\n",
       "      <td>0.00</td>\n",
       "      <td>0.00</td>\n",
       "      <td>0.00</td>\n",
       "      <td>129.74</td>\n",
       "      <td>0.00</td>\n",
       "      <td>938.79</td>\n",
       "      <td>0.00</td>\n",
       "      <td>0.00</td>\n",
       "      <td>0.00</td>\n",
       "      <td>159.11</td>\n",
       "      <td>0.18</td>\n",
       "      <td>0.00</td>\n",
       "      <td>101.93</td>\n",
       "      <td>0.00</td>\n",
       "      <td>0.00</td>\n",
       "      <td>0.00</td>\n",
       "      <td>27</td>\n",
       "      <td>50</td>\n",
       "      <td>50</td>\n",
       "      <td>0.00</td>\n",
       "      <td>0</td>\n",
       "      <td>0</td>\n",
       "      <td>0</td>\n",
       "      <td>0</td>\n",
       "      <td>720</td>\n",
       "      <td>0.00</td>\n",
       "      <td>0</td>\n",
       "      <td>556.10</td>\n",
       "      <td>117.26</td>\n",
       "      <td>827.30</td>\n",
       "      <td>0.00</td>\n",
       "      <td>0.00</td>\n",
       "      <td>0.00</td>\n",
       "      <td>95.56</td>\n",
       "      <td>0.00</td>\n",
       "      <td>848.99</td>\n",
       "      <td>0.00</td>\n",
       "      <td>0.00</td>\n",
       "      <td>0.00</td>\n",
       "      <td>106.50</td>\n",
       "      <td>10.02</td>\n",
       "      <td>0.00</td>\n",
       "      <td>62.98</td>\n",
       "      <td>0.00</td>\n",
       "      <td>0.00</td>\n",
       "      <td>0.00</td>\n",
       "      <td>24.00</td>\n",
       "      <td>50.00</td>\n",
       "      <td>25.00</td>\n",
       "      <td>0.00</td>\n",
       "      <td>0.00</td>\n",
       "      <td>0.00</td>\n",
       "      <td>0.00</td>\n",
       "      <td>0.00</td>\n",
       "      <td>0.00</td>\n",
       "    </tr>\n",
       "    <tr>\n",
       "      <th>23</th>\n",
       "      <td>7000887461</td>\n",
       "      <td>366.97</td>\n",
       "      <td>33.58</td>\n",
       "      <td>205.89</td>\n",
       "      <td>0.00</td>\n",
       "      <td>0.00</td>\n",
       "      <td>17.71</td>\n",
       "      <td>182.14</td>\n",
       "      <td>0.00</td>\n",
       "      <td>39.61</td>\n",
       "      <td>0.00</td>\n",
       "      <td>17.71</td>\n",
       "      <td>0.00</td>\n",
       "      <td>224.21</td>\n",
       "      <td>13.38</td>\n",
       "      <td>0.00</td>\n",
       "      <td>57.29</td>\n",
       "      <td>0.00</td>\n",
       "      <td>3.74</td>\n",
       "      <td>13.06</td>\n",
       "      <td>4</td>\n",
       "      <td>179</td>\n",
       "      <td>0</td>\n",
       "      <td>0.01</td>\n",
       "      <td>0</td>\n",
       "      <td>0</td>\n",
       "      <td>1</td>\n",
       "      <td>1</td>\n",
       "      <td>604</td>\n",
       "      <td>40.45</td>\n",
       "      <td>0</td>\n",
       "      <td>134.12</td>\n",
       "      <td>49.81</td>\n",
       "      <td>87.38</td>\n",
       "      <td>0.00</td>\n",
       "      <td>0.00</td>\n",
       "      <td>0.00</td>\n",
       "      <td>132.80</td>\n",
       "      <td>0.00</td>\n",
       "      <td>4.35</td>\n",
       "      <td>0.01</td>\n",
       "      <td>0.05</td>\n",
       "      <td>0.00</td>\n",
       "      <td>145.52</td>\n",
       "      <td>0.26</td>\n",
       "      <td>0.00</td>\n",
       "      <td>8.92</td>\n",
       "      <td>0.00</td>\n",
       "      <td>14.12</td>\n",
       "      <td>2.67</td>\n",
       "      <td>4.00</td>\n",
       "      <td>89.50</td>\n",
       "      <td>89.50</td>\n",
       "      <td>0.24</td>\n",
       "      <td>0.00</td>\n",
       "      <td>0.00</td>\n",
       "      <td>1.00</td>\n",
       "      <td>0.00</td>\n",
       "      <td>25.93</td>\n",
       "    </tr>\n",
       "  </tbody>\n",
       "</table>\n",
       "</div>"
      ],
      "text/plain": [
       "    mobile_number  arpu_8  ...  avg_sachet_3g_av67  avg_vbc_3g_av67\n",
       "0      7000842753  213.80  ...                0.00            50.60\n",
       "7      7000701601 3171.48  ...                0.00            19.06\n",
       "8      7001524846  137.36  ...                0.00           516.40\n",
       "21     7002124215  637.76  ...                0.00             0.00\n",
       "23     7000887461  366.97  ...                0.00            25.93\n",
       "\n",
       "[5 rows x 59 columns]"
      ]
     },
     "execution_count": 124,
     "metadata": {
      "tags": []
     },
     "output_type": "execute_result"
    }
   ],
   "source": [
    "df_high_val_cust.head()"
   ]
  },
  {
   "cell_type": "code",
   "execution_count": 125,
   "metadata": {
    "_uuid": "65cbd2c4f1c477ed5adb5980a267464317e0d802",
    "colab": {
     "base_uri": "https://localhost:8080/",
     "height": 119
    },
    "colab_type": "code",
    "id": "TSvEaVXqUo0q",
    "outputId": "b9330444-81e0-47e7-882a-eb49d56698ae"
   },
   "outputs": [
    {
     "data": {
      "text/plain": [
       "0    32.27\n",
       "7    26.73\n",
       "8    10.50\n",
       "21   24.00\n",
       "23   20.13\n",
       "Name: aon_mon, dtype: float64"
      ]
     },
     "execution_count": 125,
     "metadata": {
      "tags": []
     },
     "output_type": "execute_result"
    }
   ],
   "source": [
    "#Conevrt AON in Months\n",
    "df_high_val_cust['aon_mon'] = df_high_val_cust['aon']/30\n",
    "df_high_val_cust.drop('aon', axis=1, inplace=True)\n",
    "df_high_val_cust['aon_mon'].head()"
   ]
  },
  {
   "cell_type": "code",
   "execution_count": 126,
   "metadata": {
    "_uuid": "1cf3c37541ac670d3ae9eb81ccfd9d73ffd6e7c5",
    "colab": {
     "base_uri": "https://localhost:8080/",
     "height": 339
    },
    "colab_type": "code",
    "id": "WJDeETTtUo0t",
    "outputId": "fcf13674-2798-422a-b2b3-fc8a29ed6ac5"
   },
   "outputs": [
    {
     "data": {
      "text/plain": [
       "Text(0.5, 1.0, 'Churn Distribution')"
      ]
     },
     "execution_count": 126,
     "metadata": {
      "tags": []
     },
     "output_type": "execute_result"
    },
    {
     "data": {
      "image/png": "[encoded data removed]",
      "text/plain": [
       "<Figure size 360x360 with 1 Axes>"
      ]
     },
     "metadata": {
      "tags": []
     },
     "output_type": "display_data"
    }
   ],
   "source": [
    "#Churn Distribution\n",
    "ax = (df_high_val_cust['churn'].value_counts()*100.0 /len(df_high_val_cust)).plot.pie(autopct='%.1f%%', labels = ['No', 'Yes'],figsize =(5,5), fontsize = 12 )                                                                           \n",
    "\n",
    "ax.set_ylabel('Churn',fontsize = 12)\n",
    "ax.set_title('Churn Distribution', fontsize = 12)"
   ]
  },
  {
   "cell_type": "markdown",
   "metadata": {
    "_uuid": "4ad52af0a09994a9197a8dd9ad6c6204cdba9d98",
    "colab_type": "text",
    "id": "ohTOu_GbUo0w"
   },
   "source": [
    "In our data, 91% of the customers do not churn. Clearly the data is skewed as we would expect a large majority of the customers to not churn. This is important to keep in mind for our modelling as skeweness could lead to a lot of false negatives. We will see in the modelling section on how to avoid skewness in the data."
   ]
  },
  {
   "cell_type": "markdown",
   "metadata": {
    "_uuid": "184fb796d93f723e569e9d0eb8b80c09418beb57",
    "colab_type": "text",
    "id": "proph7rpUo0w"
   },
   "source": [
    "Distribution graphs (histogram/bar graph) of sampled columns:"
   ]
  },
  {
   "cell_type": "code",
   "execution_count": 127,
   "metadata": {
    "_uuid": "dc301f8b80b857dc45dd8ea9dd3a60efec57271b",
    "colab": {
     "base_uri": "https://localhost:8080/",
     "height": 312
    },
    "colab_type": "code",
    "id": "H8jlRCexUo1E",
    "outputId": "ac20496b-4718-445b-f529-f6491b0f6dfa"
   },
   "outputs": [
    {
     "data": {
      "text/plain": [
       "Text(0.5, 1.0, 'Customers by their tenure')"
      ]
     },
     "execution_count": 127,
     "metadata": {
      "tags": []
     },
     "output_type": "execute_result"
    },
    {
     "data": {
      "image/png": "[encoded data removed]",
      "text/plain": [
       "<Figure size 432x288 with 1 Axes>"
      ]
     },
     "metadata": {
      "tags": []
     },
     "output_type": "display_data"
    }
   ],
   "source": [
    "ax = sns.distplot(df_high_val_cust['aon_mon'], hist=True, kde=False, \n",
    "             bins=int(180/5), color = 'darkblue', \n",
    "             hist_kws={'edgecolor':'black'},\n",
    "             kde_kws={'linewidth': 4})\n",
    "ax.set_ylabel('No of Customers')\n",
    "ax.set_xlabel('Tenure (months)')\n",
    "ax.set_title('Customers by their tenure')"
   ]
  },
  {
   "cell_type": "code",
   "execution_count": 128,
   "metadata": {
    "_uuid": "17556f7679e2f57128155f397691d1bf802780ba",
    "colab": {
     "base_uri": "https://localhost:8080/",
     "height": 136
    },
    "colab_type": "code",
    "id": "CMaKg6BWUo1K",
    "outputId": "2d70242c-8e1b-4015-bbd9-4fbbe051a3a7"
   },
   "outputs": [
    {
     "data": {
      "text/plain": [
       "0         2-5 Yrs\n",
       "7         2-5 Yrs\n",
       "8     6-12 Months\n",
       "21        1-2 Yrs\n",
       "23        1-2 Yrs\n",
       "Name: tenure_range, dtype: category\n",
       "Categories (5, object): [0-6 Months < 6-12 Months < 1-2 Yrs < 2-5 Yrs < 5 Yrs and above]"
      ]
     },
     "execution_count": 128,
     "metadata": {
      "tags": []
     },
     "output_type": "execute_result"
    }
   ],
   "source": [
    "tn_range = [0, 6, 12, 24, 60, 61]\n",
    "tn_label = [ '0-6 Months', '6-12 Months', '1-2 Yrs', '2-5 Yrs', '5 Yrs and above']\n",
    "df_high_val_cust['tenure_range'] = pd.cut(df_high_val_cust['aon_mon'], tn_range, labels=tn_label)\n",
    "df_high_val_cust['tenure_range'].head()"
   ]
  },
  {
   "cell_type": "markdown",
   "metadata": {
    "_uuid": "56f846497f72b9e8893cbb3f81338d21ef3d164b",
    "colab_type": "text",
    "id": "-U2k80QLUo1Z"
   },
   "source": [
    "#### Correlation of \"Churn\" with other variables:\n"
   ]
  },
  {
   "cell_type": "code",
   "execution_count": 129,
   "metadata": {
    "_uuid": "4ad9fdf1aafb666105dccd70d462a0f8b679e882",
    "colab": {
     "base_uri": "https://localhost:8080/",
     "height": 762
    },
    "colab_type": "code",
    "id": "hesv8hMhUo1a",
    "outputId": "16d17c6f-ffc8-4366-d0c0-07e691c09bbc",
    "scrolled": false
   },
   "outputs": [
    {
     "data": {
      "text/plain": [
       "<matplotlib.axes._subplots.AxesSubplot at 0x7f5ace12eb38>"
      ]
     },
     "execution_count": 129,
     "metadata": {
      "tags": []
     },
     "output_type": "execute_result"
    },
    {
     "data": {
      "image/png": "[encoded data removed]",
      "text/plain": [
       "<Figure size 1440x720 with 1 Axes>"
      ]
     },
     "metadata": {
      "tags": []
     },
     "output_type": "display_data"
    }
   ],
   "source": [
    "#Check the Correlation of \"Churn\" with other variables:\n",
    "plt.figure(figsize=(20,10))\n",
    "df_high_val_cust.corr()['churn'].sort_values(ascending = False).plot(kind='bar')"
   ]
  },
  {
   "cell_type": "markdown",
   "metadata": {
    "_uuid": "2370f9e4d76918d9e0f2aa2c60f325d6dd778c3f",
    "colab_type": "text",
    "id": "-eMuKILZUo1e"
   },
   "source": [
    "Avg STD Outgoing Calls for Month 6 & 7, Outgoing calls in Roaming seems to be positively correlated with Churn while Avg Revenue, No Of Recharge for 8th Month seems negatively correlated."
   ]
  },
  {
   "cell_type": "markdown",
   "metadata": {
    "_uuid": "cecf40426b43b700b86a46901bb823df40b24f3c",
    "colab_type": "text",
    "id": "pldRPM6oUo1f"
   },
   "source": [
    "Lets look at the relation between total recharge in 8th Month Vs Average Revenue in 8th Month"
   ]
  },
  {
   "cell_type": "code",
   "execution_count": 130,
   "metadata": {
    "_uuid": "5eb5c0071e5d95c70a14072eb4a5880727163c98",
    "colab": {
     "base_uri": "https://localhost:8080/",
     "height": 301
    },
    "colab_type": "code",
    "id": "-nSH2T8kUo1g",
    "outputId": "7330b922-cb0c-407d-cf16-91225a87b91e"
   },
   "outputs": [
    {
     "data": {
      "text/plain": [
       "<matplotlib.axes._subplots.AxesSubplot at 0x7f5ac24da1d0>"
      ]
     },
     "execution_count": 130,
     "metadata": {
      "tags": []
     },
     "output_type": "execute_result"
    },
    {
     "data": {
      "image/png": "[encoded data removed]",
      "text/plain": [
       "<Figure size 432x288 with 1 Axes>"
      ]
     },
     "metadata": {
      "tags": []
     },
     "output_type": "display_data"
    }
   ],
   "source": [
    "df_high_val_cust[['total_rech_num_8', 'arpu_8']].plot.scatter(x = 'total_rech_num_8',\n",
    "                                                              y='arpu_8')"
   ]
  },
  {
   "cell_type": "markdown",
   "metadata": {
    "_uuid": "f1a6651a75ae11e022bc8670a53993aba3ab03e8",
    "colab_type": "text",
    "id": "OprdXkf8Uo1k"
   },
   "source": [
    "Lets look at the relation between Tenure And Revenue"
   ]
  },
  {
   "cell_type": "code",
   "execution_count": 131,
   "metadata": {
    "_uuid": "11fb121541446b81d120f111832777e8d3170f77",
    "colab": {
     "base_uri": "https://localhost:8080/",
     "height": 300
    },
    "colab_type": "code",
    "id": "MaiORcy4Uo1m",
    "outputId": "a28b85f8-1191-4342-9516-6de217fe0c2d"
   },
   "outputs": [
    {
     "data": {
      "text/plain": [
       "<matplotlib.axes._subplots.AxesSubplot at 0x7f5ac249dbe0>"
      ]
     },
     "execution_count": 131,
     "metadata": {
      "tags": []
     },
     "output_type": "execute_result"
    },
    {
     "data": {
      "image/png": "[encoded data removed]",
      "text/plain": [
       "<Figure size 432x288 with 1 Axes>"
      ]
     },
     "metadata": {
      "tags": []
     },
     "output_type": "display_data"
    }
   ],
   "source": [
    "df_high_val_cust[['aon_mon', 'avg_arpu_av67']].plot.scatter(x = 'aon_mon',\n",
    "                                                              y='avg_arpu_av67')"
   ]
  },
  {
   "cell_type": "markdown",
   "metadata": {
    "_uuid": "825c5f4383df85601fecaadc4b1130d12f780885",
    "colab_type": "text",
    "id": "p9gHat5gUo1s"
   },
   "source": [
    "Finally, let's take a look at out predictor variable (Churn) and understand its interaction with other important variables as was found out in the correlation plot."
   ]
  },
  {
   "cell_type": "markdown",
   "metadata": {
    "_uuid": "ab353c53a30cfc4ebeb5d2cb5bb33ea82d124e01",
    "colab_type": "text",
    "id": "xNX7xTbAUo1t"
   },
   "source": [
    "#### Churn vs Tenure "
   ]
  },
  {
   "cell_type": "code",
   "execution_count": 132,
   "metadata": {
    "_uuid": "7576fa40fc62d78527ed4feea0a8751e3b353a57",
    "colab": {
     "base_uri": "https://localhost:8080/",
     "height": 300
    },
    "colab_type": "code",
    "id": "EXnKEn6zUo1y",
    "outputId": "59a857be-771d-4d3c-db5b-274f61475dbd"
   },
   "outputs": [
    {
     "data": {
      "text/plain": [
       "<matplotlib.axes._subplots.AxesSubplot at 0x7f5ac23dce80>"
      ]
     },
     "execution_count": 132,
     "metadata": {
      "tags": []
     },
     "output_type": "execute_result"
    },
    {
     "data": {
      "image/png": "[encoded data removed]",
      "text/plain": [
       "<Figure size 432x288 with 1 Axes>"
      ]
     },
     "metadata": {
      "tags": []
     },
     "output_type": "display_data"
    }
   ],
   "source": [
    "sns.boxplot(x = df_high_val_cust.churn, y = df_high_val_cust.aon_mon)\n"
   ]
  },
  {
   "cell_type": "markdown",
   "metadata": {
    "_uuid": "16642a4972878aedef9d76f6db676c4338d6df97",
    "colab_type": "text",
    "id": "_PaJMW4pUo11"
   },
   "source": [
    "As we can see form the below plot, the customers who do not churn, they tend to stay for a longer tenure with the telecom company."
   ]
  },
  {
   "cell_type": "markdown",
   "metadata": {
    "_uuid": "91669508d1b1c8977142590668e43ff529faa83a",
    "colab_type": "text",
    "id": "q6k1EdSTUo12"
   },
   "source": [
    "#### Churn Vs Volume based cost"
   ]
  },
  {
   "cell_type": "code",
   "execution_count": 133,
   "metadata": {
    "_uuid": "a38f2a2874c969d9651574402b3df8c67b86b0c5",
    "colab": {
     "base_uri": "https://localhost:8080/",
     "height": 312
    },
    "colab_type": "code",
    "id": "AO_5Lj23Uo13",
    "outputId": "46b80602-22fe-4d1c-ccc7-b9cb234c6c25"
   },
   "outputs": [
    {
     "data": {
      "text/plain": [
       "Text(0.5, 1.0, 'Distribution of Volume based cost by churn')"
      ]
     },
     "execution_count": 133,
     "metadata": {
      "tags": []
     },
     "output_type": "execute_result"
    },
    {
     "data": {
      "image/png": "[encoded data removed]",
      "text/plain": [
       "<Figure size 432x288 with 1 Axes>"
      ]
     },
     "metadata": {
      "tags": []
     },
     "output_type": "display_data"
    }
   ],
   "source": [
    "ax = sns.kdeplot(df_high_val_cust.avg_max_rech_amt_av67[(df_high_val_cust[\"churn\"] == 0)],\n",
    "                color=\"Red\", shade = True)\n",
    "ax = sns.kdeplot(df_high_val_cust.avg_max_rech_amt_av67[(df_high_val_cust[\"churn\"] == 1)],\n",
    "                ax =ax, color=\"Blue\", shade= True)\n",
    "ax.legend([\"Not Churn\",\"Churn\"],loc='upper right')\n",
    "ax.set_ylabel('Density')\n",
    "ax.set_xlabel('Volume based cost')\n",
    "ax.set_title('Distribution of Volume based cost by churn')"
   ]
  },
  {
   "cell_type": "markdown",
   "metadata": {
    "_uuid": "438028a95b2020f1d75324086e5525fec4f84bf1",
    "colab_type": "text",
    "id": "jlnh1yqyUo15"
   },
   "source": [
    "#### Churn Vs Max Recharge Amount"
   ]
  },
  {
   "cell_type": "code",
   "execution_count": 134,
   "metadata": {
    "_uuid": "0340bd0d0c6131a6d37be1c78f70facb0c432ef6",
    "colab": {
     "base_uri": "https://localhost:8080/",
     "height": 312
    },
    "colab_type": "code",
    "id": "MR8RXgn4Uo16",
    "outputId": "07cc291a-3cd3-4ddb-9e2c-db52d6939f2d"
   },
   "outputs": [
    {
     "data": {
      "text/plain": [
       "Text(0.5, 1.0, 'Distribution of Max Recharge Amount by churn')"
      ]
     },
     "execution_count": 134,
     "metadata": {
      "tags": []
     },
     "output_type": "execute_result"
    },
    {
     "data": {
      "image/png": "[encoded data removed]",
      "text/plain": [
       "<Figure size 432x288 with 1 Axes>"
      ]
     },
     "metadata": {
      "tags": []
     },
     "output_type": "display_data"
    }
   ],
   "source": [
    "ax = sns.kdeplot(df_high_val_cust.max_rech_amt_8[(df_high_val_cust[\"churn\"] == 0)],\n",
    "                color=\"Red\", shade = True)\n",
    "ax = sns.kdeplot(df_high_val_cust.max_rech_amt_8[(df_high_val_cust[\"churn\"] == 1)],\n",
    "                ax =ax, color=\"Blue\", shade= True)\n",
    "ax.legend([\"Not Churn\",\"Churn\"],loc='upper right')\n",
    "ax.set_ylabel('Density')\n",
    "ax.set_xlabel('Volume based cost')\n",
    "ax.set_title('Distribution of Max Recharge Amount by churn')"
   ]
  },
  {
   "cell_type": "markdown",
   "metadata": {
    "_uuid": "b1d35531f69f841f64075adb52113f3931f14d7c",
    "colab_type": "text",
    "id": "uu4KQ3nIUo17"
   },
   "source": [
    "* People Who Recharge with less Amount are more likely to Churn\n",
    "* There is no visible difference in Volume Based Cost & Churn"
   ]
  },
  {
   "cell_type": "code",
   "execution_count": 135,
   "metadata": {
    "_uuid": "836c4a802632527f8a619034bb5b9682c318a21c",
    "colab": {
     "base_uri": "https://localhost:8080/",
     "height": 224
    },
    "colab_type": "code",
    "id": "FxOVYt6DUo18",
    "outputId": "88db1aa8-7cde-4abc-b556-86294e65daf6"
   },
   "outputs": [
    {
     "data": {
      "text/html": [
       "<div>\n",
       "<style scoped>\n",
       "    .dataframe tbody tr th:only-of-type {\n",
       "        vertical-align: middle;\n",
       "    }\n",
       "\n",
       "    .dataframe tbody tr th {\n",
       "        vertical-align: top;\n",
       "    }\n",
       "\n",
       "    .dataframe thead th {\n",
       "        text-align: right;\n",
       "    }\n",
       "</style>\n",
       "<table border=\"1\" class=\"dataframe\">\n",
       "  <thead>\n",
       "    <tr style=\"text-align: right;\">\n",
       "      <th></th>\n",
       "      <th>mobile_number</th>\n",
       "      <th>arpu_8</th>\n",
       "      <th>onnet_mou_8</th>\n",
       "      <th>offnet_mou_8</th>\n",
       "      <th>roam_ic_mou_8</th>\n",
       "      <th>roam_og_mou_8</th>\n",
       "      <th>loc_og_t2c_mou_8</th>\n",
       "      <th>loc_og_mou_8</th>\n",
       "      <th>std_og_t2f_mou_8</th>\n",
       "      <th>std_og_mou_8</th>\n",
       "      <th>isd_og_mou_8</th>\n",
       "      <th>spl_og_mou_8</th>\n",
       "      <th>og_others_8</th>\n",
       "      <th>loc_ic_mou_8</th>\n",
       "      <th>std_ic_t2t_mou_8</th>\n",
       "      <th>std_ic_t2f_mou_8</th>\n",
       "      <th>std_ic_mou_8</th>\n",
       "      <th>spl_ic_mou_8</th>\n",
       "      <th>isd_ic_mou_8</th>\n",
       "      <th>ic_others_8</th>\n",
       "      <th>total_rech_num_8</th>\n",
       "      <th>max_rech_amt_8</th>\n",
       "      <th>last_day_rch_amt_8</th>\n",
       "      <th>vol_2g_mb_8</th>\n",
       "      <th>monthly_2g_8</th>\n",
       "      <th>sachet_2g_8</th>\n",
       "      <th>monthly_3g_8</th>\n",
       "      <th>sachet_3g_8</th>\n",
       "      <th>vbc_3g_8</th>\n",
       "      <th>churn</th>\n",
       "      <th>avg_arpu_av67</th>\n",
       "      <th>avg_onnet_mou_av67</th>\n",
       "      <th>avg_offnet_mou_av67</th>\n",
       "      <th>avg_roam_ic_mou_av67</th>\n",
       "      <th>avg_roam_og_mou_av67</th>\n",
       "      <th>avg_loc_og_t2c_mou_av67</th>\n",
       "      <th>avg_loc_og_mou_av67</th>\n",
       "      <th>avg_std_og_t2f_mou_av67</th>\n",
       "      <th>avg_std_og_mou_av67</th>\n",
       "      <th>avg_isd_og_mou_av67</th>\n",
       "      <th>avg_spl_og_mou_av67</th>\n",
       "      <th>avg_og_others_av67</th>\n",
       "      <th>avg_loc_ic_mou_av67</th>\n",
       "      <th>avg_std_ic_t2t_mou_av67</th>\n",
       "      <th>avg_std_ic_t2f_mou_av67</th>\n",
       "      <th>avg_std_ic_mou_av67</th>\n",
       "      <th>avg_spl_ic_mou_av67</th>\n",
       "      <th>avg_isd_ic_mou_av67</th>\n",
       "      <th>avg_ic_others_av67</th>\n",
       "      <th>avg_total_rech_num_av67</th>\n",
       "      <th>avg_max_rech_amt_av67</th>\n",
       "      <th>avg_last_day_rch_amt_av67</th>\n",
       "      <th>avg_vol_2g_mb_av67</th>\n",
       "      <th>avg_monthly_2g_av67</th>\n",
       "      <th>avg_sachet_2g_av67</th>\n",
       "      <th>avg_monthly_3g_av67</th>\n",
       "      <th>avg_sachet_3g_av67</th>\n",
       "      <th>avg_vbc_3g_av67</th>\n",
       "      <th>aon_mon</th>\n",
       "      <th>tenure_range</th>\n",
       "    </tr>\n",
       "  </thead>\n",
       "  <tbody>\n",
       "    <tr>\n",
       "      <th>0</th>\n",
       "      <td>7000842753</td>\n",
       "      <td>213.80</td>\n",
       "      <td>0.00</td>\n",
       "      <td>0.00</td>\n",
       "      <td>0.00</td>\n",
       "      <td>0.00</td>\n",
       "      <td>0.00</td>\n",
       "      <td>0.00</td>\n",
       "      <td>0.00</td>\n",
       "      <td>0.00</td>\n",
       "      <td>0.00</td>\n",
       "      <td>0.00</td>\n",
       "      <td>0.00</td>\n",
       "      <td>5.44</td>\n",
       "      <td>0.00</td>\n",
       "      <td>0.00</td>\n",
       "      <td>0.00</td>\n",
       "      <td>0.00</td>\n",
       "      <td>0.00</td>\n",
       "      <td>0.00</td>\n",
       "      <td>2</td>\n",
       "      <td>252</td>\n",
       "      <td>252</td>\n",
       "      <td>5.75</td>\n",
       "      <td>0</td>\n",
       "      <td>0</td>\n",
       "      <td>1</td>\n",
       "      <td>0</td>\n",
       "      <td>30.40</td>\n",
       "      <td>1</td>\n",
       "      <td>206.10</td>\n",
       "      <td>nan</td>\n",
       "      <td>nan</td>\n",
       "      <td>nan</td>\n",
       "      <td>nan</td>\n",
       "      <td>nan</td>\n",
       "      <td>nan</td>\n",
       "      <td>nan</td>\n",
       "      <td>nan</td>\n",
       "      <td>nan</td>\n",
       "      <td>nan</td>\n",
       "      <td>nan</td>\n",
       "      <td>nan</td>\n",
       "      <td>nan</td>\n",
       "      <td>nan</td>\n",
       "      <td>nan</td>\n",
       "      <td>nan</td>\n",
       "      <td>nan</td>\n",
       "      <td>nan</td>\n",
       "      <td>3.50</td>\n",
       "      <td>252.00</td>\n",
       "      <td>252.00</td>\n",
       "      <td>15.72</td>\n",
       "      <td>0.00</td>\n",
       "      <td>0.00</td>\n",
       "      <td>1.00</td>\n",
       "      <td>0.00</td>\n",
       "      <td>50.60</td>\n",
       "      <td>32.27</td>\n",
       "      <td>2-5 Yrs</td>\n",
       "    </tr>\n",
       "    <tr>\n",
       "      <th>7</th>\n",
       "      <td>7000701601</td>\n",
       "      <td>3171.48</td>\n",
       "      <td>52.29</td>\n",
       "      <td>325.91</td>\n",
       "      <td>31.64</td>\n",
       "      <td>38.06</td>\n",
       "      <td>0.00</td>\n",
       "      <td>255.79</td>\n",
       "      <td>16.68</td>\n",
       "      <td>77.84</td>\n",
       "      <td>10.01</td>\n",
       "      <td>6.50</td>\n",
       "      <td>0.00</td>\n",
       "      <td>188.04</td>\n",
       "      <td>30.39</td>\n",
       "      <td>22.21</td>\n",
       "      <td>193.94</td>\n",
       "      <td>0.00</td>\n",
       "      <td>31.59</td>\n",
       "      <td>15.14</td>\n",
       "      <td>7</td>\n",
       "      <td>1580</td>\n",
       "      <td>779</td>\n",
       "      <td>0.00</td>\n",
       "      <td>0</td>\n",
       "      <td>0</td>\n",
       "      <td>0</td>\n",
       "      <td>0</td>\n",
       "      <td>57.74</td>\n",
       "      <td>1</td>\n",
       "      <td>1209.51</td>\n",
       "      <td>56.26</td>\n",
       "      <td>510.29</td>\n",
       "      <td>24.86</td>\n",
       "      <td>18.16</td>\n",
       "      <td>0.00</td>\n",
       "      <td>478.03</td>\n",
       "      <td>13.37</td>\n",
       "      <td>68.00</td>\n",
       "      <td>0.09</td>\n",
       "      <td>2.25</td>\n",
       "      <td>0.00</td>\n",
       "      <td>391.56</td>\n",
       "      <td>24.36</td>\n",
       "      <td>43.22</td>\n",
       "      <td>176.81</td>\n",
       "      <td>0.10</td>\n",
       "      <td>8.29</td>\n",
       "      <td>15.46</td>\n",
       "      <td>5.00</td>\n",
       "      <td>1185.00</td>\n",
       "      <td>0.00</td>\n",
       "      <td>0.00</td>\n",
       "      <td>0.00</td>\n",
       "      <td>0.00</td>\n",
       "      <td>0.00</td>\n",
       "      <td>0.00</td>\n",
       "      <td>19.06</td>\n",
       "      <td>26.73</td>\n",
       "      <td>2-5 Yrs</td>\n",
       "    </tr>\n",
       "    <tr>\n",
       "      <th>8</th>\n",
       "      <td>7001524846</td>\n",
       "      <td>137.36</td>\n",
       "      <td>35.08</td>\n",
       "      <td>136.48</td>\n",
       "      <td>0.00</td>\n",
       "      <td>0.00</td>\n",
       "      <td>7.15</td>\n",
       "      <td>63.04</td>\n",
       "      <td>0.00</td>\n",
       "      <td>98.28</td>\n",
       "      <td>0.00</td>\n",
       "      <td>10.23</td>\n",
       "      <td>0.00</td>\n",
       "      <td>15.79</td>\n",
       "      <td>0.10</td>\n",
       "      <td>0.00</td>\n",
       "      <td>0.75</td>\n",
       "      <td>0.00</td>\n",
       "      <td>0.00</td>\n",
       "      <td>0.00</td>\n",
       "      <td>14</td>\n",
       "      <td>30</td>\n",
       "      <td>10</td>\n",
       "      <td>0.03</td>\n",
       "      <td>0</td>\n",
       "      <td>3</td>\n",
       "      <td>0</td>\n",
       "      <td>0</td>\n",
       "      <td>21.03</td>\n",
       "      <td>0</td>\n",
       "      <td>435.47</td>\n",
       "      <td>382.36</td>\n",
       "      <td>87.64</td>\n",
       "      <td>0.00</td>\n",
       "      <td>0.00</td>\n",
       "      <td>0.00</td>\n",
       "      <td>333.13</td>\n",
       "      <td>0.00</td>\n",
       "      <td>136.87</td>\n",
       "      <td>0.00</td>\n",
       "      <td>0.00</td>\n",
       "      <td>0.00</td>\n",
       "      <td>52.63</td>\n",
       "      <td>0.29</td>\n",
       "      <td>0.00</td>\n",
       "      <td>13.54</td>\n",
       "      <td>0.00</td>\n",
       "      <td>0.00</td>\n",
       "      <td>0.00</td>\n",
       "      <td>20.00</td>\n",
       "      <td>122.00</td>\n",
       "      <td>25.00</td>\n",
       "      <td>178.00</td>\n",
       "      <td>0.50</td>\n",
       "      <td>0.50</td>\n",
       "      <td>0.00</td>\n",
       "      <td>0.00</td>\n",
       "      <td>516.40</td>\n",
       "      <td>10.50</td>\n",
       "      <td>6-12 Months</td>\n",
       "    </tr>\n",
       "    <tr>\n",
       "      <th>21</th>\n",
       "      <td>7002124215</td>\n",
       "      <td>637.76</td>\n",
       "      <td>85.14</td>\n",
       "      <td>983.39</td>\n",
       "      <td>0.00</td>\n",
       "      <td>0.00</td>\n",
       "      <td>0.00</td>\n",
       "      <td>129.74</td>\n",
       "      <td>0.00</td>\n",
       "      <td>938.79</td>\n",
       "      <td>0.00</td>\n",
       "      <td>0.00</td>\n",
       "      <td>0.00</td>\n",
       "      <td>159.11</td>\n",
       "      <td>0.18</td>\n",
       "      <td>0.00</td>\n",
       "      <td>101.93</td>\n",
       "      <td>0.00</td>\n",
       "      <td>0.00</td>\n",
       "      <td>0.00</td>\n",
       "      <td>27</td>\n",
       "      <td>50</td>\n",
       "      <td>50</td>\n",
       "      <td>0.00</td>\n",
       "      <td>0</td>\n",
       "      <td>0</td>\n",
       "      <td>0</td>\n",
       "      <td>0</td>\n",
       "      <td>0.00</td>\n",
       "      <td>0</td>\n",
       "      <td>556.10</td>\n",
       "      <td>117.26</td>\n",
       "      <td>827.30</td>\n",
       "      <td>0.00</td>\n",
       "      <td>0.00</td>\n",
       "      <td>0.00</td>\n",
       "      <td>95.56</td>\n",
       "      <td>0.00</td>\n",
       "      <td>848.99</td>\n",
       "      <td>0.00</td>\n",
       "      <td>0.00</td>\n",
       "      <td>0.00</td>\n",
       "      <td>106.50</td>\n",
       "      <td>10.02</td>\n",
       "      <td>0.00</td>\n",
       "      <td>62.98</td>\n",
       "      <td>0.00</td>\n",
       "      <td>0.00</td>\n",
       "      <td>0.00</td>\n",
       "      <td>24.00</td>\n",
       "      <td>50.00</td>\n",
       "      <td>25.00</td>\n",
       "      <td>0.00</td>\n",
       "      <td>0.00</td>\n",
       "      <td>0.00</td>\n",
       "      <td>0.00</td>\n",
       "      <td>0.00</td>\n",
       "      <td>0.00</td>\n",
       "      <td>24.00</td>\n",
       "      <td>1-2 Yrs</td>\n",
       "    </tr>\n",
       "    <tr>\n",
       "      <th>23</th>\n",
       "      <td>7000887461</td>\n",
       "      <td>366.97</td>\n",
       "      <td>33.58</td>\n",
       "      <td>205.89</td>\n",
       "      <td>0.00</td>\n",
       "      <td>0.00</td>\n",
       "      <td>17.71</td>\n",
       "      <td>182.14</td>\n",
       "      <td>0.00</td>\n",
       "      <td>39.61</td>\n",
       "      <td>0.00</td>\n",
       "      <td>17.71</td>\n",
       "      <td>0.00</td>\n",
       "      <td>224.21</td>\n",
       "      <td>13.38</td>\n",
       "      <td>0.00</td>\n",
       "      <td>57.29</td>\n",
       "      <td>0.00</td>\n",
       "      <td>3.74</td>\n",
       "      <td>13.06</td>\n",
       "      <td>4</td>\n",
       "      <td>179</td>\n",
       "      <td>0</td>\n",
       "      <td>0.01</td>\n",
       "      <td>0</td>\n",
       "      <td>0</td>\n",
       "      <td>1</td>\n",
       "      <td>1</td>\n",
       "      <td>40.45</td>\n",
       "      <td>0</td>\n",
       "      <td>134.12</td>\n",
       "      <td>49.81</td>\n",
       "      <td>87.38</td>\n",
       "      <td>0.00</td>\n",
       "      <td>0.00</td>\n",
       "      <td>0.00</td>\n",
       "      <td>132.80</td>\n",
       "      <td>0.00</td>\n",
       "      <td>4.35</td>\n",
       "      <td>0.01</td>\n",
       "      <td>0.05</td>\n",
       "      <td>0.00</td>\n",
       "      <td>145.52</td>\n",
       "      <td>0.26</td>\n",
       "      <td>0.00</td>\n",
       "      <td>8.92</td>\n",
       "      <td>0.00</td>\n",
       "      <td>14.12</td>\n",
       "      <td>2.67</td>\n",
       "      <td>4.00</td>\n",
       "      <td>89.50</td>\n",
       "      <td>89.50</td>\n",
       "      <td>0.24</td>\n",
       "      <td>0.00</td>\n",
       "      <td>0.00</td>\n",
       "      <td>1.00</td>\n",
       "      <td>0.00</td>\n",
       "      <td>25.93</td>\n",
       "      <td>20.13</td>\n",
       "      <td>1-2 Yrs</td>\n",
       "    </tr>\n",
       "  </tbody>\n",
       "</table>\n",
       "</div>"
      ],
      "text/plain": [
       "    mobile_number  arpu_8  onnet_mou_8  ...  avg_vbc_3g_av67  aon_mon  tenure_range\n",
       "0      7000842753  213.80         0.00  ...            50.60    32.27       2-5 Yrs\n",
       "7      7000701601 3171.48        52.29  ...            19.06    26.73       2-5 Yrs\n",
       "8      7001524846  137.36        35.08  ...           516.40    10.50   6-12 Months\n",
       "21     7002124215  637.76        85.14  ...             0.00    24.00       1-2 Yrs\n",
       "23     7000887461  366.97        33.58  ...            25.93    20.13       1-2 Yrs\n",
       "\n",
       "[5 rows x 60 columns]"
      ]
     },
     "execution_count": 135,
     "metadata": {
      "tags": []
     },
     "output_type": "execute_result"
    }
   ],
   "source": [
    "df_high_val_cust.head()"
   ]
  },
  {
   "cell_type": "code",
   "execution_count": 136,
   "metadata": {
    "_uuid": "c372e383593a66454e88fef6d106327234a43bf7",
    "colab": {
     "base_uri": "https://localhost:8080/",
     "height": 224
    },
    "colab_type": "code",
    "id": "IbT98wWBUo1-",
    "outputId": "a8eef71e-0954-4022-d1af-c0b0cfca7ae8"
   },
   "outputs": [
    {
     "data": {
      "text/html": [
       "<div>\n",
       "<style scoped>\n",
       "    .dataframe tbody tr th:only-of-type {\n",
       "        vertical-align: middle;\n",
       "    }\n",
       "\n",
       "    .dataframe tbody tr th {\n",
       "        vertical-align: top;\n",
       "    }\n",
       "\n",
       "    .dataframe thead th {\n",
       "        text-align: right;\n",
       "    }\n",
       "</style>\n",
       "<table border=\"1\" class=\"dataframe\">\n",
       "  <thead>\n",
       "    <tr style=\"text-align: right;\">\n",
       "      <th></th>\n",
       "      <th>arpu_8</th>\n",
       "      <th>onnet_mou_8</th>\n",
       "      <th>offnet_mou_8</th>\n",
       "      <th>roam_ic_mou_8</th>\n",
       "      <th>roam_og_mou_8</th>\n",
       "      <th>loc_og_t2c_mou_8</th>\n",
       "      <th>loc_og_mou_8</th>\n",
       "      <th>std_og_t2f_mou_8</th>\n",
       "      <th>std_og_mou_8</th>\n",
       "      <th>isd_og_mou_8</th>\n",
       "      <th>spl_og_mou_8</th>\n",
       "      <th>og_others_8</th>\n",
       "      <th>loc_ic_mou_8</th>\n",
       "      <th>std_ic_t2t_mou_8</th>\n",
       "      <th>std_ic_t2f_mou_8</th>\n",
       "      <th>std_ic_mou_8</th>\n",
       "      <th>spl_ic_mou_8</th>\n",
       "      <th>isd_ic_mou_8</th>\n",
       "      <th>ic_others_8</th>\n",
       "      <th>total_rech_num_8</th>\n",
       "      <th>max_rech_amt_8</th>\n",
       "      <th>last_day_rch_amt_8</th>\n",
       "      <th>vol_2g_mb_8</th>\n",
       "      <th>monthly_2g_8</th>\n",
       "      <th>sachet_2g_8</th>\n",
       "      <th>monthly_3g_8</th>\n",
       "      <th>sachet_3g_8</th>\n",
       "      <th>vbc_3g_8</th>\n",
       "      <th>churn</th>\n",
       "      <th>avg_arpu_av67</th>\n",
       "      <th>avg_onnet_mou_av67</th>\n",
       "      <th>avg_offnet_mou_av67</th>\n",
       "      <th>avg_roam_ic_mou_av67</th>\n",
       "      <th>avg_roam_og_mou_av67</th>\n",
       "      <th>avg_loc_og_t2c_mou_av67</th>\n",
       "      <th>avg_loc_og_mou_av67</th>\n",
       "      <th>avg_std_og_t2f_mou_av67</th>\n",
       "      <th>avg_std_og_mou_av67</th>\n",
       "      <th>avg_isd_og_mou_av67</th>\n",
       "      <th>avg_spl_og_mou_av67</th>\n",
       "      <th>avg_og_others_av67</th>\n",
       "      <th>avg_loc_ic_mou_av67</th>\n",
       "      <th>avg_std_ic_t2t_mou_av67</th>\n",
       "      <th>avg_std_ic_t2f_mou_av67</th>\n",
       "      <th>avg_std_ic_mou_av67</th>\n",
       "      <th>avg_spl_ic_mou_av67</th>\n",
       "      <th>avg_isd_ic_mou_av67</th>\n",
       "      <th>avg_ic_others_av67</th>\n",
       "      <th>avg_total_rech_num_av67</th>\n",
       "      <th>avg_max_rech_amt_av67</th>\n",
       "      <th>avg_last_day_rch_amt_av67</th>\n",
       "      <th>avg_vol_2g_mb_av67</th>\n",
       "      <th>avg_monthly_2g_av67</th>\n",
       "      <th>avg_sachet_2g_av67</th>\n",
       "      <th>avg_monthly_3g_av67</th>\n",
       "      <th>avg_sachet_3g_av67</th>\n",
       "      <th>avg_vbc_3g_av67</th>\n",
       "      <th>aon_mon</th>\n",
       "    </tr>\n",
       "  </thead>\n",
       "  <tbody>\n",
       "    <tr>\n",
       "      <th>0</th>\n",
       "      <td>213.80</td>\n",
       "      <td>0.00</td>\n",
       "      <td>0.00</td>\n",
       "      <td>0.00</td>\n",
       "      <td>0.00</td>\n",
       "      <td>0.00</td>\n",
       "      <td>0.00</td>\n",
       "      <td>0.00</td>\n",
       "      <td>0.00</td>\n",
       "      <td>0.00</td>\n",
       "      <td>0.00</td>\n",
       "      <td>0.00</td>\n",
       "      <td>5.44</td>\n",
       "      <td>0.00</td>\n",
       "      <td>0.00</td>\n",
       "      <td>0.00</td>\n",
       "      <td>0.00</td>\n",
       "      <td>0.00</td>\n",
       "      <td>0.00</td>\n",
       "      <td>2</td>\n",
       "      <td>252</td>\n",
       "      <td>252</td>\n",
       "      <td>5.75</td>\n",
       "      <td>0</td>\n",
       "      <td>0</td>\n",
       "      <td>1</td>\n",
       "      <td>0</td>\n",
       "      <td>30.40</td>\n",
       "      <td>1</td>\n",
       "      <td>206.10</td>\n",
       "      <td>0.00</td>\n",
       "      <td>0.00</td>\n",
       "      <td>0.00</td>\n",
       "      <td>0.00</td>\n",
       "      <td>0.00</td>\n",
       "      <td>0.00</td>\n",
       "      <td>0.00</td>\n",
       "      <td>0.00</td>\n",
       "      <td>0.00</td>\n",
       "      <td>0.00</td>\n",
       "      <td>0.00</td>\n",
       "      <td>0.00</td>\n",
       "      <td>0.00</td>\n",
       "      <td>0.00</td>\n",
       "      <td>0.00</td>\n",
       "      <td>0.00</td>\n",
       "      <td>0.00</td>\n",
       "      <td>0.00</td>\n",
       "      <td>3.50</td>\n",
       "      <td>252.00</td>\n",
       "      <td>252.00</td>\n",
       "      <td>15.72</td>\n",
       "      <td>0.00</td>\n",
       "      <td>0.00</td>\n",
       "      <td>1.00</td>\n",
       "      <td>0.00</td>\n",
       "      <td>50.60</td>\n",
       "      <td>32.27</td>\n",
       "    </tr>\n",
       "    <tr>\n",
       "      <th>7</th>\n",
       "      <td>3171.48</td>\n",
       "      <td>52.29</td>\n",
       "      <td>325.91</td>\n",
       "      <td>31.64</td>\n",
       "      <td>38.06</td>\n",
       "      <td>0.00</td>\n",
       "      <td>255.79</td>\n",
       "      <td>16.68</td>\n",
       "      <td>77.84</td>\n",
       "      <td>10.01</td>\n",
       "      <td>6.50</td>\n",
       "      <td>0.00</td>\n",
       "      <td>188.04</td>\n",
       "      <td>30.39</td>\n",
       "      <td>22.21</td>\n",
       "      <td>193.94</td>\n",
       "      <td>0.00</td>\n",
       "      <td>31.59</td>\n",
       "      <td>15.14</td>\n",
       "      <td>7</td>\n",
       "      <td>1580</td>\n",
       "      <td>779</td>\n",
       "      <td>0.00</td>\n",
       "      <td>0</td>\n",
       "      <td>0</td>\n",
       "      <td>0</td>\n",
       "      <td>0</td>\n",
       "      <td>57.74</td>\n",
       "      <td>1</td>\n",
       "      <td>1209.51</td>\n",
       "      <td>56.26</td>\n",
       "      <td>510.29</td>\n",
       "      <td>24.86</td>\n",
       "      <td>18.16</td>\n",
       "      <td>0.00</td>\n",
       "      <td>478.03</td>\n",
       "      <td>13.37</td>\n",
       "      <td>68.00</td>\n",
       "      <td>0.09</td>\n",
       "      <td>2.25</td>\n",
       "      <td>0.00</td>\n",
       "      <td>391.56</td>\n",
       "      <td>24.36</td>\n",
       "      <td>43.22</td>\n",
       "      <td>176.81</td>\n",
       "      <td>0.10</td>\n",
       "      <td>8.29</td>\n",
       "      <td>15.46</td>\n",
       "      <td>5.00</td>\n",
       "      <td>1185.00</td>\n",
       "      <td>0.00</td>\n",
       "      <td>0.00</td>\n",
       "      <td>0.00</td>\n",
       "      <td>0.00</td>\n",
       "      <td>0.00</td>\n",
       "      <td>0.00</td>\n",
       "      <td>19.06</td>\n",
       "      <td>26.73</td>\n",
       "    </tr>\n",
       "    <tr>\n",
       "      <th>8</th>\n",
       "      <td>137.36</td>\n",
       "      <td>35.08</td>\n",
       "      <td>136.48</td>\n",
       "      <td>0.00</td>\n",
       "      <td>0.00</td>\n",
       "      <td>7.15</td>\n",
       "      <td>63.04</td>\n",
       "      <td>0.00</td>\n",
       "      <td>98.28</td>\n",
       "      <td>0.00</td>\n",
       "      <td>10.23</td>\n",
       "      <td>0.00</td>\n",
       "      <td>15.79</td>\n",
       "      <td>0.10</td>\n",
       "      <td>0.00</td>\n",
       "      <td>0.75</td>\n",
       "      <td>0.00</td>\n",
       "      <td>0.00</td>\n",
       "      <td>0.00</td>\n",
       "      <td>14</td>\n",
       "      <td>30</td>\n",
       "      <td>10</td>\n",
       "      <td>0.03</td>\n",
       "      <td>0</td>\n",
       "      <td>3</td>\n",
       "      <td>0</td>\n",
       "      <td>0</td>\n",
       "      <td>21.03</td>\n",
       "      <td>0</td>\n",
       "      <td>435.47</td>\n",
       "      <td>382.36</td>\n",
       "      <td>87.64</td>\n",
       "      <td>0.00</td>\n",
       "      <td>0.00</td>\n",
       "      <td>0.00</td>\n",
       "      <td>333.13</td>\n",
       "      <td>0.00</td>\n",
       "      <td>136.87</td>\n",
       "      <td>0.00</td>\n",
       "      <td>0.00</td>\n",
       "      <td>0.00</td>\n",
       "      <td>52.63</td>\n",
       "      <td>0.29</td>\n",
       "      <td>0.00</td>\n",
       "      <td>13.54</td>\n",
       "      <td>0.00</td>\n",
       "      <td>0.00</td>\n",
       "      <td>0.00</td>\n",
       "      <td>20.00</td>\n",
       "      <td>122.00</td>\n",
       "      <td>25.00</td>\n",
       "      <td>178.00</td>\n",
       "      <td>0.50</td>\n",
       "      <td>0.50</td>\n",
       "      <td>0.00</td>\n",
       "      <td>0.00</td>\n",
       "      <td>516.40</td>\n",
       "      <td>10.50</td>\n",
       "    </tr>\n",
       "    <tr>\n",
       "      <th>21</th>\n",
       "      <td>637.76</td>\n",
       "      <td>85.14</td>\n",
       "      <td>983.39</td>\n",
       "      <td>0.00</td>\n",
       "      <td>0.00</td>\n",
       "      <td>0.00</td>\n",
       "      <td>129.74</td>\n",
       "      <td>0.00</td>\n",
       "      <td>938.79</td>\n",
       "      <td>0.00</td>\n",
       "      <td>0.00</td>\n",
       "      <td>0.00</td>\n",
       "      <td>159.11</td>\n",
       "      <td>0.18</td>\n",
       "      <td>0.00</td>\n",
       "      <td>101.93</td>\n",
       "      <td>0.00</td>\n",
       "      <td>0.00</td>\n",
       "      <td>0.00</td>\n",
       "      <td>27</td>\n",
       "      <td>50</td>\n",
       "      <td>50</td>\n",
       "      <td>0.00</td>\n",
       "      <td>0</td>\n",
       "      <td>0</td>\n",
       "      <td>0</td>\n",
       "      <td>0</td>\n",
       "      <td>0.00</td>\n",
       "      <td>0</td>\n",
       "      <td>556.10</td>\n",
       "      <td>117.26</td>\n",
       "      <td>827.30</td>\n",
       "      <td>0.00</td>\n",
       "      <td>0.00</td>\n",
       "      <td>0.00</td>\n",
       "      <td>95.56</td>\n",
       "      <td>0.00</td>\n",
       "      <td>848.99</td>\n",
       "      <td>0.00</td>\n",
       "      <td>0.00</td>\n",
       "      <td>0.00</td>\n",
       "      <td>106.50</td>\n",
       "      <td>10.02</td>\n",
       "      <td>0.00</td>\n",
       "      <td>62.98</td>\n",
       "      <td>0.00</td>\n",
       "      <td>0.00</td>\n",
       "      <td>0.00</td>\n",
       "      <td>24.00</td>\n",
       "      <td>50.00</td>\n",
       "      <td>25.00</td>\n",
       "      <td>0.00</td>\n",
       "      <td>0.00</td>\n",
       "      <td>0.00</td>\n",
       "      <td>0.00</td>\n",
       "      <td>0.00</td>\n",
       "      <td>0.00</td>\n",
       "      <td>24.00</td>\n",
       "    </tr>\n",
       "    <tr>\n",
       "      <th>23</th>\n",
       "      <td>366.97</td>\n",
       "      <td>33.58</td>\n",
       "      <td>205.89</td>\n",
       "      <td>0.00</td>\n",
       "      <td>0.00</td>\n",
       "      <td>17.71</td>\n",
       "      <td>182.14</td>\n",
       "      <td>0.00</td>\n",
       "      <td>39.61</td>\n",
       "      <td>0.00</td>\n",
       "      <td>17.71</td>\n",
       "      <td>0.00</td>\n",
       "      <td>224.21</td>\n",
       "      <td>13.38</td>\n",
       "      <td>0.00</td>\n",
       "      <td>57.29</td>\n",
       "      <td>0.00</td>\n",
       "      <td>3.74</td>\n",
       "      <td>13.06</td>\n",
       "      <td>4</td>\n",
       "      <td>179</td>\n",
       "      <td>0</td>\n",
       "      <td>0.01</td>\n",
       "      <td>0</td>\n",
       "      <td>0</td>\n",
       "      <td>1</td>\n",
       "      <td>1</td>\n",
       "      <td>40.45</td>\n",
       "      <td>0</td>\n",
       "      <td>134.12</td>\n",
       "      <td>49.81</td>\n",
       "      <td>87.38</td>\n",
       "      <td>0.00</td>\n",
       "      <td>0.00</td>\n",
       "      <td>0.00</td>\n",
       "      <td>132.80</td>\n",
       "      <td>0.00</td>\n",
       "      <td>4.35</td>\n",
       "      <td>0.01</td>\n",
       "      <td>0.05</td>\n",
       "      <td>0.00</td>\n",
       "      <td>145.52</td>\n",
       "      <td>0.26</td>\n",
       "      <td>0.00</td>\n",
       "      <td>8.92</td>\n",
       "      <td>0.00</td>\n",
       "      <td>14.12</td>\n",
       "      <td>2.67</td>\n",
       "      <td>4.00</td>\n",
       "      <td>89.50</td>\n",
       "      <td>89.50</td>\n",
       "      <td>0.24</td>\n",
       "      <td>0.00</td>\n",
       "      <td>0.00</td>\n",
       "      <td>1.00</td>\n",
       "      <td>0.00</td>\n",
       "      <td>25.93</td>\n",
       "      <td>20.13</td>\n",
       "    </tr>\n",
       "  </tbody>\n",
       "</table>\n",
       "</div>"
      ],
      "text/plain": [
       "    arpu_8  onnet_mou_8  ...  avg_vbc_3g_av67  aon_mon\n",
       "0   213.80         0.00  ...            50.60    32.27\n",
       "7  3171.48        52.29  ...            19.06    26.73\n",
       "8   137.36        35.08  ...           516.40    10.50\n",
       "21  637.76        85.14  ...             0.00    24.00\n",
       "23  366.97        33.58  ...            25.93    20.13\n",
       "\n",
       "[5 rows x 58 columns]"
      ]
     },
     "execution_count": 136,
     "metadata": {
      "tags": []
     },
     "output_type": "execute_result"
    }
   ],
   "source": [
    "#Lets Create New DF for Model Building\n",
    "\n",
    "df_telecom_churn = df_high_val_cust[:].copy()\n",
    "\n",
    "#Dropping tenure_range since we have AON MONTH already and columns are highly corelated\n",
    "df_telecom_churn.drop('tenure_range', axis=1, inplace=True)\n",
    "df_telecom_churn.drop('mobile_number', axis=1, inplace=True)\n",
    "\n",
    "#Since All The Values are realted to Price/ Cost/ Amount, Filling NaN with 0\n",
    "\n",
    "df_telecom_churn.fillna(0, inplace=True)\n",
    "\n",
    "df_telecom_churn.head()"
   ]
  },
  {
   "cell_type": "code",
   "execution_count": 0,
   "metadata": {
    "_uuid": "b5922cded74596f7f88b27fe2789a0f48ca7eeb9",
    "colab": {},
    "colab_type": "code",
    "id": "1D3CbadzUo2A"
   },
   "outputs": [],
   "source": [
    "X = df_telecom_churn.drop(['churn'], axis=1)\n",
    "y = df_telecom_churn['churn']\n",
    "\n",
    "df_telecom_churn.drop('churn', axis=1, inplace=True)\n"
   ]
  },
  {
   "cell_type": "code",
   "execution_count": 0,
   "metadata": {
    "_uuid": "a931c429bdd2a0f411ec5bbfc0a1e92d132c48ee",
    "colab": {},
    "colab_type": "code",
    "id": "vXtfIOp9Uo2C"
   },
   "outputs": [],
   "source": [
    "#Let's perform the scaling on the data using StandardScaler\n",
    "from sklearn.preprocessing import StandardScaler\n",
    "\n",
    "scaler = StandardScaler().fit(X)\n",
    "X = scaler.transform(X)"
   ]
  },
  {
   "cell_type": "code",
   "execution_count": 0,
   "metadata": {
    "_uuid": "d31343bfd27fbd3dbe46976a65219bcaf2289de6",
    "colab": {},
    "colab_type": "code",
    "id": "5dyPtLTuUo2E"
   },
   "outputs": [],
   "source": [
    "# Split the dataset as train & test\n",
    "from sklearn.model_selection import train_test_split\n",
    "\n",
    "X_train, X_test, y_train, y_test = train_test_split(X, y, test_size=0.3, train_size=0.7, random_state=1)"
   ]
  },
  {
   "cell_type": "code",
   "execution_count": 140,
   "metadata": {
    "_uuid": "02864cdfe22806ffde8803eb3d7ecf4f7cba8e86",
    "colab": {
     "base_uri": "https://localhost:8080/",
     "height": 85
    },
    "colab_type": "code",
    "id": "mJ4gl2_9Uo2G",
    "outputId": "4a32ebcf-a7f6-41b6-e32f-fd4e3c2e7eae"
   },
   "outputs": [
    {
     "name": "stdout",
     "output_type": "stream",
     "text": [
      "X_train Shape :  (21000, 57)\n",
      "X_test Shape :  (9001, 57)\n",
      "Imbalance in Train Data :  0.08875985068436333\n",
      "Imbalance in Test Data :  0.08812862669245648\n"
     ]
    }
   ],
   "source": [
    "print(\"X_train Shape : \", X_train.shape)\n",
    "print(\"X_test Shape : \", X_test.shape)\n",
    "\n",
    "y_train_imb = (y_train != 0).sum()/(y_train == 0).sum()\n",
    "y_test_imb = (y_test != 0).sum()/(y_test == 0).sum()\n",
    "print(\"Imbalance in Train Data : \", y_train_imb)\n",
    "print(\"Imbalance in Test Data : \", y_test_imb)"
   ]
  },
  {
   "cell_type": "code",
   "execution_count": 0,
   "metadata": {
    "_uuid": "4c0a9617d3dc72b9a6b847f3f95976bc7740c430",
    "colab": {},
    "colab_type": "code",
    "id": "wNa7Xq-NUo2I"
   },
   "outputs": [],
   "source": [
    "# Balancing DataSet\n",
    "from imblearn.over_sampling import SMOTE\n",
    "\n",
    "sm = SMOTE(kind = \"regular\")\n",
    "X_tr,y_tr = sm.fit_sample(X_train,y_train)"
   ]
  },
  {
   "cell_type": "code",
   "execution_count": 142,
   "metadata": {
    "_uuid": "32918f0385ccf657198073371532222a6a3657a8",
    "colab": {
     "base_uri": "https://localhost:8080/",
     "height": 68
    },
    "colab_type": "code",
    "id": "VG6khGcKUo2K",
    "outputId": "b2b8ff42-ddc4-4bb4-c6f6-e59735d4d6fa"
   },
   "outputs": [
    {
     "name": "stdout",
     "output_type": "stream",
     "text": [
      "X_tr Shape (38576, 57)\n",
      "y_tr Shape (38576,)\n",
      "Imbalance in Train Data :  1.0\n"
     ]
    }
   ],
   "source": [
    "print(\"X_tr Shape\", X_tr.shape)\n",
    "print(\"y_tr Shape\", y_tr.shape)\n",
    "\n",
    "imb = (y_tr != 0).sum()/(y_tr == 0).sum()\n",
    "print(\"Imbalance in Train Data : \",imb)"
   ]
  },
  {
   "cell_type": "markdown",
   "metadata": {
    "_uuid": "9f17ace1bf8f99931936d067eb957a265fb54db7",
    "colab_type": "text",
    "id": "XP7RQEc9Uo2M"
   },
   "source": [
    "### Model Building"
   ]
  },
  {
   "cell_type": "markdown",
   "metadata": {
    "_uuid": "eb6a72542469380f4317c9f91cc9fb7b41a3f3e7",
    "colab_type": "text",
    "id": "AqHslfnsUo2P"
   },
   "source": [
    "#### RFE"
   ]
  },
  {
   "cell_type": "code",
   "execution_count": 0,
   "metadata": {
    "_uuid": "a95db7bd949db6986cd6016a8b3ef1097dd6ce74",
    "colab": {},
    "colab_type": "code",
    "id": "7MJ8sjWEUo2Q"
   },
   "outputs": [],
   "source": [
    "# Feature reduction using RFE\n",
    "from sklearn.linear_model import LogisticRegression\n",
    "lr = LogisticRegression()\n",
    "from sklearn.feature_selection import RFE\n",
    "\n",
    "# running RFE with 15 variables as output\n",
    "rfe = RFE(lr, n_features_to_select=15)   \n",
    "rfe = rfe.fit(X_tr, y_tr)"
   ]
  },
  {
   "cell_type": "code",
   "execution_count": 144,
   "metadata": {
    "_uuid": "5da4b75dccad49c24e53b64ac4756beac889e860",
    "colab": {
     "base_uri": "https://localhost:8080/",
     "height": 54
    },
    "colab_type": "code",
    "id": "LnA8afrKUo2S",
    "outputId": "3255af9e-1703-45f8-d3a6-7d82219e7607"
   },
   "outputs": [
    {
     "name": "stdout",
     "output_type": "stream",
     "text": [
      "Features identified by RFE  ['loc_og_mou_8', 'og_others_8', 'loc_ic_mou_8', 'std_ic_t2t_mou_8', 'std_ic_t2f_mou_8', 'std_ic_mou_8', 'spl_ic_mou_8', 'total_rech_num_8', 'last_day_rch_amt_8', 'vol_2g_mb_8', 'monthly_2g_8', 'sachet_2g_8', 'monthly_3g_8', 'avg_arpu_av67', 'avg_loc_ic_mou_av67']\n"
     ]
    }
   ],
   "source": [
    "rfe_features = list(df_telecom_churn.columns[rfe.support_])\n",
    "print(\"Features identified by RFE \", rfe_features)"
   ]
  },
  {
   "cell_type": "code",
   "execution_count": 0,
   "metadata": {
    "_uuid": "72da3541e01d169f37c55b19f4c90e3ebad98d2f",
    "colab": {},
    "colab_type": "code",
    "id": "8hmWxBvsUo2U"
   },
   "outputs": [],
   "source": [
    "X_rfe = pd.DataFrame(data=X_tr).iloc[:, rfe.support_]\n",
    "y_rfe = y_tr"
   ]
  },
  {
   "cell_type": "markdown",
   "metadata": {
    "_uuid": "cf27f3dffc7fa31b4bdff356be1b089f4c7fefa9",
    "colab_type": "text",
    "id": "rKkIccd8Uo2W"
   },
   "source": [
    "### Logistic Regression"
   ]
  },
  {
   "cell_type": "code",
   "execution_count": 146,
   "metadata": {
    "_uuid": "303e0c257e7198416b8a5bead4d713c748dd1f13",
    "colab": {
     "base_uri": "https://localhost:8080/",
     "height": 102
    },
    "colab_type": "code",
    "id": "7-eSIDZRUo2X",
    "outputId": "18c32184-8650-47a7-fdce-8590a5a675a8"
   },
   "outputs": [
    {
     "data": {
      "text/plain": [
       "LogisticRegression(C=1.0, class_weight=None, dual=False, fit_intercept=True,\n",
       "                   intercept_scaling=1, l1_ratio=None, max_iter=100,\n",
       "                   multi_class='warn', n_jobs=None, penalty='l2',\n",
       "                   random_state=1, solver='warn', tol=0.0001, verbose=0,\n",
       "                   warm_start=False)"
      ]
     },
     "execution_count": 146,
     "metadata": {
      "tags": []
     },
     "output_type": "execute_result"
    }
   ],
   "source": [
    "from sklearn.linear_model import LogisticRegression\n",
    "lr = LogisticRegression(random_state=1)\n",
    "lr.fit(X_rfe, y_rfe)"
   ]
  },
  {
   "cell_type": "code",
   "execution_count": 147,
   "metadata": {
    "_uuid": "bf6b17349c7785079d04149b6b2d90e43b7b8283",
    "colab": {
     "base_uri": "https://localhost:8080/",
     "height": 51
    },
    "colab_type": "code",
    "id": "O29EksN1Uo2c",
    "outputId": "17f31fe8-44a1-4cd0-aff2-557426c95cd9"
   },
   "outputs": [
    {
     "name": "stdout",
     "output_type": "stream",
     "text": [
      "[[6570 1702]\n",
      " [ 140  589]]\n"
     ]
    }
   ],
   "source": [
    "X_test_rfe = pd.DataFrame(data=X_test).iloc[:, rfe.support_]\n",
    "\n",
    "y_pred = lr.predict(X_test_rfe)\n",
    "\n",
    "from sklearn.metrics import confusion_matrix\n",
    "confusion_matrix = confusion_matrix(y_test, y_pred)\n",
    "print(confusion_matrix)"
   ]
  },
  {
   "cell_type": "code",
   "execution_count": 148,
   "metadata": {
    "_uuid": "70c428f927907e1a17e8da51dc2160e0f76bb3dc",
    "colab": {
     "base_uri": "https://localhost:8080/",
     "height": 34
    },
    "colab_type": "code",
    "id": "aBlek7-xUo2f",
    "outputId": "ed90d6a5-7214-4a0d-f144-8a8ee324a03a"
   },
   "outputs": [
    {
     "name": "stdout",
     "output_type": "stream",
     "text": [
      "Accuracy of Logistic Regression Model on test set is  0.8\n"
     ]
    }
   ],
   "source": [
    "print('Accuracy of Logistic Regression Model on test set is ',round(lr.score(X_test_rfe, y_test), 2))"
   ]
  },
  {
   "cell_type": "code",
   "execution_count": 149,
   "metadata": {
    "_uuid": "25385aec559b4b1b7fe6a0d692a187d67a790306",
    "colab": {
     "base_uri": "https://localhost:8080/",
     "height": 170
    },
    "colab_type": "code",
    "id": "S6AAJDwJUo2i",
    "outputId": "27e504c0-865c-4d98-c242-210fbae730ec"
   },
   "outputs": [
    {
     "name": "stdout",
     "output_type": "stream",
     "text": [
      "              precision    recall  f1-score   support\n",
      "\n",
      "           0       0.98      0.79      0.88      8272\n",
      "           1       0.26      0.81      0.39       729\n",
      "\n",
      "    accuracy                           0.80      9001\n",
      "   macro avg       0.62      0.80      0.63      9001\n",
      "weighted avg       0.92      0.80      0.84      9001\n",
      "\n"
     ]
    }
   ],
   "source": [
    "from sklearn.metrics import classification_report\n",
    "print(classification_report(y_test, y_pred))"
   ]
  },
  {
   "cell_type": "code",
   "execution_count": 150,
   "metadata": {
    "_uuid": "30c1a5cbd217fb0e81e01ee74a3e75abf64bb693",
    "colab": {
     "base_uri": "https://localhost:8080/",
     "height": 289
    },
    "colab_type": "code",
    "id": "l5JglevsUo2l",
    "outputId": "05e71782-3d6a-4646-8c3b-c546cc3b4d5d"
   },
   "outputs": [
    {
     "data": {
      "text/plain": [
       "avg_loc_ic_mou_av67    0.70\n",
       "avg_arpu_av67          0.58\n",
       "std_ic_t2t_mou_8      -0.23\n",
       "std_ic_t2f_mou_8      -0.35\n",
       "std_ic_mou_8          -0.35\n",
       "vol_2g_mb_8           -0.38\n",
       "spl_ic_mou_8          -0.40\n",
       "monthly_3g_8          -0.48\n",
       "last_day_rch_amt_8    -0.57\n",
       "total_rech_num_8      -0.60\n",
       "sachet_2g_8           -0.65\n",
       "monthly_2g_8          -0.70\n",
       "loc_og_mou_8          -1.13\n",
       "loc_ic_mou_8          -2.63\n",
       "og_others_8           -2.67\n",
       "dtype: float64"
      ]
     },
     "execution_count": 150,
     "metadata": {
      "tags": []
     },
     "output_type": "execute_result"
    }
   ],
   "source": [
    "# To get the weights of all the variables\n",
    "weights = pd.Series(lr.coef_[0],\n",
    "                 index=rfe_features)\n",
    "weights.sort_values(ascending = False)"
   ]
  },
  {
   "cell_type": "markdown",
   "metadata": {
    "_uuid": "ea57e97ac4fb6a6788719494cd53e825f6afb43b",
    "colab_type": "text",
    "id": "YfH6-W0lUo2p"
   },
   "source": [
    "LR Summary\n",
    "* Model Accuracy is 80%\n",
    "* Confusion matix clearly shows that the model has drawback in predicting churn as high false positives."
   ]
  },
  {
   "cell_type": "markdown",
   "metadata": {
    "_uuid": "d440508d15d0c683d919bf604744b0a46d773c6d",
    "colab_type": "text",
    "id": "7u9lUTApUo2q"
   },
   "source": [
    "#### PCA"
   ]
  },
  {
   "cell_type": "code",
   "execution_count": 151,
   "metadata": {
    "_uuid": "220fd3ce66b07474464d21ea50c3d610934c0db6",
    "colab": {
     "base_uri": "https://localhost:8080/",
     "height": 51
    },
    "colab_type": "code",
    "id": "1VxPLo2xUo2q",
    "outputId": "02f38fd6-125d-41ec-c6b0-6caaf7ac55d0"
   },
   "outputs": [
    {
     "name": "stdout",
     "output_type": "stream",
     "text": [
      "(38576, 57)\n",
      "(38576,)\n"
     ]
    }
   ],
   "source": [
    "X_train, X_test, y_train, y_test = train_test_split(X, y, test_size=0.3, train_size=0.7, random_state=1)\n",
    "\n",
    "#Applying Smote\n",
    "from imblearn.over_sampling import SMOTE\n",
    "sm = SMOTE(kind = \"regular\")\n",
    "X_tr,y_tr = sm.fit_sample(X_train,y_train)\n",
    "print(X_tr.shape)\n",
    "print(y_tr.shape)\n"
   ]
  },
  {
   "cell_type": "markdown",
   "metadata": {
    "_uuid": "d6291804128fd35de4a12f2701ae94a99d74ce50",
    "colab_type": "text",
    "id": "6vqZnz-MUo2v"
   },
   "source": [
    "Applying  PCA"
   ]
  },
  {
   "cell_type": "code",
   "execution_count": 152,
   "metadata": {
    "_uuid": "e02fa76f481f925ba0cb8fbab2b8dc0449dfd0fb",
    "colab": {
     "base_uri": "https://localhost:8080/",
     "height": 51
    },
    "colab_type": "code",
    "id": "3rwl8WgQUo2w",
    "outputId": "1b622e34-0bdb-434d-e4a5-194c8773883c"
   },
   "outputs": [
    {
     "data": {
      "text/plain": [
       "PCA(copy=True, iterated_power='auto', n_components=None, random_state=100,\n",
       "    svd_solver='auto', tol=0.0, whiten=False)"
      ]
     },
     "execution_count": 152,
     "metadata": {
      "tags": []
     },
     "output_type": "execute_result"
    }
   ],
   "source": [
    "#Importing the PCA module\n",
    "from sklearn.decomposition import PCA\n",
    "pca = PCA(random_state=100)\n",
    "\n",
    "#Doing the PCA on the train data\n",
    "pca.fit(X_tr)"
   ]
  },
  {
   "cell_type": "code",
   "execution_count": 153,
   "metadata": {
    "_uuid": "1b53a6b56982028997e65b7185b1e461018bab84",
    "colab": {
     "base_uri": "https://localhost:8080/",
     "height": 51
    },
    "colab_type": "code",
    "id": "s9FKKFUiUo2y",
    "outputId": "1b10c092-ccde-4c04-e280-f95d1c292495"
   },
   "outputs": [
    {
     "name": "stdout",
     "output_type": "stream",
     "text": [
      "(38576, 57)\n",
      "(9001, 57)\n"
     ]
    }
   ],
   "source": [
    "X_tr_pca = pca.fit_transform(X_tr)\n",
    "print(X_tr_pca.shape)\n",
    "\n",
    "X_test_pca = pca.transform(X_test)\n",
    "print(X_test_pca.shape)"
   ]
  },
  {
   "cell_type": "markdown",
   "metadata": {
    "_uuid": "071fe941350a58e9571b5a8452dcbc2e5483911f",
    "colab_type": "text",
    "id": "Hc-zWlbgUo20"
   },
   "source": [
    "Applying logistic regression\n"
   ]
  },
  {
   "cell_type": "code",
   "execution_count": 0,
   "metadata": {
    "_uuid": "6dab89aaba73bfac75fa1f3fdd8a3c06eec81dce",
    "colab": {},
    "colab_type": "code",
    "id": "j--dTvnuUo21"
   },
   "outputs": [],
   "source": [
    "from sklearn.linear_model import LogisticRegression\n",
    "from sklearn import metrics\n",
    "lr_pca = LogisticRegression(C=1e9)\n",
    "lr_pca.fit(X_tr_pca, y_tr)\n",
    "\n",
    "# Predicted probabilities\n",
    "y_pred = lr_pca.predict(X_test_pca)\n",
    "\n",
    "# Converting y_pred to a dataframe which is an array\n",
    "y_pred_df = pd.DataFrame(y_pred)"
   ]
  },
  {
   "cell_type": "code",
   "execution_count": 155,
   "metadata": {
    "_uuid": "68ddb140e27eb7345c41c3ab05ccb5f4e909a2fc",
    "colab": {
     "base_uri": "https://localhost:8080/",
     "height": 51
    },
    "colab_type": "code",
    "id": "oA7-W3hWUo25",
    "outputId": "9d619294-d89f-4e92-d7e1-318064320764"
   },
   "outputs": [
    {
     "name": "stdout",
     "output_type": "stream",
     "text": [
      "[[6752 1520]\n",
      " [ 129  600]]\n"
     ]
    }
   ],
   "source": [
    "from sklearn.metrics import classification_report, confusion_matrix, accuracy_score\n",
    "\n",
    "# Printing confusion matrix\n",
    "print(confusion_matrix(y_test,y_pred))"
   ]
  },
  {
   "cell_type": "code",
   "execution_count": 156,
   "metadata": {
    "_uuid": "324eedaf303580abcfa65d102efdf28aaff2cea7",
    "colab": {
     "base_uri": "https://localhost:8080/",
     "height": 34
    },
    "colab_type": "code",
    "id": "lEW4oXi5Uo27",
    "outputId": "71c202da-44c4-484a-db05-66c0c97c7b56"
   },
   "outputs": [
    {
     "name": "stdout",
     "output_type": "stream",
     "text": [
      "Logistic Regression accuracy with PCA:  0.8167981335407177\n"
     ]
    }
   ],
   "source": [
    "print(\"Logistic Regression accuracy with PCA: \",accuracy_score(y_test,y_pred))"
   ]
  },
  {
   "cell_type": "code",
   "execution_count": 157,
   "metadata": {
    "_uuid": "acd16d1f7375eea398a04804b1e46d4c3f890830",
    "colab": {
     "base_uri": "https://localhost:8080/",
     "height": 359
    },
    "colab_type": "code",
    "id": "lwT5eufZUo29",
    "outputId": "20480613-6fd9-4cad-eb72-ed2c880ce402"
   },
   "outputs": [
    {
     "data": {
      "text/html": [
       "<div>\n",
       "<style scoped>\n",
       "    .dataframe tbody tr th:only-of-type {\n",
       "        vertical-align: middle;\n",
       "    }\n",
       "\n",
       "    .dataframe tbody tr th {\n",
       "        vertical-align: top;\n",
       "    }\n",
       "\n",
       "    .dataframe thead th {\n",
       "        text-align: right;\n",
       "    }\n",
       "</style>\n",
       "<table border=\"1\" class=\"dataframe\">\n",
       "  <thead>\n",
       "    <tr style=\"text-align: right;\">\n",
       "      <th></th>\n",
       "      <th>PC1</th>\n",
       "      <th>PC2</th>\n",
       "      <th>PC3</th>\n",
       "      <th>Feature</th>\n",
       "    </tr>\n",
       "  </thead>\n",
       "  <tbody>\n",
       "    <tr>\n",
       "      <th>0</th>\n",
       "      <td>0.25</td>\n",
       "      <td>-0.12</td>\n",
       "      <td>0.17</td>\n",
       "      <td>arpu_8</td>\n",
       "    </tr>\n",
       "    <tr>\n",
       "      <th>1</th>\n",
       "      <td>0.15</td>\n",
       "      <td>-0.20</td>\n",
       "      <td>-0.03</td>\n",
       "      <td>onnet_mou_8</td>\n",
       "    </tr>\n",
       "    <tr>\n",
       "      <th>2</th>\n",
       "      <td>0.21</td>\n",
       "      <td>-0.18</td>\n",
       "      <td>0.05</td>\n",
       "      <td>offnet_mou_8</td>\n",
       "    </tr>\n",
       "    <tr>\n",
       "      <th>3</th>\n",
       "      <td>0.34</td>\n",
       "      <td>0.33</td>\n",
       "      <td>-0.15</td>\n",
       "      <td>roam_ic_mou_8</td>\n",
       "    </tr>\n",
       "    <tr>\n",
       "      <th>4</th>\n",
       "      <td>0.26</td>\n",
       "      <td>0.18</td>\n",
       "      <td>-0.12</td>\n",
       "      <td>roam_og_mou_8</td>\n",
       "    </tr>\n",
       "    <tr>\n",
       "      <th>5</th>\n",
       "      <td>0.04</td>\n",
       "      <td>-0.06</td>\n",
       "      <td>-0.01</td>\n",
       "      <td>loc_og_t2c_mou_8</td>\n",
       "    </tr>\n",
       "    <tr>\n",
       "      <th>6</th>\n",
       "      <td>0.11</td>\n",
       "      <td>-0.11</td>\n",
       "      <td>0.18</td>\n",
       "      <td>loc_og_mou_8</td>\n",
       "    </tr>\n",
       "    <tr>\n",
       "      <th>7</th>\n",
       "      <td>0.03</td>\n",
       "      <td>-0.00</td>\n",
       "      <td>0.08</td>\n",
       "      <td>std_og_t2f_mou_8</td>\n",
       "    </tr>\n",
       "    <tr>\n",
       "      <th>8</th>\n",
       "      <td>0.17</td>\n",
       "      <td>-0.25</td>\n",
       "      <td>-0.07</td>\n",
       "      <td>std_og_mou_8</td>\n",
       "    </tr>\n",
       "    <tr>\n",
       "      <th>9</th>\n",
       "      <td>0.03</td>\n",
       "      <td>-0.01</td>\n",
       "      <td>0.04</td>\n",
       "      <td>isd_og_mou_8</td>\n",
       "    </tr>\n",
       "  </tbody>\n",
       "</table>\n",
       "</div>"
      ],
      "text/plain": [
       "   PC1   PC2   PC3           Feature\n",
       "0 0.25 -0.12  0.17            arpu_8\n",
       "1 0.15 -0.20 -0.03       onnet_mou_8\n",
       "2 0.21 -0.18  0.05      offnet_mou_8\n",
       "3 0.34  0.33 -0.15     roam_ic_mou_8\n",
       "4 0.26  0.18 -0.12     roam_og_mou_8\n",
       "5 0.04 -0.06 -0.01  loc_og_t2c_mou_8\n",
       "6 0.11 -0.11  0.18      loc_og_mou_8\n",
       "7 0.03 -0.00  0.08  std_og_t2f_mou_8\n",
       "8 0.17 -0.25 -0.07      std_og_mou_8\n",
       "9 0.03 -0.01  0.04      isd_og_mou_8"
      ]
     },
     "execution_count": 157,
     "metadata": {
      "tags": []
     },
     "output_type": "execute_result"
    }
   ],
   "source": [
    "col = list(df_telecom_churn.columns)\n",
    "df_pca = pd.DataFrame({'PC1':pca.components_[0],'PC2':pca.components_[1], 'PC3':pca.components_[2],'Feature':col})\n",
    "df_pca.head(10)"
   ]
  },
  {
   "cell_type": "code",
   "execution_count": 158,
   "metadata": {
    "_uuid": "0d359fcddbffdc683b084d10bf415dc6f78a2ded",
    "colab": {
     "base_uri": "https://localhost:8080/",
     "height": 500
    },
    "colab_type": "code",
    "id": "CbAQEzJyUo2_",
    "outputId": "ddff7a70-b318-4f96-e6b6-2667f525cf69"
   },
   "outputs": [
    {
     "data": {
      "image/png": "[encoded data removed]",
      "text/plain": [
       "<Figure size 864x576 with 1 Axes>"
      ]
     },
     "metadata": {
      "tags": []
     },
     "output_type": "display_data"
    }
   ],
   "source": [
    "#Making the screeplot - plotting the cumulative variance against the number of components\n",
    "%matplotlib inline\n",
    "fig = plt.figure(figsize = (12,8))\n",
    "plt.plot(np.cumsum(pca.explained_variance_ratio_))\n",
    "plt.xlabel('number of components')\n",
    "plt.ylabel('cumulative explained variance')\n",
    "plt.axvline(x=32, c = 'red')\n",
    "plt.axhline(y = 0.9, c = 'red')\n",
    "plt.show()"
   ]
  },
  {
   "cell_type": "code",
   "execution_count": 159,
   "metadata": {
    "_uuid": "8716bfde1bfa9fd31516857d5a315a5b0aca4339",
    "colab": {
     "base_uri": "https://localhost:8080/",
     "height": 153
    },
    "colab_type": "code",
    "id": "FwuAPmJOUo3B",
    "outputId": "887a28a0-96d3-4189-9df7-8f29aa6c3462"
   },
   "outputs": [
    {
     "data": {
      "text/plain": [
       "array([ 10.92,  19.91,  27.86,  32.84,  37.27,  41.23,  44.55,  47.72,\n",
       "        50.86,  53.83,  56.68,  59.45,  61.98,  64.48,  66.76,  68.91,\n",
       "        70.99,  72.97,  74.59,  76.08,  77.55,  79.  ,  80.39,  81.75,\n",
       "        83.1 ,  84.34,  85.45,  86.48,  87.47,  88.38,  89.23,  90.03,\n",
       "        90.78,  91.52,  92.26,  92.94,  93.54,  94.13,  94.68,  95.21,\n",
       "        95.68,  96.14,  96.58,  97.  ,  97.4 ,  97.76,  98.11,  98.44,\n",
       "        98.75,  99.03,  99.29,  99.53,  99.72,  99.9 , 100.  , 100.  ,\n",
       "       100.  ])"
      ]
     },
     "execution_count": 159,
     "metadata": {
      "tags": []
     },
     "output_type": "execute_result"
    }
   ],
   "source": [
    "np.cumsum(np.round(pca.explained_variance_ratio_, decimals=4)*100)"
   ]
  },
  {
   "cell_type": "markdown",
   "metadata": {
    "_uuid": "2ce1df23064805a496ed8e90e92d12c35a993b0b",
    "colab_type": "text",
    "id": "-t6L-evIUo3G"
   },
   "source": [
    "Applying LR with 32 columns with 90% variance\n"
   ]
  },
  {
   "cell_type": "code",
   "execution_count": 160,
   "metadata": {
    "_uuid": "7172f0d2eeb9d78758ccfc1ea45082057f6e4568",
    "colab": {
     "base_uri": "https://localhost:8080/",
     "height": 51
    },
    "colab_type": "code",
    "id": "6VrcWKdpUo3G",
    "outputId": "5e61f702-a454-40f1-e2f6-55add77897d1"
   },
   "outputs": [
    {
     "name": "stdout",
     "output_type": "stream",
     "text": [
      "(38576, 32)\n",
      "(9001, 32)\n"
     ]
    }
   ],
   "source": [
    "pca_32 = PCA(n_components=32)\n",
    "\n",
    "df_tr_pca_32 = pca_32.fit_transform(X_tr)\n",
    "print(df_tr_pca_32.shape)\n",
    "\n",
    "df_test_pca_32 = pca_32.transform(X_test)\n",
    "print(df_test_pca_32.shape)"
   ]
  },
  {
   "cell_type": "code",
   "execution_count": 0,
   "metadata": {
    "_uuid": "923f59b0263e5d2937c105e6a91b5451a35dda8f",
    "colab": {},
    "colab_type": "code",
    "id": "dBTBeAs2Uo3J"
   },
   "outputs": [],
   "source": [
    "# Let's run the model using the selected variables\n",
    "from sklearn.linear_model import LogisticRegression\n",
    "from sklearn import metrics\n",
    "lr_pca1 = LogisticRegression(C=1e9)\n",
    "lr_pca1.fit(df_tr_pca_32, y_tr)\n",
    "\n",
    "# Predicted probabilities\n",
    "y_pred32 = lr_pca1.predict(df_test_pca_32)\n",
    "\n",
    "# Converting y_pred to a dataframe which is an array\n",
    "df_y_pred = pd.DataFrame(y_pred32)"
   ]
  },
  {
   "cell_type": "code",
   "execution_count": 162,
   "metadata": {
    "_uuid": "e633f8f013b39cff8a3a17b41ee2499f2745e083",
    "colab": {
     "base_uri": "https://localhost:8080/",
     "height": 51
    },
    "colab_type": "code",
    "id": "cILSwekeUo3L",
    "outputId": "a4061a31-5c44-4543-ae7f-e723763e4cc9"
   },
   "outputs": [
    {
     "name": "stdout",
     "output_type": "stream",
     "text": [
      "[[6714 1558]\n",
      " [ 144  585]]\n"
     ]
    }
   ],
   "source": [
    "print(confusion_matrix(y_test,y_pred32))"
   ]
  },
  {
   "cell_type": "code",
   "execution_count": 163,
   "metadata": {
    "_uuid": "7454e101e936a7299b0c7d58def33c1d954df57d",
    "colab": {
     "base_uri": "https://localhost:8080/",
     "height": 34
    },
    "colab_type": "code",
    "id": "k0DZzfmRUo3N",
    "outputId": "ff5c0773-1522-467d-ebc4-fe6b1236ed73"
   },
   "outputs": [
    {
     "name": "stdout",
     "output_type": "stream",
     "text": [
      "Logistic Regression accuracy with PCA:  0.8109098989001222\n"
     ]
    }
   ],
   "source": [
    "print(\"Logistic Regression accuracy with PCA: \",accuracy_score(y_test,y_pred32))"
   ]
  },
  {
   "cell_type": "markdown",
   "metadata": {
    "_uuid": "98e6d452dd7b7bb73505e216a524137e07bf64ba",
    "colab_type": "text",
    "id": "u-KW_dXKUo3P"
   },
   "source": [
    "PCA Summary :\n",
    "*  Model has 81% Accuracy\n",
    "* 32 Features can obtain optimal accuracy with 90% Variance\n",
    "* Main Features are arpu_8,onnet_mou_8,offnet_mou_8,roam_ic_mou_8,roam_og_mou_8"
   ]
  },
  {
   "cell_type": "markdown",
   "metadata": {
    "_uuid": "9c3ed81145c7a820cb1d282ca423fdf1e01e69d2",
    "colab_type": "text",
    "id": "6ZcxRXRAUo3Q"
   },
   "source": [
    "#### Decision Tress"
   ]
  },
  {
   "cell_type": "code",
   "execution_count": 164,
   "metadata": {
    "_uuid": "466ed231e521c8fb9adde89a1d3e1d4995038202",
    "colab": {
     "base_uri": "https://localhost:8080/",
     "height": 51
    },
    "colab_type": "code",
    "id": "Z87RgU2CUo3R",
    "outputId": "cf39535a-e2bf-4f9f-9d88-4681a148491e"
   },
   "outputs": [
    {
     "name": "stdout",
     "output_type": "stream",
     "text": [
      "(38576, 57)\n",
      "(38576,)\n"
     ]
    }
   ],
   "source": [
    "X_train, X_test, y_train, y_test = train_test_split(X, y, test_size=0.3, train_size=0.7, random_state=1)\n",
    "\n",
    "#Applying Smote\n",
    "from imblearn.over_sampling import SMOTE\n",
    "sm = SMOTE(kind = \"regular\")\n",
    "X_tr,y_tr = sm.fit_sample(X_train,y_train)\n",
    "print(X_tr.shape)\n",
    "print(y_tr.shape)"
   ]
  },
  {
   "cell_type": "markdown",
   "metadata": {
    "_uuid": "d0a1af99a1548c515f7dfd0c56f173b5d97c21ac",
    "colab_type": "text",
    "id": "OLon2FLlUo3U"
   },
   "source": [
    "Feature reduction using LASSO\n"
   ]
  },
  {
   "cell_type": "code",
   "execution_count": 165,
   "metadata": {
    "_uuid": "d131230587b515d85c782fc24af3f4a732c29306",
    "colab": {
     "base_uri": "https://localhost:8080/",
     "height": 68
    },
    "colab_type": "code",
    "id": "Y8mbMIz2Uo3X",
    "outputId": "d25b758d-a88a-4e5d-822c-6b9a417255db"
   },
   "outputs": [
    {
     "name": "stdout",
     "output_type": "stream",
     "text": [
      "(38576, 31)\n",
      "[ 0  2  3  4  6  7  8 10 12 15 16 19 20 21 22 23 24 25 26 27 28 31 33 36\n",
      " 40 43 47 48 50 51 56]\n"
     ]
    }
   ],
   "source": [
    "from sklearn.svm import LinearSVC\n",
    "from sklearn.feature_selection import SelectFromModel\n",
    " \n",
    "lsvc = LinearSVC(C=0.001, penalty=\"l1\", dual=False).fit(X_tr, y_tr)\n",
    "model = SelectFromModel(lsvc, prefit=True)\n",
    "X_lasso = model.transform(X_tr)\n",
    "pos = model.get_support(indices=True)\n",
    " ### Feature reduction using RFE\n",
    "print(X_lasso.shape)\n",
    "print(pos)"
   ]
  },
  {
   "cell_type": "code",
   "execution_count": 166,
   "metadata": {
    "_uuid": "6b7404894c17d934dff8a1eb16261990495180d7",
    "colab": {
     "base_uri": "https://localhost:8080/",
     "height": 54
    },
    "colab_type": "code",
    "id": "6dfxr3WwUo3b",
    "outputId": "a784d3f3-99fb-4450-ede3-da0736f55a0a"
   },
   "outputs": [
    {
     "name": "stdout",
     "output_type": "stream",
     "text": [
      "Features for LASSO model buidling:  ['arpu_8', 'offnet_mou_8', 'roam_ic_mou_8', 'roam_og_mou_8', 'loc_og_mou_8', 'std_og_t2f_mou_8', 'std_og_mou_8', 'spl_og_mou_8', 'loc_ic_mou_8', 'std_ic_mou_8', 'spl_ic_mou_8', 'total_rech_num_8', 'max_rech_amt_8', 'last_day_rch_amt_8', 'vol_2g_mb_8', 'monthly_2g_8', 'sachet_2g_8', 'monthly_3g_8', 'sachet_3g_8', 'vbc_3g_8', 'avg_arpu_av67', 'avg_roam_ic_mou_av67', 'avg_loc_og_t2c_mou_av67', 'avg_std_og_mou_av67', 'avg_loc_ic_mou_av67', 'avg_std_ic_mou_av67', 'avg_total_rech_num_av67', 'avg_max_rech_amt_av67', 'avg_vol_2g_mb_av67', 'avg_monthly_2g_av67', 'aon_mon']\n"
     ]
    }
   ],
   "source": [
    "#feature vector for decision tree\n",
    "lasso_features = list(df_telecom_churn.columns[pos])\n",
    "print(\"Features for LASSO model buidling: \", lasso_features)"
   ]
  },
  {
   "cell_type": "markdown",
   "metadata": {
    "_uuid": "582d6eacd1a69e1f66863b310268f561229fe28f",
    "colab_type": "text",
    "id": "-9vH-riLUo3d"
   },
   "source": [
    "Decision Tree with Default Hyperparameter"
   ]
  },
  {
   "cell_type": "code",
   "execution_count": 167,
   "metadata": {
    "_uuid": "ab55518acf6d08889cfa07652ae6f9fe7e2cc9e6",
    "colab": {
     "base_uri": "https://localhost:8080/",
     "height": 119
    },
    "colab_type": "code",
    "id": "Q6_v46sWUo3h",
    "outputId": "a16f954a-a557-45cf-f6cb-4015fde230b3"
   },
   "outputs": [
    {
     "data": {
      "text/plain": [
       "DecisionTreeClassifier(class_weight=None, criterion='gini', max_depth=5,\n",
       "                       max_features=None, max_leaf_nodes=None,\n",
       "                       min_impurity_decrease=0.0, min_impurity_split=None,\n",
       "                       min_samples_leaf=1, min_samples_split=2,\n",
       "                       min_weight_fraction_leaf=0.0, presort=False,\n",
       "                       random_state=None, splitter='best')"
      ]
     },
     "execution_count": 167,
     "metadata": {
      "tags": []
     },
     "output_type": "execute_result"
    }
   ],
   "source": [
    "# Importing decision tree classifier from sklearn library\n",
    "from sklearn.tree import DecisionTreeClassifier\n",
    "from sklearn import tree\n",
    "\n",
    "# Fitting the decision tree with default hyperparameters, apart from\n",
    "# max_depth which is 5 so that we can plot and read the tree.\n",
    "dt1 = DecisionTreeClassifier(max_depth=5)\n",
    "dt1.fit(X_lasso, y_tr)"
   ]
  },
  {
   "cell_type": "code",
   "execution_count": 168,
   "metadata": {
    "_uuid": "91716941146eb30bddd4c3ff616b910970a48c90",
    "colab": {
     "base_uri": "https://localhost:8080/",
     "height": 170
    },
    "colab_type": "code",
    "id": "8RFrPXGoUo3j",
    "outputId": "f9bcd498-0057-4f20-8f6a-1dd8e1a2a381"
   },
   "outputs": [
    {
     "name": "stdout",
     "output_type": "stream",
     "text": [
      "              precision    recall  f1-score   support\n",
      "\n",
      "           0       0.98      0.88      0.93      8272\n",
      "           1       0.36      0.76      0.49       729\n",
      "\n",
      "    accuracy                           0.87      9001\n",
      "   macro avg       0.67      0.82      0.71      9001\n",
      "weighted avg       0.93      0.87      0.89      9001\n",
      "\n"
     ]
    }
   ],
   "source": [
    "# The evaluation metrics of our default model\n",
    "from sklearn.metrics import classification_report, confusion_matrix, accuracy_score\n",
    "\n",
    "# Making predictions\n",
    "X_test = pd.DataFrame(data=X_test).iloc[:, pos]\n",
    "y_pred1 = dt1.predict(X_test)\n",
    "\n",
    "# Printing classification report\n",
    "print(classification_report(y_test, y_pred1))"
   ]
  },
  {
   "cell_type": "code",
   "execution_count": 169,
   "metadata": {
    "_uuid": "8e404bba849a425331f7aaff572cbcd8aa03b4e6",
    "colab": {
     "base_uri": "https://localhost:8080/",
     "height": 68
    },
    "colab_type": "code",
    "id": "fCnyXWbuUo3l",
    "outputId": "c6f029de-5db7-411a-b8dc-e3df75806360"
   },
   "outputs": [
    {
     "name": "stdout",
     "output_type": "stream",
     "text": [
      "[[7281  991]\n",
      " [ 173  556]]\n",
      "Accuracy of Decision Tree : 0.8706810354405066\n"
     ]
    }
   ],
   "source": [
    "# Printing confusion matrix and accuracy\n",
    "print(confusion_matrix(y_test,y_pred1))\n",
    "print('Accuracy of Decision Tree :',accuracy_score(y_test,y_pred1))"
   ]
  },
  {
   "cell_type": "markdown",
   "metadata": {
    "_uuid": "ac527bac360f66c729cbcccfa373efd81a306cef",
    "colab_type": "text",
    "id": "i24BfNDYUo3n"
   },
   "source": [
    "#### Hyperparameter Tuning\n",
    "Tuning max_depth"
   ]
  },
  {
   "cell_type": "code",
   "execution_count": 170,
   "metadata": {
    "_uuid": "feddcaae45a0c4016a882a4e926d900e2997dec0",
    "colab": {
     "base_uri": "https://localhost:8080/",
     "height": 272
    },
    "colab_type": "code",
    "id": "HBT79SpmUo3n",
    "outputId": "f9d17f90-fa73-4cb0-8290-dd38e14cbe19"
   },
   "outputs": [
    {
     "data": {
      "text/plain": [
       "GridSearchCV(cv=5, error_score='raise-deprecating',\n",
       "             estimator=DecisionTreeClassifier(class_weight=None,\n",
       "                                              criterion='gini', max_depth=None,\n",
       "                                              max_features=None,\n",
       "                                              max_leaf_nodes=None,\n",
       "                                              min_impurity_decrease=0.0,\n",
       "                                              min_impurity_split=None,\n",
       "                                              min_samples_leaf=1,\n",
       "                                              min_samples_split=2,\n",
       "                                              min_weight_fraction_leaf=0.0,\n",
       "                                              presort=False, random_state=100,\n",
       "                                              splitter='best'),\n",
       "             iid='warn', n_jobs=None, param_grid={'max_depth': range(1, 40)},\n",
       "             pre_dispatch='2*n_jobs', refit=True, return_train_score=True,\n",
       "             scoring='accuracy', verbose=0)"
      ]
     },
     "execution_count": 170,
     "metadata": {
      "tags": []
     },
     "output_type": "execute_result"
    }
   ],
   "source": [
    "# GridSearchCV to find optimal max_depth\n",
    "from sklearn.model_selection import KFold\n",
    "from sklearn.model_selection import GridSearchCV\n",
    "\n",
    "\n",
    "# specify number of folds for k-fold CV\n",
    "n_folds = 5\n",
    "\n",
    "# parameters to build the model on\n",
    "parameters = {'max_depth': range(1, 40)}\n",
    "\n",
    "# instantiate the model\n",
    "dt = DecisionTreeClassifier(criterion = \"gini\", \n",
    "                               random_state = 100)\n",
    "\n",
    "# fit tree on training data\n",
    "tree = GridSearchCV(dt, parameters, \n",
    "                    cv=n_folds, \n",
    "                 scoring=\"accuracy\", return_train_score=True)\n",
    "tree.fit(X_lasso, y_tr)"
   ]
  },
  {
   "cell_type": "code",
   "execution_count": 171,
   "metadata": {
    "_uuid": "ddc456b0ab3cb854946d731c3a7a0cd660cb5e85",
    "colab": {
     "base_uri": "https://localhost:8080/",
     "height": 309
    },
    "colab_type": "code",
    "id": "-F89TMUFUo3q",
    "outputId": "fe0d99bf-dfa3-4d85-9bc0-2f6e94543944"
   },
   "outputs": [
    {
     "data": {
      "text/html": [
       "<div>\n",
       "<style scoped>\n",
       "    .dataframe tbody tr th:only-of-type {\n",
       "        vertical-align: middle;\n",
       "    }\n",
       "\n",
       "    .dataframe tbody tr th {\n",
       "        vertical-align: top;\n",
       "    }\n",
       "\n",
       "    .dataframe thead th {\n",
       "        text-align: right;\n",
       "    }\n",
       "</style>\n",
       "<table border=\"1\" class=\"dataframe\">\n",
       "  <thead>\n",
       "    <tr style=\"text-align: right;\">\n",
       "      <th></th>\n",
       "      <th>mean_fit_time</th>\n",
       "      <th>std_fit_time</th>\n",
       "      <th>mean_score_time</th>\n",
       "      <th>std_score_time</th>\n",
       "      <th>param_max_depth</th>\n",
       "      <th>params</th>\n",
       "      <th>split0_test_score</th>\n",
       "      <th>split1_test_score</th>\n",
       "      <th>split2_test_score</th>\n",
       "      <th>split3_test_score</th>\n",
       "      <th>split4_test_score</th>\n",
       "      <th>mean_test_score</th>\n",
       "      <th>std_test_score</th>\n",
       "      <th>rank_test_score</th>\n",
       "      <th>split0_train_score</th>\n",
       "      <th>split1_train_score</th>\n",
       "      <th>split2_train_score</th>\n",
       "      <th>split3_train_score</th>\n",
       "      <th>split4_train_score</th>\n",
       "      <th>mean_train_score</th>\n",
       "      <th>std_train_score</th>\n",
       "    </tr>\n",
       "  </thead>\n",
       "  <tbody>\n",
       "    <tr>\n",
       "      <th>0</th>\n",
       "      <td>0.09</td>\n",
       "      <td>0.00</td>\n",
       "      <td>0.00</td>\n",
       "      <td>0.00</td>\n",
       "      <td>1</td>\n",
       "      <td>{'max_depth': 1}</td>\n",
       "      <td>0.79</td>\n",
       "      <td>0.79</td>\n",
       "      <td>0.79</td>\n",
       "      <td>0.78</td>\n",
       "      <td>0.79</td>\n",
       "      <td>0.79</td>\n",
       "      <td>0.00</td>\n",
       "      <td>39</td>\n",
       "      <td>0.79</td>\n",
       "      <td>0.79</td>\n",
       "      <td>0.79</td>\n",
       "      <td>0.79</td>\n",
       "      <td>0.79</td>\n",
       "      <td>0.79</td>\n",
       "      <td>0.00</td>\n",
       "    </tr>\n",
       "    <tr>\n",
       "      <th>1</th>\n",
       "      <td>0.17</td>\n",
       "      <td>0.00</td>\n",
       "      <td>0.00</td>\n",
       "      <td>0.00</td>\n",
       "      <td>2</td>\n",
       "      <td>{'max_depth': 2}</td>\n",
       "      <td>0.81</td>\n",
       "      <td>0.81</td>\n",
       "      <td>0.81</td>\n",
       "      <td>0.81</td>\n",
       "      <td>0.82</td>\n",
       "      <td>0.81</td>\n",
       "      <td>0.00</td>\n",
       "      <td>38</td>\n",
       "      <td>0.81</td>\n",
       "      <td>0.81</td>\n",
       "      <td>0.81</td>\n",
       "      <td>0.81</td>\n",
       "      <td>0.81</td>\n",
       "      <td>0.81</td>\n",
       "      <td>0.00</td>\n",
       "    </tr>\n",
       "    <tr>\n",
       "      <th>2</th>\n",
       "      <td>0.24</td>\n",
       "      <td>0.00</td>\n",
       "      <td>0.00</td>\n",
       "      <td>0.00</td>\n",
       "      <td>3</td>\n",
       "      <td>{'max_depth': 3}</td>\n",
       "      <td>0.84</td>\n",
       "      <td>0.86</td>\n",
       "      <td>0.86</td>\n",
       "      <td>0.85</td>\n",
       "      <td>0.86</td>\n",
       "      <td>0.86</td>\n",
       "      <td>0.01</td>\n",
       "      <td>37</td>\n",
       "      <td>0.86</td>\n",
       "      <td>0.86</td>\n",
       "      <td>0.86</td>\n",
       "      <td>0.86</td>\n",
       "      <td>0.86</td>\n",
       "      <td>0.86</td>\n",
       "      <td>0.00</td>\n",
       "    </tr>\n",
       "    <tr>\n",
       "      <th>3</th>\n",
       "      <td>0.31</td>\n",
       "      <td>0.01</td>\n",
       "      <td>0.00</td>\n",
       "      <td>0.00</td>\n",
       "      <td>4</td>\n",
       "      <td>{'max_depth': 4}</td>\n",
       "      <td>0.85</td>\n",
       "      <td>0.86</td>\n",
       "      <td>0.86</td>\n",
       "      <td>0.86</td>\n",
       "      <td>0.87</td>\n",
       "      <td>0.86</td>\n",
       "      <td>0.01</td>\n",
       "      <td>36</td>\n",
       "      <td>0.86</td>\n",
       "      <td>0.86</td>\n",
       "      <td>0.87</td>\n",
       "      <td>0.86</td>\n",
       "      <td>0.86</td>\n",
       "      <td>0.86</td>\n",
       "      <td>0.00</td>\n",
       "    </tr>\n",
       "    <tr>\n",
       "      <th>4</th>\n",
       "      <td>0.37</td>\n",
       "      <td>0.00</td>\n",
       "      <td>0.00</td>\n",
       "      <td>0.00</td>\n",
       "      <td>5</td>\n",
       "      <td>{'max_depth': 5}</td>\n",
       "      <td>0.86</td>\n",
       "      <td>0.88</td>\n",
       "      <td>0.88</td>\n",
       "      <td>0.87</td>\n",
       "      <td>0.88</td>\n",
       "      <td>0.87</td>\n",
       "      <td>0.01</td>\n",
       "      <td>35</td>\n",
       "      <td>0.88</td>\n",
       "      <td>0.88</td>\n",
       "      <td>0.88</td>\n",
       "      <td>0.88</td>\n",
       "      <td>0.88</td>\n",
       "      <td>0.88</td>\n",
       "      <td>0.00</td>\n",
       "    </tr>\n",
       "  </tbody>\n",
       "</table>\n",
       "</div>"
      ],
      "text/plain": [
       "   mean_fit_time  std_fit_time  ...  mean_train_score  std_train_score\n",
       "0           0.09          0.00  ...              0.79             0.00\n",
       "1           0.17          0.00  ...              0.81             0.00\n",
       "2           0.24          0.00  ...              0.86             0.00\n",
       "3           0.31          0.01  ...              0.86             0.00\n",
       "4           0.37          0.00  ...              0.88             0.00\n",
       "\n",
       "[5 rows x 21 columns]"
      ]
     },
     "execution_count": 171,
     "metadata": {
      "tags": []
     },
     "output_type": "execute_result"
    }
   ],
   "source": [
    "# scores of GridSearch CV\n",
    "score = tree.cv_results_\n",
    "pd.DataFrame(score).head()"
   ]
  },
  {
   "cell_type": "code",
   "execution_count": 172,
   "metadata": {
    "_uuid": "a7464875ad8a75802830d3c51ef439da1f59c152",
    "colab": {
     "base_uri": "https://localhost:8080/",
     "height": 284
    },
    "colab_type": "code",
    "id": "1UH9oG2IUo3u",
    "outputId": "c5cd7d23-9b9b-497c-cf04-dbd8f96c6fce"
   },
   "outputs": [
    {
     "data": {
      "image/png": "[encoded data removed]",
      "text/plain": [
       "<Figure size 432x288 with 1 Axes>"
      ]
     },
     "metadata": {
      "tags": []
     },
     "output_type": "display_data"
    }
   ],
   "source": [
    "# plotting accuracies with max_depth\n",
    "plt.figure()\n",
    "plt.plot(score[\"param_max_depth\"], \n",
    "         score[\"mean_train_score\"], \n",
    "         label=\"training accuracy\")\n",
    "plt.plot(score[\"param_max_depth\"], \n",
    "         score[\"mean_test_score\"], \n",
    "         label=\"test accuracy\")\n",
    "plt.xlabel(\"max_depth\")\n",
    "plt.ylabel(\"Accuracy\")\n",
    "plt.legend()\n",
    "plt.show()"
   ]
  },
  {
   "cell_type": "markdown",
   "metadata": {
    "_uuid": "7d6187cbb2fa1f771dcd8aa40fab1dc2838f5457",
    "colab_type": "text",
    "id": "-ufUPksYUo3w"
   },
   "source": [
    "According to above plot, max_depth =10 is optimal"
   ]
  },
  {
   "cell_type": "markdown",
   "metadata": {
    "_uuid": "b947d3225e404eb7408eca90bdbb36293001bd99",
    "colab_type": "text",
    "id": "BfVAzRrdUo3x"
   },
   "source": [
    "Tuning min_samples_leaf"
   ]
  },
  {
   "cell_type": "code",
   "execution_count": 173,
   "metadata": {
    "_uuid": "10dcac8c078b6aff7280187f531ff90ceee535e7",
    "colab": {
     "base_uri": "https://localhost:8080/",
     "height": 289
    },
    "colab_type": "code",
    "id": "0_xZ88HCUo3x",
    "outputId": "cc49b59e-fd20-47ee-fd9a-25b963771290"
   },
   "outputs": [
    {
     "data": {
      "text/plain": [
       "GridSearchCV(cv=5, error_score='raise-deprecating',\n",
       "             estimator=DecisionTreeClassifier(class_weight=None,\n",
       "                                              criterion='gini', max_depth=None,\n",
       "                                              max_features=None,\n",
       "                                              max_leaf_nodes=None,\n",
       "                                              min_impurity_decrease=0.0,\n",
       "                                              min_impurity_split=None,\n",
       "                                              min_samples_leaf=1,\n",
       "                                              min_samples_split=2,\n",
       "                                              min_weight_fraction_leaf=0.0,\n",
       "                                              presort=False, random_state=100,\n",
       "                                              splitter='best'),\n",
       "             iid='warn', n_jobs=None,\n",
       "             param_grid={'min_samples_leaf': range(5, 200, 20)},\n",
       "             pre_dispatch='2*n_jobs', refit=True, return_train_score=True,\n",
       "             scoring='accuracy', verbose=0)"
      ]
     },
     "execution_count": 173,
     "metadata": {
      "tags": []
     },
     "output_type": "execute_result"
    }
   ],
   "source": [
    "# GridSearchCV to find optimal max_depth\n",
    "from sklearn.model_selection import KFold\n",
    "from sklearn.model_selection import GridSearchCV\n",
    "\n",
    "\n",
    "# specify number of folds for k-fold CV\n",
    "n_folds = 5\n",
    "\n",
    "# parameters to build the model on\n",
    "parameters = {'min_samples_leaf': range(5, 200, 20)}\n",
    "\n",
    "# instantiate the model\n",
    "dtree = DecisionTreeClassifier(criterion = \"gini\", \n",
    "                               random_state = 100)\n",
    "\n",
    "# fit tree on training data\n",
    "tree = GridSearchCV(dtree, parameters, \n",
    "                    cv=n_folds, \n",
    "                   scoring=\"accuracy\", return_train_score=True)\n",
    "tree.fit(X_lasso, y_tr)"
   ]
  },
  {
   "cell_type": "code",
   "execution_count": 174,
   "metadata": {
    "_uuid": "dec360e4e15d3dc05eea890d419cbefe6ca6ba78",
    "colab": {
     "base_uri": "https://localhost:8080/",
     "height": 309
    },
    "colab_type": "code",
    "id": "Snbe4ZqmUo3z",
    "outputId": "bc51ea64-84fd-4c10-8984-f1e9f90f5f01"
   },
   "outputs": [
    {
     "data": {
      "text/html": [
       "<div>\n",
       "<style scoped>\n",
       "    .dataframe tbody tr th:only-of-type {\n",
       "        vertical-align: middle;\n",
       "    }\n",
       "\n",
       "    .dataframe tbody tr th {\n",
       "        vertical-align: top;\n",
       "    }\n",
       "\n",
       "    .dataframe thead th {\n",
       "        text-align: right;\n",
       "    }\n",
       "</style>\n",
       "<table border=\"1\" class=\"dataframe\">\n",
       "  <thead>\n",
       "    <tr style=\"text-align: right;\">\n",
       "      <th></th>\n",
       "      <th>mean_fit_time</th>\n",
       "      <th>std_fit_time</th>\n",
       "      <th>mean_score_time</th>\n",
       "      <th>std_score_time</th>\n",
       "      <th>param_min_samples_leaf</th>\n",
       "      <th>params</th>\n",
       "      <th>split0_test_score</th>\n",
       "      <th>split1_test_score</th>\n",
       "      <th>split2_test_score</th>\n",
       "      <th>split3_test_score</th>\n",
       "      <th>split4_test_score</th>\n",
       "      <th>mean_test_score</th>\n",
       "      <th>std_test_score</th>\n",
       "      <th>rank_test_score</th>\n",
       "      <th>split0_train_score</th>\n",
       "      <th>split1_train_score</th>\n",
       "      <th>split2_train_score</th>\n",
       "      <th>split3_train_score</th>\n",
       "      <th>split4_train_score</th>\n",
       "      <th>mean_train_score</th>\n",
       "      <th>std_train_score</th>\n",
       "    </tr>\n",
       "  </thead>\n",
       "  <tbody>\n",
       "    <tr>\n",
       "      <th>0</th>\n",
       "      <td>1.05</td>\n",
       "      <td>0.04</td>\n",
       "      <td>0.00</td>\n",
       "      <td>0.00</td>\n",
       "      <td>5</td>\n",
       "      <td>{'min_samples_leaf': 5}</td>\n",
       "      <td>0.88</td>\n",
       "      <td>0.91</td>\n",
       "      <td>0.91</td>\n",
       "      <td>0.91</td>\n",
       "      <td>0.91</td>\n",
       "      <td>0.91</td>\n",
       "      <td>0.01</td>\n",
       "      <td>1</td>\n",
       "      <td>0.97</td>\n",
       "      <td>0.96</td>\n",
       "      <td>0.96</td>\n",
       "      <td>0.97</td>\n",
       "      <td>0.96</td>\n",
       "      <td>0.97</td>\n",
       "      <td>0.00</td>\n",
       "    </tr>\n",
       "    <tr>\n",
       "      <th>1</th>\n",
       "      <td>0.89</td>\n",
       "      <td>0.05</td>\n",
       "      <td>0.00</td>\n",
       "      <td>0.00</td>\n",
       "      <td>25</td>\n",
       "      <td>{'min_samples_leaf': 25}</td>\n",
       "      <td>0.87</td>\n",
       "      <td>0.90</td>\n",
       "      <td>0.90</td>\n",
       "      <td>0.89</td>\n",
       "      <td>0.90</td>\n",
       "      <td>0.89</td>\n",
       "      <td>0.01</td>\n",
       "      <td>2</td>\n",
       "      <td>0.92</td>\n",
       "      <td>0.92</td>\n",
       "      <td>0.92</td>\n",
       "      <td>0.92</td>\n",
       "      <td>0.92</td>\n",
       "      <td>0.92</td>\n",
       "      <td>0.00</td>\n",
       "    </tr>\n",
       "    <tr>\n",
       "      <th>2</th>\n",
       "      <td>0.77</td>\n",
       "      <td>0.03</td>\n",
       "      <td>0.00</td>\n",
       "      <td>0.00</td>\n",
       "      <td>45</td>\n",
       "      <td>{'min_samples_leaf': 45}</td>\n",
       "      <td>0.87</td>\n",
       "      <td>0.89</td>\n",
       "      <td>0.90</td>\n",
       "      <td>0.89</td>\n",
       "      <td>0.90</td>\n",
       "      <td>0.89</td>\n",
       "      <td>0.01</td>\n",
       "      <td>3</td>\n",
       "      <td>0.91</td>\n",
       "      <td>0.91</td>\n",
       "      <td>0.91</td>\n",
       "      <td>0.90</td>\n",
       "      <td>0.90</td>\n",
       "      <td>0.91</td>\n",
       "      <td>0.00</td>\n",
       "    </tr>\n",
       "    <tr>\n",
       "      <th>3</th>\n",
       "      <td>0.71</td>\n",
       "      <td>0.02</td>\n",
       "      <td>0.00</td>\n",
       "      <td>0.00</td>\n",
       "      <td>65</td>\n",
       "      <td>{'min_samples_leaf': 65}</td>\n",
       "      <td>0.87</td>\n",
       "      <td>0.89</td>\n",
       "      <td>0.89</td>\n",
       "      <td>0.89</td>\n",
       "      <td>0.89</td>\n",
       "      <td>0.89</td>\n",
       "      <td>0.01</td>\n",
       "      <td>4</td>\n",
       "      <td>0.90</td>\n",
       "      <td>0.90</td>\n",
       "      <td>0.90</td>\n",
       "      <td>0.90</td>\n",
       "      <td>0.90</td>\n",
       "      <td>0.90</td>\n",
       "      <td>0.00</td>\n",
       "    </tr>\n",
       "    <tr>\n",
       "      <th>4</th>\n",
       "      <td>0.67</td>\n",
       "      <td>0.02</td>\n",
       "      <td>0.00</td>\n",
       "      <td>0.00</td>\n",
       "      <td>85</td>\n",
       "      <td>{'min_samples_leaf': 85}</td>\n",
       "      <td>0.87</td>\n",
       "      <td>0.89</td>\n",
       "      <td>0.88</td>\n",
       "      <td>0.89</td>\n",
       "      <td>0.89</td>\n",
       "      <td>0.88</td>\n",
       "      <td>0.01</td>\n",
       "      <td>5</td>\n",
       "      <td>0.90</td>\n",
       "      <td>0.89</td>\n",
       "      <td>0.89</td>\n",
       "      <td>0.89</td>\n",
       "      <td>0.89</td>\n",
       "      <td>0.89</td>\n",
       "      <td>0.00</td>\n",
       "    </tr>\n",
       "  </tbody>\n",
       "</table>\n",
       "</div>"
      ],
      "text/plain": [
       "   mean_fit_time  std_fit_time  ...  mean_train_score  std_train_score\n",
       "0           1.05          0.04  ...              0.97             0.00\n",
       "1           0.89          0.05  ...              0.92             0.00\n",
       "2           0.77          0.03  ...              0.91             0.00\n",
       "3           0.71          0.02  ...              0.90             0.00\n",
       "4           0.67          0.02  ...              0.89             0.00\n",
       "\n",
       "[5 rows x 21 columns]"
      ]
     },
     "execution_count": 174,
     "metadata": {
      "tags": []
     },
     "output_type": "execute_result"
    }
   ],
   "source": [
    "# scores of GridSearch CV\n",
    "score = tree.cv_results_\n",
    "pd.DataFrame(score).head()"
   ]
  },
  {
   "cell_type": "code",
   "execution_count": 175,
   "metadata": {
    "_uuid": "0c28b20c8b360c62e58c42d27c67dd9b4dee9a63",
    "colab": {
     "base_uri": "https://localhost:8080/",
     "height": 284
    },
    "colab_type": "code",
    "id": "Afl6vGztUo32",
    "outputId": "17ff5a15-8817-458c-d22b-c45f54484373"
   },
   "outputs": [
    {
     "data": {
      "image/png": "[encoded data removed]",
      "text/plain": [
       "<Figure size 432x288 with 1 Axes>"
      ]
     },
     "metadata": {
      "tags": []
     },
     "output_type": "display_data"
    }
   ],
   "source": [
    "# plotting accuracies with min_samples_leaf\n",
    "plt.figure()\n",
    "plt.plot(score[\"param_min_samples_leaf\"], \n",
    "         score[\"mean_train_score\"], \n",
    "         label=\"training accuracy\")\n",
    "plt.plot(score[\"param_min_samples_leaf\"], \n",
    "         score[\"mean_test_score\"], \n",
    "         label=\"test accuracy\")\n",
    "plt.xlabel(\"min_samples_leaf\")\n",
    "plt.ylabel(\"Accuracy\")\n",
    "plt.legend()\n",
    "plt.show()"
   ]
  },
  {
   "cell_type": "markdown",
   "metadata": {
    "_uuid": "c9618cbe5a69e0dc924b7bb0691185aae92e016b",
    "colab_type": "text",
    "id": "ncsJ-nmaUo34"
   },
   "source": [
    "min_samples_leaf = 25 looks to be optimal"
   ]
  },
  {
   "cell_type": "markdown",
   "metadata": {
    "_uuid": "cd9b1cd8e52aef88875244590a2fa25446bb65f0",
    "colab_type": "text",
    "id": "9tFBIHDQUo35"
   },
   "source": [
    "Tuning min_samples_split"
   ]
  },
  {
   "cell_type": "code",
   "execution_count": 176,
   "metadata": {
    "_uuid": "01f5be5c2ddb9f65181b6742af33433748b94bb3",
    "colab": {
     "base_uri": "https://localhost:8080/",
     "height": 289
    },
    "colab_type": "code",
    "id": "vx1cBv8kUo35",
    "outputId": "bdd40e01-10da-4c51-c385-cbbc87392c5d"
   },
   "outputs": [
    {
     "data": {
      "text/plain": [
       "GridSearchCV(cv=5, error_score='raise-deprecating',\n",
       "             estimator=DecisionTreeClassifier(class_weight=None,\n",
       "                                              criterion='gini', max_depth=None,\n",
       "                                              max_features=None,\n",
       "                                              max_leaf_nodes=None,\n",
       "                                              min_impurity_decrease=0.0,\n",
       "                                              min_impurity_split=None,\n",
       "                                              min_samples_leaf=1,\n",
       "                                              min_samples_split=2,\n",
       "                                              min_weight_fraction_leaf=0.0,\n",
       "                                              presort=False, random_state=100,\n",
       "                                              splitter='best'),\n",
       "             iid='warn', n_jobs=None,\n",
       "             param_grid={'min_samples_split': range(5, 200, 20)},\n",
       "             pre_dispatch='2*n_jobs', refit=True, return_train_score=True,\n",
       "             scoring='accuracy', verbose=0)"
      ]
     },
     "execution_count": 176,
     "metadata": {
      "tags": []
     },
     "output_type": "execute_result"
    }
   ],
   "source": [
    "# GridSearchCV to find optimal min_samples_split\n",
    "from sklearn.model_selection import KFold\n",
    "from sklearn.model_selection import GridSearchCV\n",
    "\n",
    "\n",
    "# specify number of folds for k-fold CV\n",
    "n_folds = 5\n",
    "\n",
    "# parameters to build the model on\n",
    "parameters = {'min_samples_split': range(5, 200, 20)}\n",
    "\n",
    "# instantiate the model\n",
    "dtree = DecisionTreeClassifier(criterion = \"gini\", \n",
    "                               random_state = 100)\n",
    "\n",
    "# fit tree on training data\n",
    "tree = GridSearchCV(dtree, parameters, \n",
    "                    cv=n_folds, \n",
    "                   scoring=\"accuracy\", return_train_score=True)\n",
    "tree.fit(X_lasso, y_tr)"
   ]
  },
  {
   "cell_type": "code",
   "execution_count": 177,
   "metadata": {
    "_uuid": "4fa42be359afded6f2a11df7925d9ef7bed24d1d",
    "colab": {
     "base_uri": "https://localhost:8080/",
     "height": 309
    },
    "colab_type": "code",
    "id": "tRprqTHwUo36",
    "outputId": "416512a3-b47d-4b4f-aaf8-9c53cf9cb528"
   },
   "outputs": [
    {
     "data": {
      "text/html": [
       "<div>\n",
       "<style scoped>\n",
       "    .dataframe tbody tr th:only-of-type {\n",
       "        vertical-align: middle;\n",
       "    }\n",
       "\n",
       "    .dataframe tbody tr th {\n",
       "        vertical-align: top;\n",
       "    }\n",
       "\n",
       "    .dataframe thead th {\n",
       "        text-align: right;\n",
       "    }\n",
       "</style>\n",
       "<table border=\"1\" class=\"dataframe\">\n",
       "  <thead>\n",
       "    <tr style=\"text-align: right;\">\n",
       "      <th></th>\n",
       "      <th>mean_fit_time</th>\n",
       "      <th>std_fit_time</th>\n",
       "      <th>mean_score_time</th>\n",
       "      <th>std_score_time</th>\n",
       "      <th>param_min_samples_split</th>\n",
       "      <th>params</th>\n",
       "      <th>split0_test_score</th>\n",
       "      <th>split1_test_score</th>\n",
       "      <th>split2_test_score</th>\n",
       "      <th>split3_test_score</th>\n",
       "      <th>split4_test_score</th>\n",
       "      <th>mean_test_score</th>\n",
       "      <th>std_test_score</th>\n",
       "      <th>rank_test_score</th>\n",
       "      <th>split0_train_score</th>\n",
       "      <th>split1_train_score</th>\n",
       "      <th>split2_train_score</th>\n",
       "      <th>split3_train_score</th>\n",
       "      <th>split4_train_score</th>\n",
       "      <th>mean_train_score</th>\n",
       "      <th>std_train_score</th>\n",
       "    </tr>\n",
       "  </thead>\n",
       "  <tbody>\n",
       "    <tr>\n",
       "      <th>0</th>\n",
       "      <td>1.15</td>\n",
       "      <td>0.06</td>\n",
       "      <td>0.00</td>\n",
       "      <td>0.00</td>\n",
       "      <td>5</td>\n",
       "      <td>{'min_samples_split': 5}</td>\n",
       "      <td>0.88</td>\n",
       "      <td>0.92</td>\n",
       "      <td>0.92</td>\n",
       "      <td>0.92</td>\n",
       "      <td>0.92</td>\n",
       "      <td>0.91</td>\n",
       "      <td>0.02</td>\n",
       "      <td>1</td>\n",
       "      <td>0.99</td>\n",
       "      <td>0.99</td>\n",
       "      <td>0.99</td>\n",
       "      <td>0.99</td>\n",
       "      <td>0.99</td>\n",
       "      <td>0.99</td>\n",
       "      <td>0.00</td>\n",
       "    </tr>\n",
       "    <tr>\n",
       "      <th>1</th>\n",
       "      <td>1.09</td>\n",
       "      <td>0.06</td>\n",
       "      <td>0.00</td>\n",
       "      <td>0.00</td>\n",
       "      <td>25</td>\n",
       "      <td>{'min_samples_split': 25}</td>\n",
       "      <td>0.87</td>\n",
       "      <td>0.91</td>\n",
       "      <td>0.91</td>\n",
       "      <td>0.91</td>\n",
       "      <td>0.91</td>\n",
       "      <td>0.90</td>\n",
       "      <td>0.01</td>\n",
       "      <td>2</td>\n",
       "      <td>0.96</td>\n",
       "      <td>0.96</td>\n",
       "      <td>0.96</td>\n",
       "      <td>0.96</td>\n",
       "      <td>0.96</td>\n",
       "      <td>0.96</td>\n",
       "      <td>0.00</td>\n",
       "    </tr>\n",
       "    <tr>\n",
       "      <th>2</th>\n",
       "      <td>1.12</td>\n",
       "      <td>0.06</td>\n",
       "      <td>0.00</td>\n",
       "      <td>0.00</td>\n",
       "      <td>45</td>\n",
       "      <td>{'min_samples_split': 45}</td>\n",
       "      <td>0.87</td>\n",
       "      <td>0.90</td>\n",
       "      <td>0.90</td>\n",
       "      <td>0.90</td>\n",
       "      <td>0.91</td>\n",
       "      <td>0.90</td>\n",
       "      <td>0.01</td>\n",
       "      <td>3</td>\n",
       "      <td>0.95</td>\n",
       "      <td>0.94</td>\n",
       "      <td>0.94</td>\n",
       "      <td>0.94</td>\n",
       "      <td>0.94</td>\n",
       "      <td>0.94</td>\n",
       "      <td>0.00</td>\n",
       "    </tr>\n",
       "    <tr>\n",
       "      <th>3</th>\n",
       "      <td>1.08</td>\n",
       "      <td>0.07</td>\n",
       "      <td>0.00</td>\n",
       "      <td>0.00</td>\n",
       "      <td>65</td>\n",
       "      <td>{'min_samples_split': 65}</td>\n",
       "      <td>0.86</td>\n",
       "      <td>0.90</td>\n",
       "      <td>0.90</td>\n",
       "      <td>0.90</td>\n",
       "      <td>0.91</td>\n",
       "      <td>0.90</td>\n",
       "      <td>0.02</td>\n",
       "      <td>4</td>\n",
       "      <td>0.94</td>\n",
       "      <td>0.93</td>\n",
       "      <td>0.93</td>\n",
       "      <td>0.93</td>\n",
       "      <td>0.93</td>\n",
       "      <td>0.93</td>\n",
       "      <td>0.00</td>\n",
       "    </tr>\n",
       "    <tr>\n",
       "      <th>4</th>\n",
       "      <td>1.11</td>\n",
       "      <td>0.05</td>\n",
       "      <td>0.00</td>\n",
       "      <td>0.00</td>\n",
       "      <td>85</td>\n",
       "      <td>{'min_samples_split': 85}</td>\n",
       "      <td>0.87</td>\n",
       "      <td>0.90</td>\n",
       "      <td>0.90</td>\n",
       "      <td>0.90</td>\n",
       "      <td>0.91</td>\n",
       "      <td>0.89</td>\n",
       "      <td>0.01</td>\n",
       "      <td>5</td>\n",
       "      <td>0.93</td>\n",
       "      <td>0.93</td>\n",
       "      <td>0.92</td>\n",
       "      <td>0.93</td>\n",
       "      <td>0.92</td>\n",
       "      <td>0.93</td>\n",
       "      <td>0.00</td>\n",
       "    </tr>\n",
       "  </tbody>\n",
       "</table>\n",
       "</div>"
      ],
      "text/plain": [
       "   mean_fit_time  std_fit_time  ...  mean_train_score  std_train_score\n",
       "0           1.15          0.06  ...              0.99             0.00\n",
       "1           1.09          0.06  ...              0.96             0.00\n",
       "2           1.12          0.06  ...              0.94             0.00\n",
       "3           1.08          0.07  ...              0.93             0.00\n",
       "4           1.11          0.05  ...              0.93             0.00\n",
       "\n",
       "[5 rows x 21 columns]"
      ]
     },
     "execution_count": 177,
     "metadata": {
      "tags": []
     },
     "output_type": "execute_result"
    }
   ],
   "source": [
    "# scores of GridSearch CV\n",
    "scores = tree.cv_results_\n",
    "pd.DataFrame(scores).head()"
   ]
  },
  {
   "cell_type": "code",
   "execution_count": 178,
   "metadata": {
    "_uuid": "2bf94445c7cd56f54a0e94552f46e2fc546623ef",
    "colab": {
     "base_uri": "https://localhost:8080/",
     "height": 284
    },
    "colab_type": "code",
    "id": "YkELQmaJUo38",
    "outputId": "32cef82d-49cf-435c-d260-1ec1ceef08e4"
   },
   "outputs": [
    {
     "data": {
      "image/png": "[encoded data removed]",
      "text/plain": [
       "<Figure size 432x288 with 1 Axes>"
      ]
     },
     "metadata": {
      "tags": []
     },
     "output_type": "display_data"
    }
   ],
   "source": [
    "# plotting accuracies with min_samples_leaf\n",
    "plt.figure()\n",
    "plt.plot(scores[\"param_min_samples_split\"], \n",
    "         scores[\"mean_train_score\"], \n",
    "         label=\"training accuracy\")\n",
    "plt.plot(scores[\"param_min_samples_split\"], \n",
    "         scores[\"mean_test_score\"], \n",
    "         label=\"test accuracy\")\n",
    "plt.xlabel(\"min_samples_split\")\n",
    "plt.ylabel(\"Accuracy\")\n",
    "plt.legend()\n",
    "plt.show()"
   ]
  },
  {
   "cell_type": "markdown",
   "metadata": {
    "_uuid": "16974114dbd8557197fae35c552291eec17b0cce",
    "colab_type": "text",
    "id": "Vi-LrlyFUo3_"
   },
   "source": [
    "min_samples_leaf=50 looks optimal"
   ]
  },
  {
   "cell_type": "code",
   "execution_count": 179,
   "metadata": {
    "_uuid": "ff73fa0184fabb3434c6c155f3a45a69e29ab025",
    "colab": {
     "base_uri": "https://localhost:8080/",
     "height": 391
    },
    "colab_type": "code",
    "id": "q0SyXi_LUo4B",
    "outputId": "802178d8-b6e1-4d0b-c98e-6977d1f4cad9"
   },
   "outputs": [
    {
     "name": "stdout",
     "output_type": "stream",
     "text": [
      "Fitting 5 folds for each of 24 candidates, totalling 120 fits\n"
     ]
    },
    {
     "name": "stderr",
     "output_type": "stream",
     "text": [
      "[Parallel(n_jobs=1)]: Using backend SequentialBackend with 1 concurrent workers.\n",
      "[Parallel(n_jobs=1)]: Done 120 out of 120 | elapsed:  1.2min finished\n"
     ]
    },
    {
     "data": {
      "text/plain": [
       "GridSearchCV(cv=5, error_score='raise-deprecating',\n",
       "             estimator=DecisionTreeClassifier(class_weight=None,\n",
       "                                              criterion='gini', max_depth=None,\n",
       "                                              max_features=None,\n",
       "                                              max_leaf_nodes=None,\n",
       "                                              min_impurity_decrease=0.0,\n",
       "                                              min_impurity_split=None,\n",
       "                                              min_samples_leaf=1,\n",
       "                                              min_samples_split=2,\n",
       "                                              min_weight_fraction_leaf=0.0,\n",
       "                                              presort=False, random_state=None,\n",
       "                                              splitter='best'),\n",
       "             iid='warn', n_jobs=None,\n",
       "             param_grid={'criterion': ['entropy', 'gini'],\n",
       "                         'max_depth': range(5, 15, 5),\n",
       "                         'min_samples_leaf': range(25, 175, 50),\n",
       "                         'min_samples_split': range(50, 150, 50)},\n",
       "             pre_dispatch='2*n_jobs', refit=True, return_train_score=True,\n",
       "             scoring=None, verbose=1)"
      ]
     },
     "execution_count": 179,
     "metadata": {
      "tags": []
     },
     "output_type": "execute_result"
    }
   ],
   "source": [
    "# Create the parameter grid \n",
    "param_grid = {\n",
    "    'max_depth': range(5, 15, 5),\n",
    "    'min_samples_leaf': range(25, 175, 50),\n",
    "    'min_samples_split': range(50, 150, 50),\n",
    "    'criterion': [\"entropy\", \"gini\"]\n",
    "}\n",
    "\n",
    "n_folds = 5\n",
    "\n",
    "# Instantiate the grid search model\n",
    "dtree = DecisionTreeClassifier()\n",
    "grid_search = GridSearchCV(estimator = dtree, param_grid = param_grid, \n",
    "                          cv = n_folds, verbose = 1, return_train_score=True)\n",
    "\n",
    "# Fit the grid search to the data\n",
    "grid_search.fit(X_lasso, y_tr)"
   ]
  },
  {
   "cell_type": "code",
   "execution_count": 180,
   "metadata": {
    "_uuid": "110956c4219c7adfdb9edf23debe0deb0f66e08d",
    "colab": {
     "base_uri": "https://localhost:8080/",
     "height": 34
    },
    "colab_type": "code",
    "id": "0fMjUGokUo4D",
    "outputId": "b4257705-f6af-4a27-a84a-6f330d2c11ea"
   },
   "outputs": [
    {
     "name": "stdout",
     "output_type": "stream",
     "text": [
      "Best Accuracy 0.892964537536292\n"
     ]
    }
   ],
   "source": [
    "# cv results\n",
    "cv_results = pd.DataFrame(grid_search.cv_results_)\n",
    "cv_results\n",
    "# printing the optimal accuracy score and hyperparameters\n",
    "print(\"Best Accuracy\", grid_search.best_score_)\n"
   ]
  },
  {
   "cell_type": "code",
   "execution_count": 181,
   "metadata": {
    "_uuid": "192c333f7b6f01236df064b1f22847e2a583a20a",
    "colab": {
     "base_uri": "https://localhost:8080/",
     "height": 119
    },
    "colab_type": "code",
    "id": "D6rrE7DiUo4F",
    "outputId": "26558567-688f-4984-e301-58a88bf22f3b"
   },
   "outputs": [
    {
     "name": "stdout",
     "output_type": "stream",
     "text": [
      "DecisionTreeClassifier(class_weight=None, criterion='gini', max_depth=10,\n",
      "                       max_features=None, max_leaf_nodes=None,\n",
      "                       min_impurity_decrease=0.0, min_impurity_split=None,\n",
      "                       min_samples_leaf=25, min_samples_split=50,\n",
      "                       min_weight_fraction_leaf=0.0, presort=False,\n",
      "                       random_state=None, splitter='best')\n"
     ]
    }
   ],
   "source": [
    "print(grid_search.best_estimator_)"
   ]
  },
  {
   "cell_type": "code",
   "execution_count": 182,
   "metadata": {
    "_uuid": "c4a7a1a69f9295af7bb4441f29ffbcbc067170b4",
    "colab": {
     "base_uri": "https://localhost:8080/",
     "height": 119
    },
    "colab_type": "code",
    "id": "I9u8XxRfUo4H",
    "outputId": "0fa8de8d-91b6-4022-d6a2-446efda962b8"
   },
   "outputs": [
    {
     "data": {
      "text/plain": [
       "DecisionTreeClassifier(class_weight=None, criterion='gini', max_depth=5,\n",
       "                       max_features=None, max_leaf_nodes=None,\n",
       "                       min_impurity_decrease=0.0, min_impurity_split=None,\n",
       "                       min_samples_leaf=25, min_samples_split=50,\n",
       "                       min_weight_fraction_leaf=0.0, presort=False,\n",
       "                       random_state=100, splitter='best')"
      ]
     },
     "execution_count": 182,
     "metadata": {
      "tags": []
     },
     "output_type": "execute_result"
    }
   ],
   "source": [
    "# model with optimal hyperparameters\n",
    "clf_gini = DecisionTreeClassifier(criterion = \"gini\", \n",
    "                                  random_state = 100,\n",
    "                                  max_depth=5, \n",
    "                                  min_samples_leaf=25,\n",
    "                                  min_samples_split=50)\n",
    "clf_gini.fit(X_lasso, y_tr)"
   ]
  },
  {
   "cell_type": "code",
   "execution_count": 183,
   "metadata": {
    "_uuid": "bbdd9c75873ce8dc5313f073aaea35b2413991cd",
    "colab": {
     "base_uri": "https://localhost:8080/",
     "height": 34
    },
    "colab_type": "code",
    "id": "rOnwDndoUo4K",
    "outputId": "029f8228-f8c1-4549-c77c-32a26b72b5a4"
   },
   "outputs": [
    {
     "name": "stdout",
     "output_type": "stream",
     "text": [
      "Accuracy Score for Decision Tree Final Model : 0.8714587268081324\n"
     ]
    }
   ],
   "source": [
    "# accuracy score\n",
    "print ('Accuracy Score for Decision Tree Final Model :',clf_gini.score(X_test,y_test))"
   ]
  },
  {
   "cell_type": "markdown",
   "metadata": {
    "_uuid": "1816dbc5ce22199e08f2614d9250f3fa1d8bda40",
    "colab_type": "text",
    "id": "eic5MkxVUo4L"
   },
   "source": [
    "#### Summary - Decision Tress\n",
    "* Getting around 87% accuracy \n",
    "* Confusion matix shows lot of false positives still exist.\n",
    "* 31 Features were selected for Model Building"
   ]
  },
  {
   "cell_type": "markdown",
   "metadata": {
    "_uuid": "35d0a6f7828a208529bf0d1fa6735bfe278ff8aa",
    "colab_type": "text",
    "id": "dJthTjqhUo4L"
   },
   "source": [
    "### Random Forest"
   ]
  },
  {
   "cell_type": "markdown",
   "metadata": {
    "_uuid": "19b83b50ce79123485ea2d5688506578364672c4",
    "colab_type": "text",
    "id": "hGlGJB3HUo4M"
   },
   "source": [
    "Random Forest with Default Hyperparameters"
   ]
  },
  {
   "cell_type": "code",
   "execution_count": 184,
   "metadata": {
    "_uuid": "ce6e6b06f585e7f08a5d984fc0490f5c9d0c3598",
    "colab": {
     "base_uri": "https://localhost:8080/",
     "height": 34
    },
    "colab_type": "code",
    "id": "HT_6bqjmUo4M",
    "outputId": "4ef010a9-9cd3-423b-9a61-f56b6825aeef"
   },
   "outputs": [
    {
     "name": "stdout",
     "output_type": "stream",
     "text": [
      "Randon Forest Accuracy with Default Hyperparameter 0.9227863570714365\n"
     ]
    }
   ],
   "source": [
    "from sklearn.ensemble import RandomForestClassifier\n",
    "from sklearn import metrics\n",
    "\n",
    "model_rf = RandomForestClassifier()\n",
    "model_rf.fit(X_lasso, y_tr)\n",
    "\n",
    "# Make predictions\n",
    "prediction_test = model_rf.predict(X_test)\n",
    "print ('Randon Forest Accuracy with Default Hyperparameter',metrics.accuracy_score(y_test, prediction_test))"
   ]
  },
  {
   "cell_type": "code",
   "execution_count": 185,
   "metadata": {
    "_uuid": "344057891fe823e87d2e2f20837d0b1072921be5",
    "colab": {
     "base_uri": "https://localhost:8080/",
     "height": 170
    },
    "colab_type": "code",
    "id": "3fD0AblCUo4O",
    "outputId": "f8384e88-e2f6-47b4-f945-bc196f9f62aa"
   },
   "outputs": [
    {
     "name": "stdout",
     "output_type": "stream",
     "text": [
      "              precision    recall  f1-score   support\n",
      "\n",
      "           0       0.97      0.95      0.96      8272\n",
      "           1       0.52      0.63      0.57       729\n",
      "\n",
      "    accuracy                           0.92      9001\n",
      "   macro avg       0.74      0.79      0.76      9001\n",
      "weighted avg       0.93      0.92      0.93      9001\n",
      "\n"
     ]
    }
   ],
   "source": [
    "print(classification_report(y_test,prediction_test))"
   ]
  },
  {
   "cell_type": "code",
   "execution_count": 186,
   "metadata": {
    "_uuid": "8c0da434eeb1b795556ea2057969959860d698b1",
    "colab": {
     "base_uri": "https://localhost:8080/",
     "height": 51
    },
    "colab_type": "code",
    "id": "xWUCCGtXUo4P",
    "outputId": "1d350538-9b1b-4002-bc18-4c66689b9128"
   },
   "outputs": [
    {
     "name": "stdout",
     "output_type": "stream",
     "text": [
      "[[7849  423]\n",
      " [ 272  457]]\n"
     ]
    }
   ],
   "source": [
    "# Printing confusion matrix\n",
    "print(confusion_matrix(y_test, prediction_test))"
   ]
  },
  {
   "cell_type": "markdown",
   "metadata": {
    "_uuid": "88ee5776310528b4e738519df8a9803af7bafe78",
    "colab_type": "text",
    "id": "reG-lJckUo4R"
   },
   "source": [
    "#### Hyperparameter Tuning"
   ]
  },
  {
   "cell_type": "markdown",
   "metadata": {
    "_uuid": "ec7d9392d6dd8f007713b134099f2c9918b9a34b",
    "colab_type": "text",
    "id": "ubOmkDMhUo4T"
   },
   "source": [
    "Tuning max_depth"
   ]
  },
  {
   "cell_type": "code",
   "execution_count": 187,
   "metadata": {
    "_uuid": "5a359adfc32733bf1ffbe4ccc9d1436a5d4fe252",
    "colab": {
     "base_uri": "https://localhost:8080/",
     "height": 306
    },
    "colab_type": "code",
    "id": "oiTkUZ9wUo4T",
    "outputId": "0e2893a3-b226-4db8-9841-59c77f92c480"
   },
   "outputs": [
    {
     "data": {
      "text/plain": [
       "GridSearchCV(cv=5, error_score='raise-deprecating',\n",
       "             estimator=RandomForestClassifier(bootstrap=True, class_weight=None,\n",
       "                                              criterion='gini', max_depth=None,\n",
       "                                              max_features='auto',\n",
       "                                              max_leaf_nodes=None,\n",
       "                                              min_impurity_decrease=0.0,\n",
       "                                              min_impurity_split=None,\n",
       "                                              min_samples_leaf=1,\n",
       "                                              min_samples_split=2,\n",
       "                                              min_weight_fraction_leaf=0.0,\n",
       "                                              n_estimators='warn', n_jobs=None,\n",
       "                                              oob_score=False,\n",
       "                                              random_state=None, verbose=0,\n",
       "                                              warm_start=False),\n",
       "             iid='warn', n_jobs=None, param_grid={'max_depth': range(2, 20, 5)},\n",
       "             pre_dispatch='2*n_jobs', refit=True, return_train_score=True,\n",
       "             scoring='accuracy', verbose=0)"
      ]
     },
     "execution_count": 187,
     "metadata": {
      "tags": []
     },
     "output_type": "execute_result"
    }
   ],
   "source": [
    "# GridSearchCV to find optimal n_estimators\n",
    "from sklearn.model_selection import KFold\n",
    "from sklearn.model_selection import GridSearchCV\n",
    "\n",
    "\n",
    "# specify number of folds for k-fold CV\n",
    "n_folds = 5\n",
    "\n",
    "# parameters to build the model on\n",
    "parameters = {'max_depth': range(2, 20, 5)}\n",
    "\n",
    "# instantiate the model\n",
    "rf = RandomForestClassifier()\n",
    "\n",
    "\n",
    "# fit tree on training data\n",
    "rf = GridSearchCV(rf, parameters, \n",
    "                    cv=n_folds, \n",
    "                   scoring=\"accuracy\", return_train_score=True)\n",
    "rf.fit(X_lasso, y_tr)"
   ]
  },
  {
   "cell_type": "code",
   "execution_count": 188,
   "metadata": {
    "_uuid": "f9323e22eaf07252cf0174ade82d06bc39bb3a6a",
    "colab": {
     "base_uri": "https://localhost:8080/",
     "height": 261
    },
    "colab_type": "code",
    "id": "JFiEVevvUo4V",
    "outputId": "40507a27-7556-43d5-8152-66dd16550247"
   },
   "outputs": [
    {
     "data": {
      "text/html": [
       "<div>\n",
       "<style scoped>\n",
       "    .dataframe tbody tr th:only-of-type {\n",
       "        vertical-align: middle;\n",
       "    }\n",
       "\n",
       "    .dataframe tbody tr th {\n",
       "        vertical-align: top;\n",
       "    }\n",
       "\n",
       "    .dataframe thead th {\n",
       "        text-align: right;\n",
       "    }\n",
       "</style>\n",
       "<table border=\"1\" class=\"dataframe\">\n",
       "  <thead>\n",
       "    <tr style=\"text-align: right;\">\n",
       "      <th></th>\n",
       "      <th>mean_fit_time</th>\n",
       "      <th>std_fit_time</th>\n",
       "      <th>mean_score_time</th>\n",
       "      <th>std_score_time</th>\n",
       "      <th>param_max_depth</th>\n",
       "      <th>params</th>\n",
       "      <th>split0_test_score</th>\n",
       "      <th>split1_test_score</th>\n",
       "      <th>split2_test_score</th>\n",
       "      <th>split3_test_score</th>\n",
       "      <th>split4_test_score</th>\n",
       "      <th>mean_test_score</th>\n",
       "      <th>std_test_score</th>\n",
       "      <th>rank_test_score</th>\n",
       "      <th>split0_train_score</th>\n",
       "      <th>split1_train_score</th>\n",
       "      <th>split2_train_score</th>\n",
       "      <th>split3_train_score</th>\n",
       "      <th>split4_train_score</th>\n",
       "      <th>mean_train_score</th>\n",
       "      <th>std_train_score</th>\n",
       "    </tr>\n",
       "  </thead>\n",
       "  <tbody>\n",
       "    <tr>\n",
       "      <th>0</th>\n",
       "      <td>0.24</td>\n",
       "      <td>0.00</td>\n",
       "      <td>0.01</td>\n",
       "      <td>0.00</td>\n",
       "      <td>2</td>\n",
       "      <td>{'max_depth': 2}</td>\n",
       "      <td>0.84</td>\n",
       "      <td>0.85</td>\n",
       "      <td>0.82</td>\n",
       "      <td>0.81</td>\n",
       "      <td>0.81</td>\n",
       "      <td>0.83</td>\n",
       "      <td>0.02</td>\n",
       "      <td>4</td>\n",
       "      <td>0.86</td>\n",
       "      <td>0.85</td>\n",
       "      <td>0.82</td>\n",
       "      <td>0.81</td>\n",
       "      <td>0.81</td>\n",
       "      <td>0.83</td>\n",
       "      <td>0.02</td>\n",
       "    </tr>\n",
       "    <tr>\n",
       "      <th>1</th>\n",
       "      <td>0.60</td>\n",
       "      <td>0.02</td>\n",
       "      <td>0.01</td>\n",
       "      <td>0.00</td>\n",
       "      <td>7</td>\n",
       "      <td>{'max_depth': 7}</td>\n",
       "      <td>0.88</td>\n",
       "      <td>0.90</td>\n",
       "      <td>0.90</td>\n",
       "      <td>0.90</td>\n",
       "      <td>0.90</td>\n",
       "      <td>0.90</td>\n",
       "      <td>0.01</td>\n",
       "      <td>3</td>\n",
       "      <td>0.91</td>\n",
       "      <td>0.91</td>\n",
       "      <td>0.91</td>\n",
       "      <td>0.91</td>\n",
       "      <td>0.90</td>\n",
       "      <td>0.91</td>\n",
       "      <td>0.00</td>\n",
       "    </tr>\n",
       "    <tr>\n",
       "      <th>2</th>\n",
       "      <td>0.88</td>\n",
       "      <td>0.03</td>\n",
       "      <td>0.01</td>\n",
       "      <td>0.00</td>\n",
       "      <td>12</td>\n",
       "      <td>{'max_depth': 12}</td>\n",
       "      <td>0.92</td>\n",
       "      <td>0.93</td>\n",
       "      <td>0.94</td>\n",
       "      <td>0.93</td>\n",
       "      <td>0.94</td>\n",
       "      <td>0.93</td>\n",
       "      <td>0.01</td>\n",
       "      <td>2</td>\n",
       "      <td>0.97</td>\n",
       "      <td>0.96</td>\n",
       "      <td>0.96</td>\n",
       "      <td>0.96</td>\n",
       "      <td>0.96</td>\n",
       "      <td>0.96</td>\n",
       "      <td>0.00</td>\n",
       "    </tr>\n",
       "    <tr>\n",
       "      <th>3</th>\n",
       "      <td>1.03</td>\n",
       "      <td>0.01</td>\n",
       "      <td>0.01</td>\n",
       "      <td>0.00</td>\n",
       "      <td>17</td>\n",
       "      <td>{'max_depth': 17}</td>\n",
       "      <td>0.93</td>\n",
       "      <td>0.95</td>\n",
       "      <td>0.95</td>\n",
       "      <td>0.95</td>\n",
       "      <td>0.95</td>\n",
       "      <td>0.95</td>\n",
       "      <td>0.01</td>\n",
       "      <td>1</td>\n",
       "      <td>0.99</td>\n",
       "      <td>0.99</td>\n",
       "      <td>0.98</td>\n",
       "      <td>0.99</td>\n",
       "      <td>0.98</td>\n",
       "      <td>0.99</td>\n",
       "      <td>0.00</td>\n",
       "    </tr>\n",
       "  </tbody>\n",
       "</table>\n",
       "</div>"
      ],
      "text/plain": [
       "   mean_fit_time  std_fit_time  ...  mean_train_score  std_train_score\n",
       "0           0.24          0.00  ...              0.83             0.02\n",
       "1           0.60          0.02  ...              0.91             0.00\n",
       "2           0.88          0.03  ...              0.96             0.00\n",
       "3           1.03          0.01  ...              0.99             0.00\n",
       "\n",
       "[4 rows x 21 columns]"
      ]
     },
     "execution_count": 188,
     "metadata": {
      "tags": []
     },
     "output_type": "execute_result"
    }
   ],
   "source": [
    "# scores of GridSearch CV\n",
    "scores = rf.cv_results_\n",
    "pd.DataFrame(scores).head()"
   ]
  },
  {
   "cell_type": "code",
   "execution_count": 189,
   "metadata": {
    "_uuid": "0d97a557840c53d8fd0614e678eacdeea1e41174",
    "colab": {
     "base_uri": "https://localhost:8080/",
     "height": 284
    },
    "colab_type": "code",
    "id": "w5A_GD3UUo4Y",
    "outputId": "9cd75781-2268-4fab-9763-4ebdd2150280"
   },
   "outputs": [
    {
     "data": {
      "image/png": "[encoded data removed]",
      "text/plain": [
       "<Figure size 432x288 with 1 Axes>"
      ]
     },
     "metadata": {
      "tags": []
     },
     "output_type": "display_data"
    }
   ],
   "source": [
    "# plotting accuracies with max_depth\n",
    "plt.figure()\n",
    "plt.plot(scores[\"param_max_depth\"], \n",
    "         scores[\"mean_train_score\"], \n",
    "         label=\"training accuracy\")\n",
    "plt.plot(scores[\"param_max_depth\"], \n",
    "         scores[\"mean_test_score\"], \n",
    "         label=\"test accuracy\")\n",
    "plt.xlabel(\"max_depth\")\n",
    "plt.ylabel(\"Accuracy\")\n",
    "plt.legend()\n",
    "plt.show()"
   ]
  },
  {
   "cell_type": "markdown",
   "metadata": {
    "_uuid": "e2c9897d3ccae7e2dd21e700d07b9dee73f84d75",
    "colab_type": "text",
    "id": "vFjso-HbUo4f"
   },
   "source": [
    "Tuning min_samples_leaf"
   ]
  },
  {
   "cell_type": "code",
   "execution_count": 190,
   "metadata": {
    "_uuid": "58c4419d6ab33d6094aca56e757380c49521c6e4",
    "colab": {
     "base_uri": "https://localhost:8080/",
     "height": 323
    },
    "colab_type": "code",
    "id": "EuePBbGgUo4g",
    "outputId": "5ded5e8f-c0f1-48cb-b103-b643800618d9"
   },
   "outputs": [
    {
     "data": {
      "text/plain": [
       "GridSearchCV(cv=5, error_score='raise-deprecating',\n",
       "             estimator=RandomForestClassifier(bootstrap=True, class_weight=None,\n",
       "                                              criterion='gini', max_depth=None,\n",
       "                                              max_features='auto',\n",
       "                                              max_leaf_nodes=None,\n",
       "                                              min_impurity_decrease=0.0,\n",
       "                                              min_impurity_split=None,\n",
       "                                              min_samples_leaf=1,\n",
       "                                              min_samples_split=2,\n",
       "                                              min_weight_fraction_leaf=0.0,\n",
       "                                              n_estimators='warn', n_jobs=None,\n",
       "                                              oob_score=False,\n",
       "                                              random_state=None, verbose=0,\n",
       "                                              warm_start=False),\n",
       "             iid='warn', n_jobs=None,\n",
       "             param_grid={'min_samples_leaf': range(50, 400, 10)},\n",
       "             pre_dispatch='2*n_jobs', refit=True, return_train_score=True,\n",
       "             scoring='accuracy', verbose=0)"
      ]
     },
     "execution_count": 190,
     "metadata": {
      "tags": []
     },
     "output_type": "execute_result"
    }
   ],
   "source": [
    "# GridSearchCV to find optimal min_samples_leaf\n",
    "from sklearn.model_selection import KFold\n",
    "from sklearn.model_selection import GridSearchCV\n",
    "\n",
    "\n",
    "# specify number of folds for k-fold CV\n",
    "n_folds = 5\n",
    "\n",
    "# parameters to build the model on\n",
    "parameters = {'min_samples_leaf': range(50, 400, 10)}\n",
    "\n",
    "# instantiate the model\n",
    "rf = RandomForestClassifier()\n",
    "\n",
    "\n",
    "# fit tree on training data\n",
    "rf = GridSearchCV(rf, parameters, \n",
    "                    cv=n_folds, \n",
    "                   scoring=\"accuracy\", return_train_score=True)\n",
    "rf.fit(X_lasso, y_tr)"
   ]
  },
  {
   "cell_type": "code",
   "execution_count": 191,
   "metadata": {
    "_uuid": "58c31c3bd4959696733948b36f059565db0f3d72",
    "colab": {
     "base_uri": "https://localhost:8080/",
     "height": 284
    },
    "colab_type": "code",
    "id": "DEzcbbS4Uo4i",
    "outputId": "d23e5728-6dda-434b-a69d-4307fb5063fa"
   },
   "outputs": [
    {
     "data": {
      "image/png": "[encoded data removed]",
      "text/plain": [
       "<Figure size 432x288 with 1 Axes>"
      ]
     },
     "metadata": {
      "tags": []
     },
     "output_type": "display_data"
    }
   ],
   "source": [
    "# scores of GridSearch CV\n",
    "scores = rf.cv_results_\n",
    "\n",
    "# plotting accuracies with min_samples_leaf\n",
    "plt.figure()\n",
    "plt.plot(scores[\"param_min_samples_leaf\"], \n",
    "         scores[\"mean_train_score\"], \n",
    "         label=\"training accuracy\")\n",
    "plt.plot(scores[\"param_min_samples_leaf\"], \n",
    "         scores[\"mean_test_score\"], \n",
    "         label=\"test accuracy\")\n",
    "plt.xlabel(\"min_samples_leaf\")\n",
    "plt.ylabel(\"Accuracy\")\n",
    "plt.legend()\n",
    "plt.show()"
   ]
  },
  {
   "cell_type": "markdown",
   "metadata": {
    "_uuid": "6a82e7888a9920be3d6a4ba78092de0eaac2303f",
    "colab_type": "text",
    "id": "_k0UQIgpUo4k"
   },
   "source": [
    "Tuning min_samples_split"
   ]
  },
  {
   "cell_type": "code",
   "execution_count": 192,
   "metadata": {
    "_uuid": "4c4bc2f74ebe96e26e936634abfbae77de548e3a",
    "colab": {
     "base_uri": "https://localhost:8080/",
     "height": 323
    },
    "colab_type": "code",
    "id": "W6CuJkshUo4k",
    "outputId": "966f7f87-d47a-434a-ba21-be7cb2b347b1"
   },
   "outputs": [
    {
     "data": {
      "text/plain": [
       "GridSearchCV(cv=5, error_score='raise-deprecating',\n",
       "             estimator=RandomForestClassifier(bootstrap=True, class_weight=None,\n",
       "                                              criterion='gini', max_depth=None,\n",
       "                                              max_features='auto',\n",
       "                                              max_leaf_nodes=None,\n",
       "                                              min_impurity_decrease=0.0,\n",
       "                                              min_impurity_split=None,\n",
       "                                              min_samples_leaf=1,\n",
       "                                              min_samples_split=2,\n",
       "                                              min_weight_fraction_leaf=0.0,\n",
       "                                              n_estimators='warn', n_jobs=None,\n",
       "                                              oob_score=False,\n",
       "                                              random_state=None, verbose=0,\n",
       "                                              warm_start=False),\n",
       "             iid='warn', n_jobs=None,\n",
       "             param_grid={'min_samples_split': range(100, 500, 25)},\n",
       "             pre_dispatch='2*n_jobs', refit=True, return_train_score=True,\n",
       "             scoring='accuracy', verbose=0)"
      ]
     },
     "execution_count": 192,
     "metadata": {
      "tags": []
     },
     "output_type": "execute_result"
    }
   ],
   "source": [
    "# GridSearchCV to find optimal min_samples_split\n",
    "from sklearn.model_selection import KFold\n",
    "from sklearn.model_selection import GridSearchCV\n",
    "\n",
    "\n",
    "# specify number of folds for k-fold CV\n",
    "n_folds = 5\n",
    "\n",
    "# parameters to build the model on\n",
    "parameters = {'min_samples_split': range(100, 500, 25)}\n",
    "\n",
    "# instantiate the model\n",
    "rf = RandomForestClassifier()\n",
    "\n",
    "\n",
    "# fit tree on training data\n",
    "rf = GridSearchCV(rf, parameters, \n",
    "                    cv=n_folds, \n",
    "                   scoring=\"accuracy\", return_train_score=True)\n",
    "rf.fit(X_lasso, y_tr)"
   ]
  },
  {
   "cell_type": "code",
   "execution_count": 193,
   "metadata": {
    "_uuid": "e6fed4068746dff0d947a7e28c824683012b0edc",
    "colab": {
     "base_uri": "https://localhost:8080/",
     "height": 284
    },
    "colab_type": "code",
    "id": "224lgfplUo4m",
    "outputId": "22064d63-f4d9-474a-e0dc-fa3959345adc"
   },
   "outputs": [
    {
     "data": {
      "image/png": "[encoded data removed]",
      "text/plain": [
       "<Figure size 432x288 with 1 Axes>"
      ]
     },
     "metadata": {
      "tags": []
     },
     "output_type": "display_data"
    }
   ],
   "source": [
    "# scores of GridSearch CV\n",
    "scores = rf.cv_results_\n",
    "\n",
    "# plotting accuracies with min_samples_split\n",
    "plt.figure()\n",
    "plt.plot(scores[\"param_min_samples_split\"], \n",
    "         scores[\"mean_train_score\"], \n",
    "         label=\"training accuracy\")\n",
    "plt.plot(scores[\"param_min_samples_split\"], \n",
    "         scores[\"mean_test_score\"], \n",
    "         label=\"test accuracy\")\n",
    "plt.xlabel(\"min_samples_split\")\n",
    "plt.ylabel(\"Accuracy\")\n",
    "plt.legend()\n",
    "plt.show()"
   ]
  },
  {
   "cell_type": "markdown",
   "metadata": {
    "_uuid": "42c85f3fd013f21ebbe0333e3d4dfd52b87d01ec",
    "colab_type": "text",
    "id": "zlC_-bNtUo4o"
   },
   "source": [
    "Grid Search to Find Optimal Hyperparameters"
   ]
  },
  {
   "cell_type": "code",
   "execution_count": 0,
   "metadata": {
    "_uuid": "91929c980172b109ba625b542b66b1c4050c6028",
    "colab": {},
    "colab_type": "code",
    "id": "EItYpDRTUo4p"
   },
   "outputs": [],
   "source": [
    "# Create the parameter grid based on the results of random search \n",
    "param_grid = {\n",
    "    'max_depth': [4,8,10],\n",
    "    'min_samples_leaf': range(100, 300, 100),\n",
    "    'min_samples_split': range(200, 500, 100),\n",
    "    'n_estimators': [500,700], \n",
    "    'max_features': [10,20,25]\n",
    "}\n",
    "# Create a based model\n",
    "rf = RandomForestClassifier()\n",
    "# Instantiate the grid search model\n",
    "grid_search = GridSearchCV(estimator = rf, param_grid = param_grid, \n",
    "                          cv = 3, n_jobs = -1,verbose = 1, return_train_score=True)"
   ]
  },
  {
   "cell_type": "code",
   "execution_count": 0,
   "metadata": {
    "_uuid": "12f4eda6216762bfc37d923900ad5cdb6d18a4e6",
    "colab": {},
    "colab_type": "code",
    "id": "we3I8P21Uo4u"
   },
   "outputs": [],
   "source": [
    "from sklearn.ensemble import RandomForestClassifier\n",
    "from sklearn import metrics\n",
    "X_train, X_test, y_train, y_test = train_test_split(X, y, test_size=0.2, random_state=101)\n",
    "\n",
    "model_rf = RandomForestClassifier(bootstrap=True,\n",
    "                                  max_depth=10,\n",
    "                                  min_samples_leaf=100, \n",
    "                                  min_samples_split=200,\n",
    "                                  n_estimators=1000 ,\n",
    "                                  oob_score = True, n_jobs = -1,\n",
    "                                  random_state =50,\n",
    "                                  max_features = 15,\n",
    "                                  max_leaf_nodes = 30)\n",
    "model_rf.fit(X_train, y_train)\n",
    "\n",
    "# Make predictions\n",
    "prediction_test = model_rf.predict(X_test)"
   ]
  },
  {
   "cell_type": "code",
   "execution_count": 196,
   "metadata": {
    "_uuid": "22d3d5776ceefdbd494c499f726d105122fa9e4c",
    "colab": {
     "base_uri": "https://localhost:8080/",
     "height": 204
    },
    "colab_type": "code",
    "id": "GfsHh-yTUo4w",
    "outputId": "97f73f11-927a-425d-9c60-aeaae9c1b965"
   },
   "outputs": [
    {
     "name": "stdout",
     "output_type": "stream",
     "text": [
      "              precision    recall  f1-score   support\n",
      "\n",
      "           0       0.95      0.99      0.97      5493\n",
      "           1       0.73      0.41      0.52       508\n",
      "\n",
      "    accuracy                           0.94      6001\n",
      "   macro avg       0.84      0.70      0.75      6001\n",
      "weighted avg       0.93      0.94      0.93      6001\n",
      "\n",
      "[[5415   78]\n",
      " [ 300  208]]\n"
     ]
    }
   ],
   "source": [
    "# evaluation metrics\n",
    "from sklearn.metrics import classification_report,confusion_matrix\n",
    "print(classification_report(y_test,prediction_test))\n",
    "print(confusion_matrix(y_test,prediction_test))"
   ]
  },
  {
   "cell_type": "code",
   "execution_count": 197,
   "metadata": {
    "_uuid": "5e2b9c1775ed1e4c98941dac4cf738b9288233f2",
    "colab": {
     "base_uri": "https://localhost:8080/",
     "height": 34
    },
    "colab_type": "code",
    "id": "4CgiIAY7Uo40",
    "outputId": "002d320a-f753-4571-a7bc-50fec7d7cf14"
   },
   "outputs": [
    {
     "name": "stdout",
     "output_type": "stream",
     "text": [
      "Accuracy Score for Random Forest Final Model : 0.9370104982502916\n"
     ]
    }
   ],
   "source": [
    "# accuracy score\n",
    "print ('Accuracy Score for Random Forest Final Model :',metrics.accuracy_score(y_test, prediction_test))"
   ]
  },
  {
   "cell_type": "code",
   "execution_count": 198,
   "metadata": {
    "_uuid": "48b1b758a4dd3666eaeaecc77fd888bf90349fe3",
    "colab": {
     "base_uri": "https://localhost:8080/",
     "height": 286
    },
    "colab_type": "code",
    "id": "GHF4B9iGUo44",
    "outputId": "ac3838db-1392-4f0e-9d41-2271f0b62927"
   },
   "outputs": [
    {
     "data": {
      "text/plain": [
       "<matplotlib.axes._subplots.AxesSubplot at 0x7f5ac22ca240>"
      ]
     },
     "execution_count": 198,
     "metadata": {
      "tags": []
     },
     "output_type": "execute_result"
    },
    {
     "data": {
      "image/png": "[encoded data removed]",
      "text/plain": [
       "<Figure size 432x288 with 1 Axes>"
      ]
     },
     "metadata": {
      "tags": []
     },
     "output_type": "display_data"
    }
   ],
   "source": [
    "X = df_telecom_churn\n",
    "# Scaling all the variables to a range of 0 to 1\n",
    "#from sklearn.preprocessing import MinMaxScaler\n",
    "features = X.columns.values\n",
    "X = pd.DataFrame(scaler.transform(X))\n",
    "X.columns = features\n",
    "\n",
    "importances = model_rf.feature_importances_\n",
    "weights = pd.Series(importances,\n",
    "                 index=X.columns.values)\n",
    "weights.sort_values()[-10:].plot(kind = 'barh')"
   ]
  },
  {
   "cell_type": "markdown",
   "metadata": {
    "_uuid": "3f64abf08c2367a79088807128d4063259f90d4d",
    "colab_type": "text",
    "id": "j4oKHU5hUo46"
   },
   "source": [
    "Observations:\n",
    "\n",
    "* From random forest algorithm, Local Incoming for Month 8, Average Revenue Per Customer for Month 8 and Max Recharge Amount for Month 8 are the most important predictor variables to predict churn.\n",
    "* The results from random forest are very similar to that of the logistic regression and in line to what we had expected from our EDA"
   ]
  },
  {
   "cell_type": "markdown",
   "metadata": {
    "_uuid": "be40e189b62a7f517ac851c4a57f45affcfede57",
    "colab_type": "text",
    "id": "trjjxRLcUo47"
   },
   "source": [
    "### Summary:\n",
    "* Very Less Amount of High Value customers are churning which is a good service indicator\n",
    "* Large no of Customers are new to Telecom Company and fall under < 5 Yr Tenure\n",
    "* Std Outgoing Calls and Revenue Per Customer are strong indicators of Churn\n",
    "* People with less than 4 Yrs of Tenure are more likely to Churn\n",
    "* Behaviour of Volume Based Cost is not a strong indicator of Churn\n",
    "* Max Recharge Amount could be a good Churn Indicator\n",
    "* Random Forest is the best method to Predict Churn followed by SVM, other models too do a fair job\n",
    "* Behaviour is 8 Month can be the base of Churn Analysis\n",
    "* Local Incoming and Outgoing Calls for 8th Month and Average Revenue in 8th Month are strong indicators of Churn Behaviour"
   ]
  }
 ],
 "metadata": {
  "accelerator": "GPU",
  "colab": {
   "collapsed_sections": [
    "eic5MkxVUo4L"
   ],
   "name": "telecom_churn_final.ipynb",
   "provenance": [],
   "version": "0.3.2"
  },
  "kernelspec": {
   "display_name": "Python 3",
   "language": "python",
   "name": "python3"
  },
  "language_info": {
   "codemirror_mode": {
    "name": "ipython",
    "version": 3
   },
   "file_extension": ".py",
   "mimetype": "text/x-python",
   "name": "python",
   "nbconvert_exporter": "python",
   "pygments_lexer": "ipython3",
   "version": "3.7.4"
  }
 },
 "nbformat": 4,
 "nbformat_minor": 1
}
